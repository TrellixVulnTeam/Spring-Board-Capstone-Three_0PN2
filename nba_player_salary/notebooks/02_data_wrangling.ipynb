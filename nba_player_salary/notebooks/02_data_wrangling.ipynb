{
 "cells": [
  {
   "cell_type": "code",
   "execution_count": null,
   "metadata": {},
   "outputs": [],
   "source": [
    "#import sqlite3\n",
    "#import pandas as pd\n",
    "#con = sqlite3.connect('basketball.sqlite')\n",
    "#cur = con.cursor()\n",
    "#rs = cur.execute(\"SELECT * FROM Player_Salary\")\n",
    "#df_player_salary = pd.DataFrame(rs.fetchall())\n",
    "#con.close()\n"
   ]
  },
  {
   "cell_type": "code",
   "execution_count": 1,
   "metadata": {
    "scrolled": true
   },
   "outputs": [
    {
     "name": "stdout",
     "output_type": "stream",
     "text": [
      "Requirement already satisfied: pycodestyle in c:\\anaconda\\lib\\site-packages (2.6.0)\n",
      "Collecting pycodestyle_magic\n",
      "  Downloading pycodestyle_magic-0.5-py2.py3-none-any.whl (9.5 kB)\n",
      "Installing collected packages: pycodestyle-magic\n",
      "Successfully installed pycodestyle-magic-0.5\n"
     ]
    },
    {
     "name": "stderr",
     "output_type": "stream",
     "text": [
      "WARNING: You are using pip version 20.1.1; however, version 21.1.2 is available.\n",
      "You should consider upgrading via the 'c:\\users\\nick\\documents\\github\\data-science-capstone-two\\nba_player_salary\\venv\\scripts\\python.exe -m pip install --upgrade pip' command.\n"
     ]
    }
   ],
   "source": [
    "!pip install pycodestyle pycodestyle_magic"
   ]
  },
  {
   "cell_type": "code",
   "execution_count": 4,
   "metadata": {},
   "outputs": [
    {
     "name": "stderr",
     "output_type": "stream",
     "text": [
      "UsageError: Cell magic `%%load_ext` not found (But line magic `%load_ext` exists, did you mean that instead?).\n"
     ]
    }
   ],
   "source": [
    "%%load_ext pycodestyle_magic"
   ]
  },
  {
   "cell_type": "code",
   "execution_count": 1,
   "metadata": {},
   "outputs": [],
   "source": [
    "from sqlalchemy import create_engine\n",
    "import pandas as pd\n",
    "engine = create_engine('sqlite:///basketball.sqlite')\n",
    "with engine.connect() as con:\n",
    "    rs = con.execute(\"SELECT * FROM Player_Salary\")\n",
    "    df_player_salary = pd.DataFrame(rs.fetchall())\n",
    "    df_player_salary.columns = rs.keys()\n"
   ]
  },
  {
   "cell_type": "code",
   "execution_count": 2,
   "metadata": {
    "scrolled": true
   },
   "outputs": [
    {
     "name": "stdout",
     "output_type": "stream",
     "text": [
      "  slugSeason       nameTeam         namePlayer    statusPlayer  isFinalSeason  \\\n",
      "0    2020-21  Atlanta Hawks  Bogdan Bogdanovic  current roster              0   \n",
      "1    2021-22  Atlanta Hawks  Bogdan Bogdanovic  current roster              0   \n",
      "2    2022-23  Atlanta Hawks  Bogdan Bogdanovic  current roster              0   \n",
      "3    2023-24  Atlanta Hawks  Bogdan Bogdanovic  current roster              1   \n",
      "4    2020-21  Atlanta Hawks    Brandon Goodwin  current roster              0   \n",
      "\n",
      "   isWaived  isOnRoster  isNonGuaranteed  isTeamOption  isPlayerOption  \\\n",
      "0         0           1                0             0               0   \n",
      "1         0           1                0             0               0   \n",
      "2         0           1                0             0               0   \n",
      "3         0           1                0             0               1   \n",
      "4         0           1                0             0               0   \n",
      "\n",
      "  typeContractDetail       value  \n",
      "0         Guaranteed  18000000.0  \n",
      "1         Guaranteed  18000000.0  \n",
      "2         Guaranteed  18000000.0  \n",
      "3      Player Option  18000000.0  \n",
      "4         Guaranteed   1701593.0  \n"
     ]
    }
   ],
   "source": [
    "print(df_player_salary.head())"
   ]
  },
  {
   "cell_type": "code",
   "execution_count": null,
   "metadata": {},
   "outputs": [],
   "source": []
  }
 ],
 "metadata": {
  "kernelspec": {
   "display_name": "Python 3",
   "language": "python",
   "name": "python3"
  },
  "language_info": {
   "codemirror_mode": {
    "name": "ipython",
    "version": 3
   },
   "file_extension": ".py",
   "mimetype": "text/x-python",
   "name": "python",
   "nbconvert_exporter": "python",
   "pygments_lexer": "ipython3",
   "version": "3.8.5"
  }
 },
 "nbformat": 4,
 "nbformat_minor": 4
}
