{
 "cells": [
  {
   "cell_type": "markdown",
   "id": "17b1fff2",
   "metadata": {},
   "source": [
    "# Imports"
   ]
  },
  {
   "cell_type": "code",
   "execution_count": 129,
   "id": "a0a55db5",
   "metadata": {},
   "outputs": [],
   "source": [
    "import pandas as pd\n",
    "import numpy as np\n",
    "import os\n",
    "import pickle\n",
    "import matplotlib.pyplot as plt\n",
    "import seaborn as sns\n",
    "from sklearn import __version__ as sklearn_version\n",
    "from sklearn.decomposition import PCA\n",
    "from sklearn.preprocessing import scale\n",
    "from sklearn.model_selection import train_test_split, cross_validate, GridSearchCV, learning_curve\n",
    "from sklearn.preprocessing import StandardScaler, MinMaxScaler\n",
    "from sklearn.dummy import DummyRegressor\n",
    "from sklearn.linear_model import LinearRegression\n",
    "from sklearn.ensemble import RandomForestRegressor\n",
    "from sklearn.neighbors import KNeighborsRegressor\n",
    "from sklearn.metrics import r2_score, mean_squared_error, mean_absolute_error\n",
    "from sklearn.pipeline import make_pipeline\n",
    "from sklearn.impute import SimpleImputer\n",
    "from sklearn.feature_selection import SelectKBest, f_regression\n",
    "import datetime"
   ]
  },
  {
   "cell_type": "markdown",
   "id": "bfb2cacc",
   "metadata": {},
   "source": [
    "# Load Data"
   ]
  },
  {
   "cell_type": "code",
   "execution_count": 3,
   "id": "46acc01e",
   "metadata": {},
   "outputs": [],
   "source": [
    "# load the data\n",
    "train = pd.read_csv('train.csv')\n",
    "test = pd.read_csv('test.csv')"
   ]
  },
  {
   "cell_type": "code",
   "execution_count": 4,
   "id": "9da899a5",
   "metadata": {},
   "outputs": [
    {
     "data": {
      "text/html": [
       "<div>\n",
       "<style scoped>\n",
       "    .dataframe tbody tr th:only-of-type {\n",
       "        vertical-align: middle;\n",
       "    }\n",
       "\n",
       "    .dataframe tbody tr th {\n",
       "        vertical-align: top;\n",
       "    }\n",
       "\n",
       "    .dataframe thead th {\n",
       "        text-align: right;\n",
       "    }\n",
       "</style>\n",
       "<table border=\"1\" class=\"dataframe\">\n",
       "  <thead>\n",
       "    <tr style=\"text-align: right;\">\n",
       "      <th></th>\n",
       "      <th>HEIGHT</th>\n",
       "      <th>WEIGHT</th>\n",
       "      <th>SEASON_EXP</th>\n",
       "      <th>PTS</th>\n",
       "      <th>AST</th>\n",
       "      <th>REB</th>\n",
       "      <th>PIE</th>\n",
       "      <th>current_avg_salary</th>\n",
       "      <th>age</th>\n",
       "      <th>year_played</th>\n",
       "      <th>...</th>\n",
       "      <th>JERSEY_46</th>\n",
       "      <th>JERSEY_51</th>\n",
       "      <th>JERSEY_54</th>\n",
       "      <th>JERSEY_55</th>\n",
       "      <th>JERSEY_67</th>\n",
       "      <th>JERSEY_77</th>\n",
       "      <th>JERSEY_81</th>\n",
       "      <th>JERSEY_88</th>\n",
       "      <th>JERSEY_95</th>\n",
       "      <th>JERSEY_99</th>\n",
       "    </tr>\n",
       "  </thead>\n",
       "  <tbody>\n",
       "    <tr>\n",
       "      <th>0</th>\n",
       "      <td>0.55</td>\n",
       "      <td>0.258993</td>\n",
       "      <td>0.058824</td>\n",
       "      <td>0.374214</td>\n",
       "      <td>0.133929</td>\n",
       "      <td>0.528169</td>\n",
       "      <td>0.696078</td>\n",
       "      <td>0.084580</td>\n",
       "      <td>0.047619</td>\n",
       "      <td>0.058824</td>\n",
       "      <td>...</td>\n",
       "      <td>0</td>\n",
       "      <td>0</td>\n",
       "      <td>0</td>\n",
       "      <td>0</td>\n",
       "      <td>0</td>\n",
       "      <td>0</td>\n",
       "      <td>0</td>\n",
       "      <td>0</td>\n",
       "      <td>0</td>\n",
       "      <td>0</td>\n",
       "    </tr>\n",
       "    <tr>\n",
       "      <th>1</th>\n",
       "      <td>0.95</td>\n",
       "      <td>0.848921</td>\n",
       "      <td>0.294118</td>\n",
       "      <td>0.138365</td>\n",
       "      <td>0.017857</td>\n",
       "      <td>0.274648</td>\n",
       "      <td>0.850490</td>\n",
       "      <td>0.076781</td>\n",
       "      <td>0.571429</td>\n",
       "      <td>0.294118</td>\n",
       "      <td>...</td>\n",
       "      <td>0</td>\n",
       "      <td>1</td>\n",
       "      <td>0</td>\n",
       "      <td>0</td>\n",
       "      <td>0</td>\n",
       "      <td>0</td>\n",
       "      <td>0</td>\n",
       "      <td>0</td>\n",
       "      <td>0</td>\n",
       "      <td>0</td>\n",
       "    </tr>\n",
       "    <tr>\n",
       "      <th>2</th>\n",
       "      <td>0.55</td>\n",
       "      <td>0.345324</td>\n",
       "      <td>0.588235</td>\n",
       "      <td>0.707547</td>\n",
       "      <td>0.491071</td>\n",
       "      <td>0.422535</td>\n",
       "      <td>0.835784</td>\n",
       "      <td>0.953707</td>\n",
       "      <td>0.523810</td>\n",
       "      <td>0.588235</td>\n",
       "      <td>...</td>\n",
       "      <td>0</td>\n",
       "      <td>0</td>\n",
       "      <td>0</td>\n",
       "      <td>0</td>\n",
       "      <td>0</td>\n",
       "      <td>0</td>\n",
       "      <td>0</td>\n",
       "      <td>0</td>\n",
       "      <td>0</td>\n",
       "      <td>0</td>\n",
       "    </tr>\n",
       "    <tr>\n",
       "      <th>3</th>\n",
       "      <td>0.75</td>\n",
       "      <td>0.776978</td>\n",
       "      <td>0.235294</td>\n",
       "      <td>0.940252</td>\n",
       "      <td>0.294643</td>\n",
       "      <td>0.809859</td>\n",
       "      <td>1.000000</td>\n",
       "      <td>0.710704</td>\n",
       "      <td>0.333333</td>\n",
       "      <td>0.352941</td>\n",
       "      <td>...</td>\n",
       "      <td>0</td>\n",
       "      <td>0</td>\n",
       "      <td>0</td>\n",
       "      <td>0</td>\n",
       "      <td>0</td>\n",
       "      <td>0</td>\n",
       "      <td>0</td>\n",
       "      <td>0</td>\n",
       "      <td>0</td>\n",
       "      <td>0</td>\n",
       "    </tr>\n",
       "    <tr>\n",
       "      <th>4</th>\n",
       "      <td>0.35</td>\n",
       "      <td>0.057554</td>\n",
       "      <td>0.176471</td>\n",
       "      <td>0.490566</td>\n",
       "      <td>0.455357</td>\n",
       "      <td>0.492958</td>\n",
       "      <td>0.789216</td>\n",
       "      <td>0.358982</td>\n",
       "      <td>0.190476</td>\n",
       "      <td>0.235294</td>\n",
       "      <td>...</td>\n",
       "      <td>0</td>\n",
       "      <td>0</td>\n",
       "      <td>0</td>\n",
       "      <td>0</td>\n",
       "      <td>0</td>\n",
       "      <td>0</td>\n",
       "      <td>0</td>\n",
       "      <td>0</td>\n",
       "      <td>0</td>\n",
       "      <td>0</td>\n",
       "    </tr>\n",
       "  </tbody>\n",
       "</table>\n",
       "<p>5 rows × 189 columns</p>\n",
       "</div>"
      ],
      "text/plain": [
       "   HEIGHT    WEIGHT  SEASON_EXP       PTS       AST       REB       PIE  \\\n",
       "0    0.55  0.258993    0.058824  0.374214  0.133929  0.528169  0.696078   \n",
       "1    0.95  0.848921    0.294118  0.138365  0.017857  0.274648  0.850490   \n",
       "2    0.55  0.345324    0.588235  0.707547  0.491071  0.422535  0.835784   \n",
       "3    0.75  0.776978    0.235294  0.940252  0.294643  0.809859  1.000000   \n",
       "4    0.35  0.057554    0.176471  0.490566  0.455357  0.492958  0.789216   \n",
       "\n",
       "   current_avg_salary       age  year_played  ...  JERSEY_46  JERSEY_51  \\\n",
       "0            0.084580  0.047619     0.058824  ...          0          0   \n",
       "1            0.076781  0.571429     0.294118  ...          0          1   \n",
       "2            0.953707  0.523810     0.588235  ...          0          0   \n",
       "3            0.710704  0.333333     0.352941  ...          0          0   \n",
       "4            0.358982  0.190476     0.235294  ...          0          0   \n",
       "\n",
       "   JERSEY_54  JERSEY_55  JERSEY_67  JERSEY_77  JERSEY_81  JERSEY_88  \\\n",
       "0          0          0          0          0          0          0   \n",
       "1          0          0          0          0          0          0   \n",
       "2          0          0          0          0          0          0   \n",
       "3          0          0          0          0          0          0   \n",
       "4          0          0          0          0          0          0   \n",
       "\n",
       "   JERSEY_95  JERSEY_99  \n",
       "0          0          0  \n",
       "1          0          0  \n",
       "2          0          0  \n",
       "3          0          0  \n",
       "4          0          0  \n",
       "\n",
       "[5 rows x 189 columns]"
      ]
     },
     "execution_count": 4,
     "metadata": {},
     "output_type": "execute_result"
    }
   ],
   "source": [
    "train.head()"
   ]
  },
  {
   "cell_type": "code",
   "execution_count": 5,
   "id": "c3b186c7",
   "metadata": {},
   "outputs": [
    {
     "data": {
      "text/html": [
       "<div>\n",
       "<style scoped>\n",
       "    .dataframe tbody tr th:only-of-type {\n",
       "        vertical-align: middle;\n",
       "    }\n",
       "\n",
       "    .dataframe tbody tr th {\n",
       "        vertical-align: top;\n",
       "    }\n",
       "\n",
       "    .dataframe thead th {\n",
       "        text-align: right;\n",
       "    }\n",
       "</style>\n",
       "<table border=\"1\" class=\"dataframe\">\n",
       "  <thead>\n",
       "    <tr style=\"text-align: right;\">\n",
       "      <th></th>\n",
       "      <th>HEIGHT</th>\n",
       "      <th>WEIGHT</th>\n",
       "      <th>SEASON_EXP</th>\n",
       "      <th>PTS</th>\n",
       "      <th>AST</th>\n",
       "      <th>REB</th>\n",
       "      <th>PIE</th>\n",
       "      <th>current_avg_salary</th>\n",
       "      <th>age</th>\n",
       "      <th>year_played</th>\n",
       "      <th>...</th>\n",
       "      <th>JERSEY_46</th>\n",
       "      <th>JERSEY_51</th>\n",
       "      <th>JERSEY_54</th>\n",
       "      <th>JERSEY_55</th>\n",
       "      <th>JERSEY_67</th>\n",
       "      <th>JERSEY_77</th>\n",
       "      <th>JERSEY_81</th>\n",
       "      <th>JERSEY_88</th>\n",
       "      <th>JERSEY_95</th>\n",
       "      <th>JERSEY_99</th>\n",
       "    </tr>\n",
       "  </thead>\n",
       "  <tbody>\n",
       "    <tr>\n",
       "      <th>0</th>\n",
       "      <td>0.55</td>\n",
       "      <td>0.395683</td>\n",
       "      <td>0.352941</td>\n",
       "      <td>0.273585</td>\n",
       "      <td>0.071429</td>\n",
       "      <td>0.387324</td>\n",
       "      <td>0.715686</td>\n",
       "      <td>0.164371</td>\n",
       "      <td>0.523810</td>\n",
       "      <td>0.352941</td>\n",
       "      <td>...</td>\n",
       "      <td>0</td>\n",
       "      <td>0</td>\n",
       "      <td>0</td>\n",
       "      <td>0</td>\n",
       "      <td>0</td>\n",
       "      <td>0</td>\n",
       "      <td>0</td>\n",
       "      <td>0</td>\n",
       "      <td>0</td>\n",
       "      <td>0</td>\n",
       "    </tr>\n",
       "    <tr>\n",
       "      <th>1</th>\n",
       "      <td>0.35</td>\n",
       "      <td>0.129496</td>\n",
       "      <td>0.058824</td>\n",
       "      <td>0.081761</td>\n",
       "      <td>0.035714</td>\n",
       "      <td>0.056338</td>\n",
       "      <td>0.625000</td>\n",
       "      <td>0.039371</td>\n",
       "      <td>0.285714</td>\n",
       "      <td>0.058824</td>\n",
       "      <td>...</td>\n",
       "      <td>0</td>\n",
       "      <td>0</td>\n",
       "      <td>0</td>\n",
       "      <td>0</td>\n",
       "      <td>0</td>\n",
       "      <td>0</td>\n",
       "      <td>0</td>\n",
       "      <td>0</td>\n",
       "      <td>0</td>\n",
       "      <td>0</td>\n",
       "    </tr>\n",
       "    <tr>\n",
       "      <th>2</th>\n",
       "      <td>0.40</td>\n",
       "      <td>0.237410</td>\n",
       "      <td>0.117647</td>\n",
       "      <td>0.433962</td>\n",
       "      <td>0.276786</td>\n",
       "      <td>0.161972</td>\n",
       "      <td>0.723039</td>\n",
       "      <td>0.039501</td>\n",
       "      <td>0.190476</td>\n",
       "      <td>0.117647</td>\n",
       "      <td>...</td>\n",
       "      <td>0</td>\n",
       "      <td>0</td>\n",
       "      <td>0</td>\n",
       "      <td>0</td>\n",
       "      <td>0</td>\n",
       "      <td>0</td>\n",
       "      <td>0</td>\n",
       "      <td>0</td>\n",
       "      <td>0</td>\n",
       "      <td>0</td>\n",
       "    </tr>\n",
       "    <tr>\n",
       "      <th>3</th>\n",
       "      <td>0.40</td>\n",
       "      <td>0.273381</td>\n",
       "      <td>0.176471</td>\n",
       "      <td>0.210692</td>\n",
       "      <td>0.125000</td>\n",
       "      <td>0.232394</td>\n",
       "      <td>0.715686</td>\n",
       "      <td>0.039233</td>\n",
       "      <td>0.380952</td>\n",
       "      <td>0.176471</td>\n",
       "      <td>...</td>\n",
       "      <td>0</td>\n",
       "      <td>0</td>\n",
       "      <td>0</td>\n",
       "      <td>0</td>\n",
       "      <td>0</td>\n",
       "      <td>0</td>\n",
       "      <td>0</td>\n",
       "      <td>0</td>\n",
       "      <td>0</td>\n",
       "      <td>0</td>\n",
       "    </tr>\n",
       "    <tr>\n",
       "      <th>4</th>\n",
       "      <td>0.45</td>\n",
       "      <td>0.129496</td>\n",
       "      <td>0.058824</td>\n",
       "      <td>0.047170</td>\n",
       "      <td>0.000000</td>\n",
       "      <td>0.035211</td>\n",
       "      <td>0.901961</td>\n",
       "      <td>0.035448</td>\n",
       "      <td>0.095238</td>\n",
       "      <td>0.058824</td>\n",
       "      <td>...</td>\n",
       "      <td>0</td>\n",
       "      <td>0</td>\n",
       "      <td>0</td>\n",
       "      <td>0</td>\n",
       "      <td>0</td>\n",
       "      <td>0</td>\n",
       "      <td>0</td>\n",
       "      <td>0</td>\n",
       "      <td>0</td>\n",
       "      <td>0</td>\n",
       "    </tr>\n",
       "  </tbody>\n",
       "</table>\n",
       "<p>5 rows × 189 columns</p>\n",
       "</div>"
      ],
      "text/plain": [
       "   HEIGHT    WEIGHT  SEASON_EXP       PTS       AST       REB       PIE  \\\n",
       "0    0.55  0.395683    0.352941  0.273585  0.071429  0.387324  0.715686   \n",
       "1    0.35  0.129496    0.058824  0.081761  0.035714  0.056338  0.625000   \n",
       "2    0.40  0.237410    0.117647  0.433962  0.276786  0.161972  0.723039   \n",
       "3    0.40  0.273381    0.176471  0.210692  0.125000  0.232394  0.715686   \n",
       "4    0.45  0.129496    0.058824  0.047170  0.000000  0.035211  0.901961   \n",
       "\n",
       "   current_avg_salary       age  year_played  ...  JERSEY_46  JERSEY_51  \\\n",
       "0            0.164371  0.523810     0.352941  ...          0          0   \n",
       "1            0.039371  0.285714     0.058824  ...          0          0   \n",
       "2            0.039501  0.190476     0.117647  ...          0          0   \n",
       "3            0.039233  0.380952     0.176471  ...          0          0   \n",
       "4            0.035448  0.095238     0.058824  ...          0          0   \n",
       "\n",
       "   JERSEY_54  JERSEY_55  JERSEY_67  JERSEY_77  JERSEY_81  JERSEY_88  \\\n",
       "0          0          0          0          0          0          0   \n",
       "1          0          0          0          0          0          0   \n",
       "2          0          0          0          0          0          0   \n",
       "3          0          0          0          0          0          0   \n",
       "4          0          0          0          0          0          0   \n",
       "\n",
       "   JERSEY_95  JERSEY_99  \n",
       "0          0          0  \n",
       "1          0          0  \n",
       "2          0          0  \n",
       "3          0          0  \n",
       "4          0          0  \n",
       "\n",
       "[5 rows x 189 columns]"
      ]
     },
     "execution_count": 5,
     "metadata": {},
     "output_type": "execute_result"
    }
   ],
   "source": [
    "test.head()"
   ]
  },
  {
   "cell_type": "markdown",
   "id": "2ae02602",
   "metadata": {},
   "source": [
    "# Split data"
   ]
  },
  {
   "cell_type": "code",
   "execution_count": 6,
   "id": "f9093831",
   "metadata": {},
   "outputs": [],
   "source": [
    "X_train = train.drop(columns='current_avg_salary')"
   ]
  },
  {
   "cell_type": "code",
   "execution_count": 7,
   "id": "5b14fd35",
   "metadata": {},
   "outputs": [
    {
     "data": {
      "text/html": [
       "<div>\n",
       "<style scoped>\n",
       "    .dataframe tbody tr th:only-of-type {\n",
       "        vertical-align: middle;\n",
       "    }\n",
       "\n",
       "    .dataframe tbody tr th {\n",
       "        vertical-align: top;\n",
       "    }\n",
       "\n",
       "    .dataframe thead th {\n",
       "        text-align: right;\n",
       "    }\n",
       "</style>\n",
       "<table border=\"1\" class=\"dataframe\">\n",
       "  <thead>\n",
       "    <tr style=\"text-align: right;\">\n",
       "      <th></th>\n",
       "      <th>HEIGHT</th>\n",
       "      <th>WEIGHT</th>\n",
       "      <th>SEASON_EXP</th>\n",
       "      <th>PTS</th>\n",
       "      <th>AST</th>\n",
       "      <th>REB</th>\n",
       "      <th>PIE</th>\n",
       "      <th>age</th>\n",
       "      <th>year_played</th>\n",
       "      <th>SCHOOL_Arizona</th>\n",
       "      <th>...</th>\n",
       "      <th>JERSEY_46</th>\n",
       "      <th>JERSEY_51</th>\n",
       "      <th>JERSEY_54</th>\n",
       "      <th>JERSEY_55</th>\n",
       "      <th>JERSEY_67</th>\n",
       "      <th>JERSEY_77</th>\n",
       "      <th>JERSEY_81</th>\n",
       "      <th>JERSEY_88</th>\n",
       "      <th>JERSEY_95</th>\n",
       "      <th>JERSEY_99</th>\n",
       "    </tr>\n",
       "  </thead>\n",
       "  <tbody>\n",
       "    <tr>\n",
       "      <th>0</th>\n",
       "      <td>0.55</td>\n",
       "      <td>0.258993</td>\n",
       "      <td>0.058824</td>\n",
       "      <td>0.374214</td>\n",
       "      <td>0.133929</td>\n",
       "      <td>0.528169</td>\n",
       "      <td>0.696078</td>\n",
       "      <td>0.047619</td>\n",
       "      <td>0.058824</td>\n",
       "      <td>0</td>\n",
       "      <td>...</td>\n",
       "      <td>0</td>\n",
       "      <td>0</td>\n",
       "      <td>0</td>\n",
       "      <td>0</td>\n",
       "      <td>0</td>\n",
       "      <td>0</td>\n",
       "      <td>0</td>\n",
       "      <td>0</td>\n",
       "      <td>0</td>\n",
       "      <td>0</td>\n",
       "    </tr>\n",
       "    <tr>\n",
       "      <th>1</th>\n",
       "      <td>0.95</td>\n",
       "      <td>0.848921</td>\n",
       "      <td>0.294118</td>\n",
       "      <td>0.138365</td>\n",
       "      <td>0.017857</td>\n",
       "      <td>0.274648</td>\n",
       "      <td>0.850490</td>\n",
       "      <td>0.571429</td>\n",
       "      <td>0.294118</td>\n",
       "      <td>0</td>\n",
       "      <td>...</td>\n",
       "      <td>0</td>\n",
       "      <td>1</td>\n",
       "      <td>0</td>\n",
       "      <td>0</td>\n",
       "      <td>0</td>\n",
       "      <td>0</td>\n",
       "      <td>0</td>\n",
       "      <td>0</td>\n",
       "      <td>0</td>\n",
       "      <td>0</td>\n",
       "    </tr>\n",
       "    <tr>\n",
       "      <th>2</th>\n",
       "      <td>0.55</td>\n",
       "      <td>0.345324</td>\n",
       "      <td>0.588235</td>\n",
       "      <td>0.707547</td>\n",
       "      <td>0.491071</td>\n",
       "      <td>0.422535</td>\n",
       "      <td>0.835784</td>\n",
       "      <td>0.523810</td>\n",
       "      <td>0.588235</td>\n",
       "      <td>0</td>\n",
       "      <td>...</td>\n",
       "      <td>0</td>\n",
       "      <td>0</td>\n",
       "      <td>0</td>\n",
       "      <td>0</td>\n",
       "      <td>0</td>\n",
       "      <td>0</td>\n",
       "      <td>0</td>\n",
       "      <td>0</td>\n",
       "      <td>0</td>\n",
       "      <td>0</td>\n",
       "    </tr>\n",
       "    <tr>\n",
       "      <th>3</th>\n",
       "      <td>0.75</td>\n",
       "      <td>0.776978</td>\n",
       "      <td>0.235294</td>\n",
       "      <td>0.940252</td>\n",
       "      <td>0.294643</td>\n",
       "      <td>0.809859</td>\n",
       "      <td>1.000000</td>\n",
       "      <td>0.333333</td>\n",
       "      <td>0.352941</td>\n",
       "      <td>0</td>\n",
       "      <td>...</td>\n",
       "      <td>0</td>\n",
       "      <td>0</td>\n",
       "      <td>0</td>\n",
       "      <td>0</td>\n",
       "      <td>0</td>\n",
       "      <td>0</td>\n",
       "      <td>0</td>\n",
       "      <td>0</td>\n",
       "      <td>0</td>\n",
       "      <td>0</td>\n",
       "    </tr>\n",
       "    <tr>\n",
       "      <th>4</th>\n",
       "      <td>0.35</td>\n",
       "      <td>0.057554</td>\n",
       "      <td>0.176471</td>\n",
       "      <td>0.490566</td>\n",
       "      <td>0.455357</td>\n",
       "      <td>0.492958</td>\n",
       "      <td>0.789216</td>\n",
       "      <td>0.190476</td>\n",
       "      <td>0.235294</td>\n",
       "      <td>0</td>\n",
       "      <td>...</td>\n",
       "      <td>0</td>\n",
       "      <td>0</td>\n",
       "      <td>0</td>\n",
       "      <td>0</td>\n",
       "      <td>0</td>\n",
       "      <td>0</td>\n",
       "      <td>0</td>\n",
       "      <td>0</td>\n",
       "      <td>0</td>\n",
       "      <td>0</td>\n",
       "    </tr>\n",
       "  </tbody>\n",
       "</table>\n",
       "<p>5 rows × 188 columns</p>\n",
       "</div>"
      ],
      "text/plain": [
       "   HEIGHT    WEIGHT  SEASON_EXP       PTS       AST       REB       PIE  \\\n",
       "0    0.55  0.258993    0.058824  0.374214  0.133929  0.528169  0.696078   \n",
       "1    0.95  0.848921    0.294118  0.138365  0.017857  0.274648  0.850490   \n",
       "2    0.55  0.345324    0.588235  0.707547  0.491071  0.422535  0.835784   \n",
       "3    0.75  0.776978    0.235294  0.940252  0.294643  0.809859  1.000000   \n",
       "4    0.35  0.057554    0.176471  0.490566  0.455357  0.492958  0.789216   \n",
       "\n",
       "        age  year_played  SCHOOL_Arizona  ...  JERSEY_46  JERSEY_51  \\\n",
       "0  0.047619     0.058824               0  ...          0          0   \n",
       "1  0.571429     0.294118               0  ...          0          1   \n",
       "2  0.523810     0.588235               0  ...          0          0   \n",
       "3  0.333333     0.352941               0  ...          0          0   \n",
       "4  0.190476     0.235294               0  ...          0          0   \n",
       "\n",
       "   JERSEY_54  JERSEY_55  JERSEY_67  JERSEY_77  JERSEY_81  JERSEY_88  \\\n",
       "0          0          0          0          0          0          0   \n",
       "1          0          0          0          0          0          0   \n",
       "2          0          0          0          0          0          0   \n",
       "3          0          0          0          0          0          0   \n",
       "4          0          0          0          0          0          0   \n",
       "\n",
       "   JERSEY_95  JERSEY_99  \n",
       "0          0          0  \n",
       "1          0          0  \n",
       "2          0          0  \n",
       "3          0          0  \n",
       "4          0          0  \n",
       "\n",
       "[5 rows x 188 columns]"
      ]
     },
     "execution_count": 7,
     "metadata": {},
     "output_type": "execute_result"
    }
   ],
   "source": [
    "X_train.head()"
   ]
  },
  {
   "cell_type": "code",
   "execution_count": 8,
   "id": "7268491e",
   "metadata": {},
   "outputs": [],
   "source": [
    "y_train = train.current_avg_salary"
   ]
  },
  {
   "cell_type": "code",
   "execution_count": 9,
   "id": "650efaff",
   "metadata": {},
   "outputs": [],
   "source": [
    "X_test = test.drop(columns='current_avg_salary')\n",
    "y_test = test.current_avg_salary"
   ]
  },
  {
   "cell_type": "code",
   "execution_count": 29,
   "id": "f3e3cc83",
   "metadata": {},
   "outputs": [
    {
     "data": {
      "text/plain": [
       "0      0.084580\n",
       "1      0.076781\n",
       "2      0.953707\n",
       "3      0.710704\n",
       "4      0.358982\n",
       "         ...   \n",
       "277    0.082143\n",
       "278    0.037132\n",
       "279    0.030341\n",
       "280    0.083708\n",
       "281    0.035448\n",
       "Name: current_avg_salary, Length: 282, dtype: float64"
      ]
     },
     "execution_count": 29,
     "metadata": {},
     "output_type": "execute_result"
    }
   ],
   "source": [
    "y_train"
   ]
  },
  {
   "cell_type": "markdown",
   "id": "e65be169",
   "metadata": {},
   "source": [
    "# First Model - Linear Regression"
   ]
  },
  {
   "cell_type": "code",
   "execution_count": 11,
   "id": "353fbba6",
   "metadata": {},
   "outputs": [],
   "source": [
    "# fit the model\n",
    "lm = LinearRegression().fit(X_train, y_train)"
   ]
  },
  {
   "cell_type": "code",
   "execution_count": 12,
   "id": "156b3584",
   "metadata": {},
   "outputs": [],
   "source": [
    "# use model to predict botn train and test data\n",
    "y_tr_pred = lm.predict(X_train)\n",
    "y_te_pred = lm.predict(X_test)"
   ]
  },
  {
   "cell_type": "code",
   "execution_count": 13,
   "id": "2a849d81",
   "metadata": {},
   "outputs": [
    {
     "data": {
      "text/plain": [
       "(0.8723915793909444, -8.531261547455891e+20)"
      ]
     },
     "execution_count": 13,
     "metadata": {},
     "output_type": "execute_result"
    }
   ],
   "source": [
    "# r^2 - train, test\n",
    "r2 = r2_score(y_train, y_tr_pred), r2_score(y_test, y_te_pred)\n",
    "r2"
   ]
  },
  {
   "cell_type": "code",
   "execution_count": 14,
   "id": "5a42364b",
   "metadata": {},
   "outputs": [
    {
     "data": {
      "text/plain": [
       "(0.06764734204828449, 1818474257.4524186)"
      ]
     },
     "execution_count": 14,
     "metadata": {},
     "output_type": "execute_result"
    }
   ],
   "source": [
    "# MAE - train, test\n",
    "mae = mean_absolute_error(y_train, y_tr_pred), mean_absolute_error(y_test, y_te_pred)\n",
    "mae"
   ]
  },
  {
   "cell_type": "code",
   "execution_count": 15,
   "id": "329d7b61",
   "metadata": {},
   "outputs": [
    {
     "data": {
      "text/plain": [
       "(0.007755372832485657, 4.703907369628075e+19)"
      ]
     },
     "execution_count": 15,
     "metadata": {},
     "output_type": "execute_result"
    }
   ],
   "source": [
    "# MSE - train, test\n",
    "mse = mean_squared_error(y_train, y_tr_pred), mean_squared_error(y_test, y_te_pred)\n",
    "mse"
   ]
  },
  {
   "cell_type": "markdown",
   "id": "948c2799",
   "metadata": {},
   "source": [
    "# Second Model - Random Forest Regression"
   ]
  },
  {
   "cell_type": "code",
   "execution_count": 63,
   "id": "a9a6f4b6",
   "metadata": {},
   "outputs": [
    {
     "data": {
      "text/plain": [
       "RandomForestRegressor(random_state=47)"
      ]
     },
     "execution_count": 63,
     "metadata": {},
     "output_type": "execute_result"
    }
   ],
   "source": [
    "# fit the model\n",
    "regr = RandomForestRegressor(random_state=47)\n",
    "regr.fit(X_train, y_train)"
   ]
  },
  {
   "cell_type": "code",
   "execution_count": 59,
   "id": "726e1c43",
   "metadata": {},
   "outputs": [],
   "source": [
    "# use model to predict botn train and test data\n",
    "y_tr_pred = regr.predict(X_train)\n",
    "y_te_pred = regr.predict(X_test)"
   ]
  },
  {
   "cell_type": "code",
   "execution_count": 60,
   "id": "89a0933d",
   "metadata": {},
   "outputs": [
    {
     "data": {
      "text/plain": [
       "(0.956264137564439, 0.7400474352538993)"
      ]
     },
     "execution_count": 60,
     "metadata": {},
     "output_type": "execute_result"
    }
   ],
   "source": [
    "# r^2 - train, test\n",
    "r2 = r2_score(y_train, y_tr_pred), r2_score(y_test, y_te_pred)\n",
    "r2"
   ]
  },
  {
   "cell_type": "code",
   "execution_count": 61,
   "id": "9939d552",
   "metadata": {},
   "outputs": [
    {
     "data": {
      "text/plain": [
       "(0.03541386611952217, 0.0756716290162769)"
      ]
     },
     "execution_count": 61,
     "metadata": {},
     "output_type": "execute_result"
    }
   ],
   "source": [
    "# MAE - train, test\n",
    "mae = mean_absolute_error(y_train, y_tr_pred), mean_absolute_error(y_test, y_te_pred)\n",
    "mae"
   ]
  },
  {
   "cell_type": "code",
   "execution_count": 62,
   "id": "a0ee69bd",
   "metadata": {},
   "outputs": [
    {
     "data": {
      "text/plain": [
       "(0.002658037124189674, 0.014333082841980763)"
      ]
     },
     "execution_count": 62,
     "metadata": {},
     "output_type": "execute_result"
    }
   ],
   "source": [
    "# MSE - train, test\n",
    "mse = mean_squared_error(y_train, y_tr_pred), mean_squared_error(y_test, y_te_pred)\n",
    "mse"
   ]
  },
  {
   "cell_type": "markdown",
   "id": "b86cc7b3",
   "metadata": {},
   "source": [
    "## Hyperparameter search using GridSearchCV"
   ]
  },
  {
   "cell_type": "code",
   "execution_count": 30,
   "id": "223a5db0",
   "metadata": {},
   "outputs": [],
   "source": [
    "# Print the accuracy from the testing data.\n",
    "rf_default_cv_results = cross_validate(regr, X_train, y_train, cv=5)"
   ]
  },
  {
   "cell_type": "code",
   "execution_count": 31,
   "id": "b0f988a9",
   "metadata": {},
   "outputs": [
    {
     "data": {
      "text/plain": [
       "array([0.75678941, 0.7094262 , 0.6501893 , 0.56024473, 0.72256069])"
      ]
     },
     "execution_count": 31,
     "metadata": {},
     "output_type": "execute_result"
    }
   ],
   "source": [
    "rf_cv_scores = rf_default_cv_results['test_score']\n",
    "rf_cv_scores"
   ]
  },
  {
   "cell_type": "code",
   "execution_count": 32,
   "id": "dd26a015",
   "metadata": {},
   "outputs": [
    {
     "data": {
      "text/plain": [
       "(0.6798420639538107, 0.06899826762862693)"
      ]
     },
     "execution_count": 32,
     "metadata": {},
     "output_type": "execute_result"
    }
   ],
   "source": [
    "np.mean(rf_cv_scores), np.std(rf_cv_scores)"
   ]
  },
  {
   "cell_type": "code",
   "execution_count": 106,
   "id": "9f68cca3",
   "metadata": {},
   "outputs": [
    {
     "data": {
      "text/plain": [
       "{'n_estimators': [108, 109, 110, 111, 112], 'max_depth': [4, 5, 6, 7, None]}"
      ]
     },
     "execution_count": 106,
     "metadata": {},
     "output_type": "execute_result"
    }
   ],
   "source": [
    "# GridSearchCV\n",
    "# define parametes\n",
    "n_est = list(range(108, 113, 1))\n",
    "grid_params = {'n_estimators': n_est,\n",
    "               'max_depth': [4,5,6, None]}\n",
    "grid_params"
   ]
  },
  {
   "cell_type": "code",
   "execution_count": 107,
   "id": "6494a470",
   "metadata": {},
   "outputs": [],
   "source": [
    "# define GridSearchCV\n",
    "rf_grid_cv = GridSearchCV(regr, grid_params,cv=5, n_jobs=-1)"
   ]
  },
  {
   "cell_type": "code",
   "execution_count": 108,
   "id": "3a7633dd",
   "metadata": {},
   "outputs": [
    {
     "data": {
      "text/plain": [
       "GridSearchCV(cv=5, estimator=RandomForestRegressor(random_state=47), n_jobs=-1,\n",
       "             param_grid={'max_depth': [4, 5, 6, 7, None],\n",
       "                         'n_estimators': [108, 109, 110, 111, 112]})"
      ]
     },
     "execution_count": 108,
     "metadata": {},
     "output_type": "execute_result"
    }
   ],
   "source": [
    "# fit the data\n",
    "rf_grid_cv.fit(X_train, y_train)"
   ]
  },
  {
   "cell_type": "code",
   "execution_count": 109,
   "id": "4a5fd277",
   "metadata": {},
   "outputs": [
    {
     "data": {
      "text/plain": [
       "{'max_depth': 5, 'n_estimators': 112}"
      ]
     },
     "execution_count": 109,
     "metadata": {},
     "output_type": "execute_result"
    }
   ],
   "source": [
    "# find the best_params_\n",
    "rf_grid_cv.best_params_"
   ]
  },
  {
   "cell_type": "code",
   "execution_count": 110,
   "id": "131c9285",
   "metadata": {},
   "outputs": [
    {
     "data": {
      "text/plain": [
       "array([0.75461512, 0.70504104, 0.65253199, 0.5767102 , 0.72966737])"
      ]
     },
     "execution_count": 110,
     "metadata": {},
     "output_type": "execute_result"
    }
   ],
   "source": [
    "rf_best_cv_results = cross_validate(rf_grid_cv.best_estimator_, X_train, y_train, cv=5)\n",
    "rf_best_scores = rf_best_cv_results['test_score']\n",
    "rf_best_scores"
   ]
  },
  {
   "cell_type": "code",
   "execution_count": 111,
   "id": "cc46a9d7",
   "metadata": {},
   "outputs": [
    {
     "data": {
      "text/plain": [
       "(0.6837131434293185, 0.0632703015636976)"
      ]
     },
     "execution_count": 111,
     "metadata": {},
     "output_type": "execute_result"
    }
   ],
   "source": [
    "np.mean(rf_best_scores), np.std(rf_best_scores)"
   ]
  },
  {
   "cell_type": "code",
   "execution_count": 125,
   "id": "7aca5a02",
   "metadata": {},
   "outputs": [
    {
     "data": {
      "image/png": "[encoded data removed]",
      "text/plain": [
       "<Figure size 2160x720 with 1 Axes>"
      ]
     },
     "metadata": {
      "needs_background": "light"
     },
     "output_type": "display_data"
    }
   ],
   "source": [
    "#Plot a barplot of the random forest's feature importances,\n",
    "#assigning the `feature_importances_` attribute of \n",
    "#`rf_grid_cv.best_estimator_.named_steps.randomforestregressor` to the name `imps` to then\n",
    "#create a pandas Series object of the feature importances, with the index given by the\n",
    "#training data column names, sorting the values in descending order\n",
    "plt.subplots(figsize=(30, 10))\n",
    "imps = rf_grid_cv.best_estimator_.feature_importances_\n",
    "rf_feat_imps = pd.Series(imps, index=X_train.columns).sort_values(ascending=False)\n",
    "rf_feat_imps.plot(kind='bar')\n",
    "plt.xlabel('features')\n",
    "plt.ylabel('importance')\n",
    "plt.title('Best random forest regressor feature importances');"
   ]
  },
  {
   "cell_type": "markdown",
   "id": "0d4d35d6",
   "metadata": {},
   "source": [
    "## Random forest regression model performance"
   ]
  },
  {
   "cell_type": "code",
   "execution_count": 115,
   "id": "8d311f7d",
   "metadata": {},
   "outputs": [
    {
     "data": {
      "text/plain": [
       "RandomForestRegressor(max_depth=5, n_estimators=112, random_state=47)"
      ]
     },
     "execution_count": 115,
     "metadata": {},
     "output_type": "execute_result"
    }
   ],
   "source": [
    "regr_best_params = RandomForestRegressor(n_estimators = 112, max_depth = 5,  random_state=47)\n",
    "regr_best_params.fit(X_train, y_train)"
   ]
  },
  {
   "cell_type": "code",
   "execution_count": 116,
   "id": "72e29f8d",
   "metadata": {},
   "outputs": [],
   "source": [
    "# use the best_params model to predict both train and test data\n",
    "y_tr_pred = regr_best_params.predict(X_train)\n",
    "y_te_pred = regr_best_params.predict(X_test)"
   ]
  },
  {
   "cell_type": "code",
   "execution_count": 120,
   "id": "5520c1e8",
   "metadata": {},
   "outputs": [
    {
     "name": "stdout",
     "output_type": "stream",
     "text": [
      "r2:  (0.8912754949768816, 0.7326161352229936)\n",
      "mae:  (0.06250095293683211, 0.07964085815274138)\n",
      "mes:  (0.006607707143911674, 0.014742824669573874)\n"
     ]
    }
   ],
   "source": [
    "# r^2 - train, test\n",
    "r2 = r2_score(y_train, y_tr_pred), r2_score(y_test, y_te_pred)\n",
    "print('r2: ', r2)\n",
    "# MAE - train, test\n",
    "mae = mean_absolute_error(y_train, y_tr_pred), mean_absolute_error(y_test, y_te_pred)\n",
    "print('mae: ', mae)\n",
    "# MSE - train, test\n",
    "mse = mean_squared_error(y_train, y_tr_pred), mean_squared_error(y_test, y_te_pred)\n",
    "print ('mes: ', mse)"
   ]
  },
  {
   "cell_type": "code",
   "execution_count": 126,
   "id": "5eea7cb5",
   "metadata": {},
   "outputs": [],
   "source": [
    "rf_neg_mae = cross_validate(rf_grid_cv.best_estimator_, X_train, y_train, \n",
    "                            scoring='neg_mean_absolute_error', cv=5, n_jobs=-1)"
   ]
  },
  {
   "cell_type": "code",
   "execution_count": 127,
   "id": "f76a9793",
   "metadata": {},
   "outputs": [
    {
     "data": {
      "text/plain": [
       "(0.09844355829736075, 0.00860908293278633)"
      ]
     },
     "execution_count": 127,
     "metadata": {},
     "output_type": "execute_result"
    }
   ],
   "source": [
    "rf_mae_mean = np.mean(-1 * rf_neg_mae['test_score'])\n",
    "rf_mae_std = np.std(-1 * rf_neg_mae['test_score'])\n",
    "rf_mae_mean, rf_mae_std"
   ]
  },
  {
   "cell_type": "code",
   "execution_count": 128,
   "id": "2586e714",
   "metadata": {},
   "outputs": [
    {
     "data": {
      "text/plain": [
       "0.07964085815274138"
      ]
     },
     "execution_count": 128,
     "metadata": {},
     "output_type": "execute_result"
    }
   ],
   "source": [
    "mean_absolute_error(y_test, rf_grid_cv.best_estimator_.predict(X_test))"
   ]
  },
  {
   "cell_type": "markdown",
   "id": "d15e7877",
   "metadata": {},
   "source": [
    "# Third Model - Knn regression"
   ]
  },
  {
   "cell_type": "code",
   "execution_count": 130,
   "id": "cd7eeabb",
   "metadata": {},
   "outputs": [
    {
     "data": {
      "text/plain": [
       "KNeighborsRegressor()"
      ]
     },
     "execution_count": 130,
     "metadata": {},
     "output_type": "execute_result"
    }
   ],
   "source": [
    "KNNrg = KNeighborsRegressor()\n",
    "KNNrg.fit(X_train, y_train)"
   ]
  },
  {
   "cell_type": "code",
   "execution_count": 133,
   "id": "dd7bf4c6",
   "metadata": {},
   "outputs": [],
   "source": [
    "# use model to predict botn train and test data\n",
    "y_tr_pred = KNNrg.predict(X_train)\n",
    "y_te_pred = KNNrg.predict(X_test)"
   ]
  },
  {
   "cell_type": "code",
   "execution_count": 134,
   "id": "71df7811",
   "metadata": {},
   "outputs": [
    {
     "name": "stdout",
     "output_type": "stream",
     "text": [
      "r2:  (0.4848443149803453, 0.19778898963180158)\n",
      "mae:  (0.12209185219811397, 0.13365993127757606)\n",
      "mes:  (0.03130846996642831, 0.04423175004865554)\n"
     ]
    }
   ],
   "source": [
    "# r^2 - train, test\n",
    "r2 = r2_score(y_train, y_tr_pred), r2_score(y_test, y_te_pred)\n",
    "print('r2: ', r2)\n",
    "# MAE - train, test\n",
    "mae = mean_absolute_error(y_train, y_tr_pred), mean_absolute_error(y_test, y_te_pred)\n",
    "print('mae: ', mae)\n",
    "# MSE - train, test\n",
    "mse = mean_squared_error(y_train, y_tr_pred), mean_squared_error(y_test, y_te_pred)\n",
    "print ('mes: ', mse)"
   ]
  },
  {
   "cell_type": "markdown",
   "id": "390c7fab",
   "metadata": {},
   "source": [
    "## Hyperparameter search using GridSearchCV"
   ]
  },
  {
   "cell_type": "code",
   "execution_count": 141,
   "id": "2a70d1ac",
   "metadata": {},
   "outputs": [
    {
     "data": {
      "text/plain": [
       "{'n_neighbors': [11, 12, 13, 14, 15, 16, 17, 18, 19],\n",
       " 'weights': ['uniform', 'distance']}"
      ]
     },
     "execution_count": 141,
     "metadata": {},
     "output_type": "execute_result"
    }
   ],
   "source": [
    "# GridSearchCV\n",
    "# define parametes\n",
    "n_nei = list(range(11, 20, 1))\n",
    "grid_params = {'n_neighbors': n_nei,\n",
    "               'weights': ['uniform', 'distance']}\n",
    "grid_params"
   ]
  },
  {
   "cell_type": "code",
   "execution_count": 142,
   "id": "15192cf5",
   "metadata": {},
   "outputs": [
    {
     "data": {
      "text/plain": [
       "GridSearchCV(cv=5, estimator=KNeighborsRegressor(), n_jobs=-1,\n",
       "             param_grid={'n_neighbors': [11, 12, 13, 14, 15, 16, 17, 18, 19],\n",
       "                         'weights': ['uniform', 'distance']})"
      ]
     },
     "execution_count": 142,
     "metadata": {},
     "output_type": "execute_result"
    }
   ],
   "source": [
    "# define GridSearchCV\n",
    "rf_grid_cv = GridSearchCV(KNNrg, grid_params,cv=5, n_jobs=-1)\n",
    "# fit the data\n",
    "rf_grid_cv.fit(X_train, y_train)"
   ]
  },
  {
   "cell_type": "code",
   "execution_count": 143,
   "id": "8c2a0454",
   "metadata": {},
   "outputs": [
    {
     "data": {
      "text/plain": [
       "{'n_neighbors': 13, 'weights': 'uniform'}"
      ]
     },
     "execution_count": 143,
     "metadata": {},
     "output_type": "execute_result"
    }
   ],
   "source": [
    "# find the best_params_\n",
    "rf_grid_cv.best_params_"
   ]
  },
  {
   "cell_type": "code",
   "execution_count": 144,
   "id": "dc5e2476",
   "metadata": {},
   "outputs": [
    {
     "data": {
      "text/plain": [
       "array([0.43141688, 0.39609579, 0.61648863, 0.30394988, 0.32006749])"
      ]
     },
     "execution_count": 144,
     "metadata": {},
     "output_type": "execute_result"
    }
   ],
   "source": [
    "rf_best_cv_results = cross_validate(rf_grid_cv.best_estimator_, X_train, y_train, cv=5)\n",
    "rf_best_scores = rf_best_cv_results['test_score']\n",
    "rf_best_scores"
   ]
  },
  {
   "cell_type": "code",
   "execution_count": 145,
   "id": "a7d9b4fc",
   "metadata": {},
   "outputs": [
    {
     "data": {
      "text/plain": [
       "(0.41360373186612404, 0.11185625962370108)"
      ]
     },
     "execution_count": 145,
     "metadata": {},
     "output_type": "execute_result"
    }
   ],
   "source": [
    "np.mean(rf_best_scores), np.std(rf_best_scores)"
   ]
  },
  {
   "cell_type": "markdown",
   "id": "94494d25",
   "metadata": {},
   "source": [
    "## KNN regression model performance"
   ]
  },
  {
   "cell_type": "code",
   "execution_count": 146,
   "id": "74a744ce",
   "metadata": {},
   "outputs": [
    {
     "data": {
      "text/plain": [
       "KNeighborsRegressor(n_neighbors=13)"
      ]
     },
     "execution_count": 146,
     "metadata": {},
     "output_type": "execute_result"
    }
   ],
   "source": [
    "KNNrg_best_params = KNeighborsRegressor(n_neighbors = 13)\n",
    "KNNrg_best_params.fit(X_train, y_train)"
   ]
  },
  {
   "cell_type": "code",
   "execution_count": 148,
   "id": "66999904",
   "metadata": {},
   "outputs": [],
   "source": [
    "# use the best_params model to predict both train and test data\n",
    "y_tr_pred = KNNrg_best_params.predict(X_train)\n",
    "y_te_pred = KNNrg_best_params.predict(X_test)"
   ]
  },
  {
   "cell_type": "code",
   "execution_count": 149,
   "id": "c570f58a",
   "metadata": {},
   "outputs": [
    {
     "name": "stdout",
     "output_type": "stream",
     "text": [
      "r2:  (0.461574360338011, 0.41870484180211487)\n",
      "mae:  (0.12822736712049373, 0.11910165689396882)\n",
      "mes:  (0.032722696184298496, 0.03205104618310012)\n"
     ]
    }
   ],
   "source": [
    "# r^2 - train, test\n",
    "r2 = r2_score(y_train, y_tr_pred), r2_score(y_test, y_te_pred)\n",
    "print('r2: ', r2)\n",
    "# MAE - train, test\n",
    "mae = mean_absolute_error(y_train, y_tr_pred), mean_absolute_error(y_test, y_te_pred)\n",
    "print('mae: ', mae)\n",
    "# MSE - train, test\n",
    "mse = mean_squared_error(y_train, y_tr_pred), mean_squared_error(y_test, y_te_pred)\n",
    "print ('mes: ', mse)"
   ]
  },
  {
   "cell_type": "code",
   "execution_count": 150,
   "id": "a8207856",
   "metadata": {},
   "outputs": [],
   "source": [
    "rf_neg_mae = cross_validate(rf_grid_cv.best_estimator_, X_train, y_train, \n",
    "                            scoring='neg_mean_absolute_error', cv=5, n_jobs=-1)"
   ]
  },
  {
   "cell_type": "code",
   "execution_count": 151,
   "id": "c3f795c9",
   "metadata": {},
   "outputs": [
    {
     "data": {
      "text/plain": [
       "(0.1344380509487724, 0.020777445466463935)"
      ]
     },
     "execution_count": 151,
     "metadata": {},
     "output_type": "execute_result"
    }
   ],
   "source": [
    "rf_mae_mean = np.mean(-1 * rf_neg_mae['test_score'])\n",
    "rf_mae_std = np.std(-1 * rf_neg_mae['test_score'])\n",
    "rf_mae_mean, rf_mae_std"
   ]
  },
  {
   "cell_type": "code",
   "execution_count": 152,
   "id": "c18106cb",
   "metadata": {},
   "outputs": [
    {
     "data": {
      "text/plain": [
       "0.11910165689396882"
      ]
     },
     "execution_count": 152,
     "metadata": {},
     "output_type": "execute_result"
    }
   ],
   "source": [
    "mean_absolute_error(y_test, rf_grid_cv.best_estimator_.predict(X_test))"
   ]
  },
  {
   "cell_type": "code",
   "execution_count": null,
   "id": "241d530d",
   "metadata": {},
   "outputs": [],
   "source": []
  }
 ],
 "metadata": {
  "kernelspec": {
   "display_name": "Python 3",
   "language": "python",
   "name": "python3"
  },
  "language_info": {
   "codemirror_mode": {
    "name": "ipython",
    "version": 3
   },
   "file_extension": ".py",
   "mimetype": "text/x-python",
   "name": "python",
   "nbconvert_exporter": "python",
   "pygments_lexer": "ipython3",
   "version": "3.8.10"
  },
  "toc": {
   "base_numbering": 1,
   "nav_menu": {},
   "number_sections": true,
   "sideBar": true,
   "skip_h1_title": false,
   "title_cell": "Table of Contents",
   "title_sidebar": "Contents",
   "toc_cell": false,
   "toc_position": {},
   "toc_section_display": true,
   "toc_window_display": false
  }
 },
 "nbformat": 4,
 "nbformat_minor": 5
}
