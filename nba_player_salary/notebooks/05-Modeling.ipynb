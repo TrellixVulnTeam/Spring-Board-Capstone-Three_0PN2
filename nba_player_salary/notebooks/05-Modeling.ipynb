{
 "cells": [
  {
   "cell_type": "markdown",
   "id": "9a5837f3",
   "metadata": {},
   "source": [
    "# Imports"
   ]
  },
  {
   "cell_type": "code",
   "execution_count": 1,
   "id": "c3a73e06",
   "metadata": {},
   "outputs": [],
   "source": [
    "import pandas as pd\n",
    "import numpy as np\n",
    "import os\n",
    "import pickle\n",
    "import matplotlib.pyplot as plt\n",
    "import seaborn as sns\n",
    "from sklearn import __version__ as sklearn_version\n",
    "from sklearn.decomposition import PCA\n",
    "from sklearn.preprocessing import scale\n",
    "from sklearn.model_selection import train_test_split, cross_validate, GridSearchCV, learning_curve\n",
    "from sklearn.preprocessing import StandardScaler, MinMaxScaler\n",
    "from sklearn.dummy import DummyRegressor\n",
    "from sklearn.linear_model import LinearRegression\n",
    "from sklearn.ensemble import RandomForestRegressor\n",
    "from sklearn.neighbors import KNeighborsRegressor\n",
    "from sklearn.metrics import r2_score, mean_squared_error, mean_absolute_error\n",
    "from sklearn.pipeline import make_pipeline\n",
    "from sklearn.impute import SimpleImputer\n",
    "from sklearn.feature_selection import SelectKBest, f_regression\n",
    "from sklearn.preprocessing import MinMaxScaler\n",
    "import datetime"
   ]
  },
  {
   "cell_type": "markdown",
   "id": "2b786392",
   "metadata": {},
   "source": [
    "# Load Data"
   ]
  },
  {
   "cell_type": "code",
   "execution_count": 2,
   "id": "e7250c53",
   "metadata": {},
   "outputs": [],
   "source": [
    "# load the data\n",
    "train = pd.read_csv('train.csv')\n",
    "test = pd.read_csv('test.csv')"
   ]
  },
  {
   "cell_type": "code",
   "execution_count": 3,
   "id": "90546143",
   "metadata": {},
   "outputs": [
    {
     "data": {
      "text/html": [
       "<div>\n",
       "<style scoped>\n",
       "    .dataframe tbody tr th:only-of-type {\n",
       "        vertical-align: middle;\n",
       "    }\n",
       "\n",
       "    .dataframe tbody tr th {\n",
       "        vertical-align: top;\n",
       "    }\n",
       "\n",
       "    .dataframe thead th {\n",
       "        text-align: right;\n",
       "    }\n",
       "</style>\n",
       "<table border=\"1\" class=\"dataframe\">\n",
       "  <thead>\n",
       "    <tr style=\"text-align: right;\">\n",
       "      <th></th>\n",
       "      <th>HEIGHT</th>\n",
       "      <th>WEIGHT</th>\n",
       "      <th>SEASON_EXP</th>\n",
       "      <th>PTS</th>\n",
       "      <th>AST</th>\n",
       "      <th>REB</th>\n",
       "      <th>PIE</th>\n",
       "      <th>current_avg_salary</th>\n",
       "      <th>age</th>\n",
       "      <th>year_played</th>\n",
       "      <th>...</th>\n",
       "      <th>JERSEY_46</th>\n",
       "      <th>JERSEY_51</th>\n",
       "      <th>JERSEY_54</th>\n",
       "      <th>JERSEY_55</th>\n",
       "      <th>JERSEY_67</th>\n",
       "      <th>JERSEY_77</th>\n",
       "      <th>JERSEY_81</th>\n",
       "      <th>JERSEY_88</th>\n",
       "      <th>JERSEY_95</th>\n",
       "      <th>JERSEY_99</th>\n",
       "    </tr>\n",
       "  </thead>\n",
       "  <tbody>\n",
       "    <tr>\n",
       "      <th>0</th>\n",
       "      <td>0.55</td>\n",
       "      <td>0.258993</td>\n",
       "      <td>0.058824</td>\n",
       "      <td>0.374214</td>\n",
       "      <td>0.133929</td>\n",
       "      <td>0.528169</td>\n",
       "      <td>0.696078</td>\n",
       "      <td>0.084580</td>\n",
       "      <td>0.047619</td>\n",
       "      <td>0.058824</td>\n",
       "      <td>...</td>\n",
       "      <td>0</td>\n",
       "      <td>0</td>\n",
       "      <td>0</td>\n",
       "      <td>0</td>\n",
       "      <td>0</td>\n",
       "      <td>0</td>\n",
       "      <td>0</td>\n",
       "      <td>0</td>\n",
       "      <td>0</td>\n",
       "      <td>0</td>\n",
       "    </tr>\n",
       "    <tr>\n",
       "      <th>1</th>\n",
       "      <td>0.95</td>\n",
       "      <td>0.848921</td>\n",
       "      <td>0.294118</td>\n",
       "      <td>0.138365</td>\n",
       "      <td>0.017857</td>\n",
       "      <td>0.274648</td>\n",
       "      <td>0.850490</td>\n",
       "      <td>0.076781</td>\n",
       "      <td>0.571429</td>\n",
       "      <td>0.294118</td>\n",
       "      <td>...</td>\n",
       "      <td>0</td>\n",
       "      <td>1</td>\n",
       "      <td>0</td>\n",
       "      <td>0</td>\n",
       "      <td>0</td>\n",
       "      <td>0</td>\n",
       "      <td>0</td>\n",
       "      <td>0</td>\n",
       "      <td>0</td>\n",
       "      <td>0</td>\n",
       "    </tr>\n",
       "    <tr>\n",
       "      <th>2</th>\n",
       "      <td>0.55</td>\n",
       "      <td>0.345324</td>\n",
       "      <td>0.588235</td>\n",
       "      <td>0.707547</td>\n",
       "      <td>0.491071</td>\n",
       "      <td>0.422535</td>\n",
       "      <td>0.835784</td>\n",
       "      <td>0.953707</td>\n",
       "      <td>0.523810</td>\n",
       "      <td>0.588235</td>\n",
       "      <td>...</td>\n",
       "      <td>0</td>\n",
       "      <td>0</td>\n",
       "      <td>0</td>\n",
       "      <td>0</td>\n",
       "      <td>0</td>\n",
       "      <td>0</td>\n",
       "      <td>0</td>\n",
       "      <td>0</td>\n",
       "      <td>0</td>\n",
       "      <td>0</td>\n",
       "    </tr>\n",
       "    <tr>\n",
       "      <th>3</th>\n",
       "      <td>0.75</td>\n",
       "      <td>0.776978</td>\n",
       "      <td>0.235294</td>\n",
       "      <td>0.940252</td>\n",
       "      <td>0.294643</td>\n",
       "      <td>0.809859</td>\n",
       "      <td>1.000000</td>\n",
       "      <td>0.710704</td>\n",
       "      <td>0.333333</td>\n",
       "      <td>0.352941</td>\n",
       "      <td>...</td>\n",
       "      <td>0</td>\n",
       "      <td>0</td>\n",
       "      <td>0</td>\n",
       "      <td>0</td>\n",
       "      <td>0</td>\n",
       "      <td>0</td>\n",
       "      <td>0</td>\n",
       "      <td>0</td>\n",
       "      <td>0</td>\n",
       "      <td>0</td>\n",
       "    </tr>\n",
       "    <tr>\n",
       "      <th>4</th>\n",
       "      <td>0.35</td>\n",
       "      <td>0.057554</td>\n",
       "      <td>0.176471</td>\n",
       "      <td>0.490566</td>\n",
       "      <td>0.455357</td>\n",
       "      <td>0.492958</td>\n",
       "      <td>0.789216</td>\n",
       "      <td>0.358982</td>\n",
       "      <td>0.190476</td>\n",
       "      <td>0.235294</td>\n",
       "      <td>...</td>\n",
       "      <td>0</td>\n",
       "      <td>0</td>\n",
       "      <td>0</td>\n",
       "      <td>0</td>\n",
       "      <td>0</td>\n",
       "      <td>0</td>\n",
       "      <td>0</td>\n",
       "      <td>0</td>\n",
       "      <td>0</td>\n",
       "      <td>0</td>\n",
       "    </tr>\n",
       "  </tbody>\n",
       "</table>\n",
       "<p>5 rows × 189 columns</p>\n",
       "</div>"
      ],
      "text/plain": [
       "   HEIGHT    WEIGHT  SEASON_EXP       PTS       AST       REB       PIE  \\\n",
       "0    0.55  0.258993    0.058824  0.374214  0.133929  0.528169  0.696078   \n",
       "1    0.95  0.848921    0.294118  0.138365  0.017857  0.274648  0.850490   \n",
       "2    0.55  0.345324    0.588235  0.707547  0.491071  0.422535  0.835784   \n",
       "3    0.75  0.776978    0.235294  0.940252  0.294643  0.809859  1.000000   \n",
       "4    0.35  0.057554    0.176471  0.490566  0.455357  0.492958  0.789216   \n",
       "\n",
       "   current_avg_salary       age  year_played  ...  JERSEY_46  JERSEY_51  \\\n",
       "0            0.084580  0.047619     0.058824  ...          0          0   \n",
       "1            0.076781  0.571429     0.294118  ...          0          1   \n",
       "2            0.953707  0.523810     0.588235  ...          0          0   \n",
       "3            0.710704  0.333333     0.352941  ...          0          0   \n",
       "4            0.358982  0.190476     0.235294  ...          0          0   \n",
       "\n",
       "   JERSEY_54  JERSEY_55  JERSEY_67  JERSEY_77  JERSEY_81  JERSEY_88  \\\n",
       "0          0          0          0          0          0          0   \n",
       "1          0          0          0          0          0          0   \n",
       "2          0          0          0          0          0          0   \n",
       "3          0          0          0          0          0          0   \n",
       "4          0          0          0          0          0          0   \n",
       "\n",
       "   JERSEY_95  JERSEY_99  \n",
       "0          0          0  \n",
       "1          0          0  \n",
       "2          0          0  \n",
       "3          0          0  \n",
       "4          0          0  \n",
       "\n",
       "[5 rows x 189 columns]"
      ]
     },
     "execution_count": 3,
     "metadata": {},
     "output_type": "execute_result"
    }
   ],
   "source": [
    "train.head()"
   ]
  },
  {
   "cell_type": "code",
   "execution_count": 4,
   "id": "5fbbbf94",
   "metadata": {},
   "outputs": [
    {
     "data": {
      "text/html": [
       "<div>\n",
       "<style scoped>\n",
       "    .dataframe tbody tr th:only-of-type {\n",
       "        vertical-align: middle;\n",
       "    }\n",
       "\n",
       "    .dataframe tbody tr th {\n",
       "        vertical-align: top;\n",
       "    }\n",
       "\n",
       "    .dataframe thead th {\n",
       "        text-align: right;\n",
       "    }\n",
       "</style>\n",
       "<table border=\"1\" class=\"dataframe\">\n",
       "  <thead>\n",
       "    <tr style=\"text-align: right;\">\n",
       "      <th></th>\n",
       "      <th>HEIGHT</th>\n",
       "      <th>WEIGHT</th>\n",
       "      <th>SEASON_EXP</th>\n",
       "      <th>PTS</th>\n",
       "      <th>AST</th>\n",
       "      <th>REB</th>\n",
       "      <th>PIE</th>\n",
       "      <th>current_avg_salary</th>\n",
       "      <th>age</th>\n",
       "      <th>year_played</th>\n",
       "      <th>...</th>\n",
       "      <th>JERSEY_46</th>\n",
       "      <th>JERSEY_51</th>\n",
       "      <th>JERSEY_54</th>\n",
       "      <th>JERSEY_55</th>\n",
       "      <th>JERSEY_67</th>\n",
       "      <th>JERSEY_77</th>\n",
       "      <th>JERSEY_81</th>\n",
       "      <th>JERSEY_88</th>\n",
       "      <th>JERSEY_95</th>\n",
       "      <th>JERSEY_99</th>\n",
       "    </tr>\n",
       "  </thead>\n",
       "  <tbody>\n",
       "    <tr>\n",
       "      <th>count</th>\n",
       "      <td>282.000000</td>\n",
       "      <td>282.000000</td>\n",
       "      <td>282.000000</td>\n",
       "      <td>282.000000</td>\n",
       "      <td>282.000000</td>\n",
       "      <td>282.000000</td>\n",
       "      <td>282.000000</td>\n",
       "      <td>282.000000</td>\n",
       "      <td>282.000000</td>\n",
       "      <td>282.000000</td>\n",
       "      <td>...</td>\n",
       "      <td>282.000000</td>\n",
       "      <td>282.000000</td>\n",
       "      <td>282.000000</td>\n",
       "      <td>282.000000</td>\n",
       "      <td>282.000000</td>\n",
       "      <td>282.000000</td>\n",
       "      <td>282.0</td>\n",
       "      <td>282.000000</td>\n",
       "      <td>282.000000</td>\n",
       "      <td>282.000000</td>\n",
       "    </tr>\n",
       "    <tr>\n",
       "      <th>mean</th>\n",
       "      <td>0.473404</td>\n",
       "      <td>0.340987</td>\n",
       "      <td>0.313308</td>\n",
       "      <td>0.331516</td>\n",
       "      <td>0.208618</td>\n",
       "      <td>0.289382</td>\n",
       "      <td>0.708850</td>\n",
       "      <td>0.231786</td>\n",
       "      <td>0.347349</td>\n",
       "      <td>0.318732</td>\n",
       "      <td>...</td>\n",
       "      <td>0.003546</td>\n",
       "      <td>0.010638</td>\n",
       "      <td>0.003546</td>\n",
       "      <td>0.014184</td>\n",
       "      <td>0.003546</td>\n",
       "      <td>0.003546</td>\n",
       "      <td>0.0</td>\n",
       "      <td>0.007092</td>\n",
       "      <td>0.003546</td>\n",
       "      <td>0.003546</td>\n",
       "    </tr>\n",
       "    <tr>\n",
       "      <th>std</th>\n",
       "      <td>0.171922</td>\n",
       "      <td>0.181660</td>\n",
       "      <td>0.229840</td>\n",
       "      <td>0.218629</td>\n",
       "      <td>0.176569</td>\n",
       "      <td>0.174019</td>\n",
       "      <td>0.097579</td>\n",
       "      <td>0.246964</td>\n",
       "      <td>0.194139</td>\n",
       "      <td>0.232361</td>\n",
       "      <td>...</td>\n",
       "      <td>0.059549</td>\n",
       "      <td>0.102774</td>\n",
       "      <td>0.059549</td>\n",
       "      <td>0.118461</td>\n",
       "      <td>0.059549</td>\n",
       "      <td>0.059549</td>\n",
       "      <td>0.0</td>\n",
       "      <td>0.084065</td>\n",
       "      <td>0.059549</td>\n",
       "      <td>0.059549</td>\n",
       "    </tr>\n",
       "    <tr>\n",
       "      <th>min</th>\n",
       "      <td>0.000000</td>\n",
       "      <td>0.000000</td>\n",
       "      <td>0.000000</td>\n",
       "      <td>0.000000</td>\n",
       "      <td>0.000000</td>\n",
       "      <td>0.000000</td>\n",
       "      <td>0.000000</td>\n",
       "      <td>0.000000</td>\n",
       "      <td>0.000000</td>\n",
       "      <td>0.000000</td>\n",
       "      <td>...</td>\n",
       "      <td>0.000000</td>\n",
       "      <td>0.000000</td>\n",
       "      <td>0.000000</td>\n",
       "      <td>0.000000</td>\n",
       "      <td>0.000000</td>\n",
       "      <td>0.000000</td>\n",
       "      <td>0.0</td>\n",
       "      <td>0.000000</td>\n",
       "      <td>0.000000</td>\n",
       "      <td>0.000000</td>\n",
       "    </tr>\n",
       "    <tr>\n",
       "      <th>25%</th>\n",
       "      <td>0.350000</td>\n",
       "      <td>0.201439</td>\n",
       "      <td>0.117647</td>\n",
       "      <td>0.164308</td>\n",
       "      <td>0.089286</td>\n",
       "      <td>0.154930</td>\n",
       "      <td>0.659314</td>\n",
       "      <td>0.039454</td>\n",
       "      <td>0.190476</td>\n",
       "      <td>0.117647</td>\n",
       "      <td>...</td>\n",
       "      <td>0.000000</td>\n",
       "      <td>0.000000</td>\n",
       "      <td>0.000000</td>\n",
       "      <td>0.000000</td>\n",
       "      <td>0.000000</td>\n",
       "      <td>0.000000</td>\n",
       "      <td>0.0</td>\n",
       "      <td>0.000000</td>\n",
       "      <td>0.000000</td>\n",
       "      <td>0.000000</td>\n",
       "    </tr>\n",
       "    <tr>\n",
       "      <th>50%</th>\n",
       "      <td>0.500000</td>\n",
       "      <td>0.334532</td>\n",
       "      <td>0.235294</td>\n",
       "      <td>0.289308</td>\n",
       "      <td>0.151786</td>\n",
       "      <td>0.253521</td>\n",
       "      <td>0.703431</td>\n",
       "      <td>0.128413</td>\n",
       "      <td>0.333333</td>\n",
       "      <td>0.235294</td>\n",
       "      <td>...</td>\n",
       "      <td>0.000000</td>\n",
       "      <td>0.000000</td>\n",
       "      <td>0.000000</td>\n",
       "      <td>0.000000</td>\n",
       "      <td>0.000000</td>\n",
       "      <td>0.000000</td>\n",
       "      <td>0.0</td>\n",
       "      <td>0.000000</td>\n",
       "      <td>0.000000</td>\n",
       "      <td>0.000000</td>\n",
       "    </tr>\n",
       "    <tr>\n",
       "      <th>75%</th>\n",
       "      <td>0.600000</td>\n",
       "      <td>0.458633</td>\n",
       "      <td>0.470588</td>\n",
       "      <td>0.439465</td>\n",
       "      <td>0.294643</td>\n",
       "      <td>0.380282</td>\n",
       "      <td>0.762255</td>\n",
       "      <td>0.325118</td>\n",
       "      <td>0.476190</td>\n",
       "      <td>0.470588</td>\n",
       "      <td>...</td>\n",
       "      <td>0.000000</td>\n",
       "      <td>0.000000</td>\n",
       "      <td>0.000000</td>\n",
       "      <td>0.000000</td>\n",
       "      <td>0.000000</td>\n",
       "      <td>0.000000</td>\n",
       "      <td>0.0</td>\n",
       "      <td>0.000000</td>\n",
       "      <td>0.000000</td>\n",
       "      <td>0.000000</td>\n",
       "    </tr>\n",
       "    <tr>\n",
       "      <th>max</th>\n",
       "      <td>0.950000</td>\n",
       "      <td>0.848921</td>\n",
       "      <td>1.000000</td>\n",
       "      <td>0.946541</td>\n",
       "      <td>1.000000</td>\n",
       "      <td>0.950704</td>\n",
       "      <td>1.000000</td>\n",
       "      <td>1.000000</td>\n",
       "      <td>1.000000</td>\n",
       "      <td>1.000000</td>\n",
       "      <td>...</td>\n",
       "      <td>1.000000</td>\n",
       "      <td>1.000000</td>\n",
       "      <td>1.000000</td>\n",
       "      <td>1.000000</td>\n",
       "      <td>1.000000</td>\n",
       "      <td>1.000000</td>\n",
       "      <td>0.0</td>\n",
       "      <td>1.000000</td>\n",
       "      <td>1.000000</td>\n",
       "      <td>1.000000</td>\n",
       "    </tr>\n",
       "  </tbody>\n",
       "</table>\n",
       "<p>8 rows × 189 columns</p>\n",
       "</div>"
      ],
      "text/plain": [
       "           HEIGHT      WEIGHT  SEASON_EXP         PTS         AST         REB  \\\n",
       "count  282.000000  282.000000  282.000000  282.000000  282.000000  282.000000   \n",
       "mean     0.473404    0.340987    0.313308    0.331516    0.208618    0.289382   \n",
       "std      0.171922    0.181660    0.229840    0.218629    0.176569    0.174019   \n",
       "min      0.000000    0.000000    0.000000    0.000000    0.000000    0.000000   \n",
       "25%      0.350000    0.201439    0.117647    0.164308    0.089286    0.154930   \n",
       "50%      0.500000    0.334532    0.235294    0.289308    0.151786    0.253521   \n",
       "75%      0.600000    0.458633    0.470588    0.439465    0.294643    0.380282   \n",
       "max      0.950000    0.848921    1.000000    0.946541    1.000000    0.950704   \n",
       "\n",
       "              PIE  current_avg_salary         age  year_played  ...  \\\n",
       "count  282.000000          282.000000  282.000000   282.000000  ...   \n",
       "mean     0.708850            0.231786    0.347349     0.318732  ...   \n",
       "std      0.097579            0.246964    0.194139     0.232361  ...   \n",
       "min      0.000000            0.000000    0.000000     0.000000  ...   \n",
       "25%      0.659314            0.039454    0.190476     0.117647  ...   \n",
       "50%      0.703431            0.128413    0.333333     0.235294  ...   \n",
       "75%      0.762255            0.325118    0.476190     0.470588  ...   \n",
       "max      1.000000            1.000000    1.000000     1.000000  ...   \n",
       "\n",
       "        JERSEY_46   JERSEY_51   JERSEY_54   JERSEY_55   JERSEY_67   JERSEY_77  \\\n",
       "count  282.000000  282.000000  282.000000  282.000000  282.000000  282.000000   \n",
       "mean     0.003546    0.010638    0.003546    0.014184    0.003546    0.003546   \n",
       "std      0.059549    0.102774    0.059549    0.118461    0.059549    0.059549   \n",
       "min      0.000000    0.000000    0.000000    0.000000    0.000000    0.000000   \n",
       "25%      0.000000    0.000000    0.000000    0.000000    0.000000    0.000000   \n",
       "50%      0.000000    0.000000    0.000000    0.000000    0.000000    0.000000   \n",
       "75%      0.000000    0.000000    0.000000    0.000000    0.000000    0.000000   \n",
       "max      1.000000    1.000000    1.000000    1.000000    1.000000    1.000000   \n",
       "\n",
       "       JERSEY_81   JERSEY_88   JERSEY_95   JERSEY_99  \n",
       "count      282.0  282.000000  282.000000  282.000000  \n",
       "mean         0.0    0.007092    0.003546    0.003546  \n",
       "std          0.0    0.084065    0.059549    0.059549  \n",
       "min          0.0    0.000000    0.000000    0.000000  \n",
       "25%          0.0    0.000000    0.000000    0.000000  \n",
       "50%          0.0    0.000000    0.000000    0.000000  \n",
       "75%          0.0    0.000000    0.000000    0.000000  \n",
       "max          0.0    1.000000    1.000000    1.000000  \n",
       "\n",
       "[8 rows x 189 columns]"
      ]
     },
     "execution_count": 4,
     "metadata": {},
     "output_type": "execute_result"
    }
   ],
   "source": [
    "train.describe()"
   ]
  },
  {
   "cell_type": "code",
   "execution_count": 5,
   "id": "7414cbb3",
   "metadata": {},
   "outputs": [
    {
     "data": {
      "text/html": [
       "<div>\n",
       "<style scoped>\n",
       "    .dataframe tbody tr th:only-of-type {\n",
       "        vertical-align: middle;\n",
       "    }\n",
       "\n",
       "    .dataframe tbody tr th {\n",
       "        vertical-align: top;\n",
       "    }\n",
       "\n",
       "    .dataframe thead th {\n",
       "        text-align: right;\n",
       "    }\n",
       "</style>\n",
       "<table border=\"1\" class=\"dataframe\">\n",
       "  <thead>\n",
       "    <tr style=\"text-align: right;\">\n",
       "      <th></th>\n",
       "      <th>HEIGHT</th>\n",
       "      <th>WEIGHT</th>\n",
       "      <th>SEASON_EXP</th>\n",
       "      <th>PTS</th>\n",
       "      <th>AST</th>\n",
       "      <th>REB</th>\n",
       "      <th>PIE</th>\n",
       "      <th>current_avg_salary</th>\n",
       "      <th>age</th>\n",
       "      <th>year_played</th>\n",
       "      <th>...</th>\n",
       "      <th>JERSEY_46</th>\n",
       "      <th>JERSEY_51</th>\n",
       "      <th>JERSEY_54</th>\n",
       "      <th>JERSEY_55</th>\n",
       "      <th>JERSEY_67</th>\n",
       "      <th>JERSEY_77</th>\n",
       "      <th>JERSEY_81</th>\n",
       "      <th>JERSEY_88</th>\n",
       "      <th>JERSEY_95</th>\n",
       "      <th>JERSEY_99</th>\n",
       "    </tr>\n",
       "  </thead>\n",
       "  <tbody>\n",
       "    <tr>\n",
       "      <th>0</th>\n",
       "      <td>0.55</td>\n",
       "      <td>0.395683</td>\n",
       "      <td>0.352941</td>\n",
       "      <td>0.273585</td>\n",
       "      <td>0.071429</td>\n",
       "      <td>0.387324</td>\n",
       "      <td>0.715686</td>\n",
       "      <td>0.164371</td>\n",
       "      <td>0.523810</td>\n",
       "      <td>0.352941</td>\n",
       "      <td>...</td>\n",
       "      <td>0</td>\n",
       "      <td>0</td>\n",
       "      <td>0</td>\n",
       "      <td>0</td>\n",
       "      <td>0</td>\n",
       "      <td>0</td>\n",
       "      <td>0</td>\n",
       "      <td>0</td>\n",
       "      <td>0</td>\n",
       "      <td>0</td>\n",
       "    </tr>\n",
       "    <tr>\n",
       "      <th>1</th>\n",
       "      <td>0.35</td>\n",
       "      <td>0.129496</td>\n",
       "      <td>0.058824</td>\n",
       "      <td>0.081761</td>\n",
       "      <td>0.035714</td>\n",
       "      <td>0.056338</td>\n",
       "      <td>0.625000</td>\n",
       "      <td>0.039371</td>\n",
       "      <td>0.285714</td>\n",
       "      <td>0.058824</td>\n",
       "      <td>...</td>\n",
       "      <td>0</td>\n",
       "      <td>0</td>\n",
       "      <td>0</td>\n",
       "      <td>0</td>\n",
       "      <td>0</td>\n",
       "      <td>0</td>\n",
       "      <td>0</td>\n",
       "      <td>0</td>\n",
       "      <td>0</td>\n",
       "      <td>0</td>\n",
       "    </tr>\n",
       "    <tr>\n",
       "      <th>2</th>\n",
       "      <td>0.40</td>\n",
       "      <td>0.237410</td>\n",
       "      <td>0.117647</td>\n",
       "      <td>0.433962</td>\n",
       "      <td>0.276786</td>\n",
       "      <td>0.161972</td>\n",
       "      <td>0.723039</td>\n",
       "      <td>0.039501</td>\n",
       "      <td>0.190476</td>\n",
       "      <td>0.117647</td>\n",
       "      <td>...</td>\n",
       "      <td>0</td>\n",
       "      <td>0</td>\n",
       "      <td>0</td>\n",
       "      <td>0</td>\n",
       "      <td>0</td>\n",
       "      <td>0</td>\n",
       "      <td>0</td>\n",
       "      <td>0</td>\n",
       "      <td>0</td>\n",
       "      <td>0</td>\n",
       "    </tr>\n",
       "    <tr>\n",
       "      <th>3</th>\n",
       "      <td>0.40</td>\n",
       "      <td>0.273381</td>\n",
       "      <td>0.176471</td>\n",
       "      <td>0.210692</td>\n",
       "      <td>0.125000</td>\n",
       "      <td>0.232394</td>\n",
       "      <td>0.715686</td>\n",
       "      <td>0.039233</td>\n",
       "      <td>0.380952</td>\n",
       "      <td>0.176471</td>\n",
       "      <td>...</td>\n",
       "      <td>0</td>\n",
       "      <td>0</td>\n",
       "      <td>0</td>\n",
       "      <td>0</td>\n",
       "      <td>0</td>\n",
       "      <td>0</td>\n",
       "      <td>0</td>\n",
       "      <td>0</td>\n",
       "      <td>0</td>\n",
       "      <td>0</td>\n",
       "    </tr>\n",
       "    <tr>\n",
       "      <th>4</th>\n",
       "      <td>0.45</td>\n",
       "      <td>0.129496</td>\n",
       "      <td>0.058824</td>\n",
       "      <td>0.047170</td>\n",
       "      <td>0.000000</td>\n",
       "      <td>0.035211</td>\n",
       "      <td>0.901961</td>\n",
       "      <td>0.035448</td>\n",
       "      <td>0.095238</td>\n",
       "      <td>0.058824</td>\n",
       "      <td>...</td>\n",
       "      <td>0</td>\n",
       "      <td>0</td>\n",
       "      <td>0</td>\n",
       "      <td>0</td>\n",
       "      <td>0</td>\n",
       "      <td>0</td>\n",
       "      <td>0</td>\n",
       "      <td>0</td>\n",
       "      <td>0</td>\n",
       "      <td>0</td>\n",
       "    </tr>\n",
       "  </tbody>\n",
       "</table>\n",
       "<p>5 rows × 189 columns</p>\n",
       "</div>"
      ],
      "text/plain": [
       "   HEIGHT    WEIGHT  SEASON_EXP       PTS       AST       REB       PIE  \\\n",
       "0    0.55  0.395683    0.352941  0.273585  0.071429  0.387324  0.715686   \n",
       "1    0.35  0.129496    0.058824  0.081761  0.035714  0.056338  0.625000   \n",
       "2    0.40  0.237410    0.117647  0.433962  0.276786  0.161972  0.723039   \n",
       "3    0.40  0.273381    0.176471  0.210692  0.125000  0.232394  0.715686   \n",
       "4    0.45  0.129496    0.058824  0.047170  0.000000  0.035211  0.901961   \n",
       "\n",
       "   current_avg_salary       age  year_played  ...  JERSEY_46  JERSEY_51  \\\n",
       "0            0.164371  0.523810     0.352941  ...          0          0   \n",
       "1            0.039371  0.285714     0.058824  ...          0          0   \n",
       "2            0.039501  0.190476     0.117647  ...          0          0   \n",
       "3            0.039233  0.380952     0.176471  ...          0          0   \n",
       "4            0.035448  0.095238     0.058824  ...          0          0   \n",
       "\n",
       "   JERSEY_54  JERSEY_55  JERSEY_67  JERSEY_77  JERSEY_81  JERSEY_88  \\\n",
       "0          0          0          0          0          0          0   \n",
       "1          0          0          0          0          0          0   \n",
       "2          0          0          0          0          0          0   \n",
       "3          0          0          0          0          0          0   \n",
       "4          0          0          0          0          0          0   \n",
       "\n",
       "   JERSEY_95  JERSEY_99  \n",
       "0          0          0  \n",
       "1          0          0  \n",
       "2          0          0  \n",
       "3          0          0  \n",
       "4          0          0  \n",
       "\n",
       "[5 rows x 189 columns]"
      ]
     },
     "execution_count": 5,
     "metadata": {},
     "output_type": "execute_result"
    }
   ],
   "source": [
    "test.head()"
   ]
  },
  {
   "cell_type": "markdown",
   "id": "cf23fe0f",
   "metadata": {},
   "source": [
    "# Split data"
   ]
  },
  {
   "cell_type": "code",
   "execution_count": 6,
   "id": "6ef58034",
   "metadata": {},
   "outputs": [],
   "source": [
    "X_train = train.drop(columns='current_avg_salary')"
   ]
  },
  {
   "cell_type": "code",
   "execution_count": 7,
   "id": "e4cdb31c",
   "metadata": {},
   "outputs": [
    {
     "data": {
      "text/html": [
       "<div>\n",
       "<style scoped>\n",
       "    .dataframe tbody tr th:only-of-type {\n",
       "        vertical-align: middle;\n",
       "    }\n",
       "\n",
       "    .dataframe tbody tr th {\n",
       "        vertical-align: top;\n",
       "    }\n",
       "\n",
       "    .dataframe thead th {\n",
       "        text-align: right;\n",
       "    }\n",
       "</style>\n",
       "<table border=\"1\" class=\"dataframe\">\n",
       "  <thead>\n",
       "    <tr style=\"text-align: right;\">\n",
       "      <th></th>\n",
       "      <th>HEIGHT</th>\n",
       "      <th>WEIGHT</th>\n",
       "      <th>SEASON_EXP</th>\n",
       "      <th>PTS</th>\n",
       "      <th>AST</th>\n",
       "      <th>REB</th>\n",
       "      <th>PIE</th>\n",
       "      <th>age</th>\n",
       "      <th>year_played</th>\n",
       "      <th>SCHOOL_Arizona</th>\n",
       "      <th>...</th>\n",
       "      <th>JERSEY_46</th>\n",
       "      <th>JERSEY_51</th>\n",
       "      <th>JERSEY_54</th>\n",
       "      <th>JERSEY_55</th>\n",
       "      <th>JERSEY_67</th>\n",
       "      <th>JERSEY_77</th>\n",
       "      <th>JERSEY_81</th>\n",
       "      <th>JERSEY_88</th>\n",
       "      <th>JERSEY_95</th>\n",
       "      <th>JERSEY_99</th>\n",
       "    </tr>\n",
       "  </thead>\n",
       "  <tbody>\n",
       "    <tr>\n",
       "      <th>0</th>\n",
       "      <td>0.55</td>\n",
       "      <td>0.258993</td>\n",
       "      <td>0.058824</td>\n",
       "      <td>0.374214</td>\n",
       "      <td>0.133929</td>\n",
       "      <td>0.528169</td>\n",
       "      <td>0.696078</td>\n",
       "      <td>0.047619</td>\n",
       "      <td>0.058824</td>\n",
       "      <td>0</td>\n",
       "      <td>...</td>\n",
       "      <td>0</td>\n",
       "      <td>0</td>\n",
       "      <td>0</td>\n",
       "      <td>0</td>\n",
       "      <td>0</td>\n",
       "      <td>0</td>\n",
       "      <td>0</td>\n",
       "      <td>0</td>\n",
       "      <td>0</td>\n",
       "      <td>0</td>\n",
       "    </tr>\n",
       "    <tr>\n",
       "      <th>1</th>\n",
       "      <td>0.95</td>\n",
       "      <td>0.848921</td>\n",
       "      <td>0.294118</td>\n",
       "      <td>0.138365</td>\n",
       "      <td>0.017857</td>\n",
       "      <td>0.274648</td>\n",
       "      <td>0.850490</td>\n",
       "      <td>0.571429</td>\n",
       "      <td>0.294118</td>\n",
       "      <td>0</td>\n",
       "      <td>...</td>\n",
       "      <td>0</td>\n",
       "      <td>1</td>\n",
       "      <td>0</td>\n",
       "      <td>0</td>\n",
       "      <td>0</td>\n",
       "      <td>0</td>\n",
       "      <td>0</td>\n",
       "      <td>0</td>\n",
       "      <td>0</td>\n",
       "      <td>0</td>\n",
       "    </tr>\n",
       "    <tr>\n",
       "      <th>2</th>\n",
       "      <td>0.55</td>\n",
       "      <td>0.345324</td>\n",
       "      <td>0.588235</td>\n",
       "      <td>0.707547</td>\n",
       "      <td>0.491071</td>\n",
       "      <td>0.422535</td>\n",
       "      <td>0.835784</td>\n",
       "      <td>0.523810</td>\n",
       "      <td>0.588235</td>\n",
       "      <td>0</td>\n",
       "      <td>...</td>\n",
       "      <td>0</td>\n",
       "      <td>0</td>\n",
       "      <td>0</td>\n",
       "      <td>0</td>\n",
       "      <td>0</td>\n",
       "      <td>0</td>\n",
       "      <td>0</td>\n",
       "      <td>0</td>\n",
       "      <td>0</td>\n",
       "      <td>0</td>\n",
       "    </tr>\n",
       "    <tr>\n",
       "      <th>3</th>\n",
       "      <td>0.75</td>\n",
       "      <td>0.776978</td>\n",
       "      <td>0.235294</td>\n",
       "      <td>0.940252</td>\n",
       "      <td>0.294643</td>\n",
       "      <td>0.809859</td>\n",
       "      <td>1.000000</td>\n",
       "      <td>0.333333</td>\n",
       "      <td>0.352941</td>\n",
       "      <td>0</td>\n",
       "      <td>...</td>\n",
       "      <td>0</td>\n",
       "      <td>0</td>\n",
       "      <td>0</td>\n",
       "      <td>0</td>\n",
       "      <td>0</td>\n",
       "      <td>0</td>\n",
       "      <td>0</td>\n",
       "      <td>0</td>\n",
       "      <td>0</td>\n",
       "      <td>0</td>\n",
       "    </tr>\n",
       "    <tr>\n",
       "      <th>4</th>\n",
       "      <td>0.35</td>\n",
       "      <td>0.057554</td>\n",
       "      <td>0.176471</td>\n",
       "      <td>0.490566</td>\n",
       "      <td>0.455357</td>\n",
       "      <td>0.492958</td>\n",
       "      <td>0.789216</td>\n",
       "      <td>0.190476</td>\n",
       "      <td>0.235294</td>\n",
       "      <td>0</td>\n",
       "      <td>...</td>\n",
       "      <td>0</td>\n",
       "      <td>0</td>\n",
       "      <td>0</td>\n",
       "      <td>0</td>\n",
       "      <td>0</td>\n",
       "      <td>0</td>\n",
       "      <td>0</td>\n",
       "      <td>0</td>\n",
       "      <td>0</td>\n",
       "      <td>0</td>\n",
       "    </tr>\n",
       "  </tbody>\n",
       "</table>\n",
       "<p>5 rows × 188 columns</p>\n",
       "</div>"
      ],
      "text/plain": [
       "   HEIGHT    WEIGHT  SEASON_EXP       PTS       AST       REB       PIE  \\\n",
       "0    0.55  0.258993    0.058824  0.374214  0.133929  0.528169  0.696078   \n",
       "1    0.95  0.848921    0.294118  0.138365  0.017857  0.274648  0.850490   \n",
       "2    0.55  0.345324    0.588235  0.707547  0.491071  0.422535  0.835784   \n",
       "3    0.75  0.776978    0.235294  0.940252  0.294643  0.809859  1.000000   \n",
       "4    0.35  0.057554    0.176471  0.490566  0.455357  0.492958  0.789216   \n",
       "\n",
       "        age  year_played  SCHOOL_Arizona  ...  JERSEY_46  JERSEY_51  \\\n",
       "0  0.047619     0.058824               0  ...          0          0   \n",
       "1  0.571429     0.294118               0  ...          0          1   \n",
       "2  0.523810     0.588235               0  ...          0          0   \n",
       "3  0.333333     0.352941               0  ...          0          0   \n",
       "4  0.190476     0.235294               0  ...          0          0   \n",
       "\n",
       "   JERSEY_54  JERSEY_55  JERSEY_67  JERSEY_77  JERSEY_81  JERSEY_88  \\\n",
       "0          0          0          0          0          0          0   \n",
       "1          0          0          0          0          0          0   \n",
       "2          0          0          0          0          0          0   \n",
       "3          0          0          0          0          0          0   \n",
       "4          0          0          0          0          0          0   \n",
       "\n",
       "   JERSEY_95  JERSEY_99  \n",
       "0          0          0  \n",
       "1          0          0  \n",
       "2          0          0  \n",
       "3          0          0  \n",
       "4          0          0  \n",
       "\n",
       "[5 rows x 188 columns]"
      ]
     },
     "execution_count": 7,
     "metadata": {},
     "output_type": "execute_result"
    }
   ],
   "source": [
    "X_train.head()"
   ]
  },
  {
   "cell_type": "code",
   "execution_count": 8,
   "id": "6f68ffaa",
   "metadata": {},
   "outputs": [],
   "source": [
    "y_train = train.current_avg_salary"
   ]
  },
  {
   "cell_type": "code",
   "execution_count": 9,
   "id": "1af6d315",
   "metadata": {},
   "outputs": [],
   "source": [
    "X_test = test.drop(columns='current_avg_salary')\n",
    "y_test = test.current_avg_salary"
   ]
  },
  {
   "cell_type": "code",
   "execution_count": 10,
   "id": "ac315acd",
   "metadata": {},
   "outputs": [
    {
     "data": {
      "text/plain": [
       "1.0"
      ]
     },
     "execution_count": 10,
     "metadata": {},
     "output_type": "execute_result"
    }
   ],
   "source": [
    "y_train.max()"
   ]
  },
  {
   "cell_type": "markdown",
   "id": "c60bca4f",
   "metadata": {},
   "source": [
    "# First Model - Linear Regression"
   ]
  },
  {
   "cell_type": "code",
   "execution_count": 11,
   "id": "514f135d",
   "metadata": {},
   "outputs": [],
   "source": [
    "# fit the model\n",
    "lm = LinearRegression().fit(X_train, y_train)"
   ]
  },
  {
   "cell_type": "code",
   "execution_count": 12,
   "id": "5f7dc9d6",
   "metadata": {},
   "outputs": [],
   "source": [
    "# use model to predict botn train and test data\n",
    "y_tr_pred = lm.predict(X_train)\n",
    "y_te_pred = lm.predict(X_test)"
   ]
  },
  {
   "cell_type": "code",
   "execution_count": 13,
   "id": "5d2354e3",
   "metadata": {},
   "outputs": [
    {
     "data": {
      "text/plain": [
       "(0.8723915793909444, -8.531261547455891e+20)"
      ]
     },
     "execution_count": 13,
     "metadata": {},
     "output_type": "execute_result"
    }
   ],
   "source": [
    "# r^2 - train, test\n",
    "r2 = r2_score(y_train, y_tr_pred), r2_score(y_test, y_te_pred)\n",
    "r2"
   ]
  },
  {
   "cell_type": "code",
   "execution_count": 14,
   "id": "51eb3a08",
   "metadata": {},
   "outputs": [
    {
     "data": {
      "text/plain": [
       "(0.06764734204828449, 1818474257.4524186)"
      ]
     },
     "execution_count": 14,
     "metadata": {},
     "output_type": "execute_result"
    }
   ],
   "source": [
    "# MAE - train, test\n",
    "mae = mean_absolute_error(y_train, y_tr_pred), mean_absolute_error(y_test, y_te_pred)\n",
    "mae"
   ]
  },
  {
   "cell_type": "code",
   "execution_count": 15,
   "id": "2ba4f5dc",
   "metadata": {},
   "outputs": [
    {
     "data": {
      "text/plain": [
       "(0.007755372832485657, 4.703907369628075e+19)"
      ]
     },
     "execution_count": 15,
     "metadata": {},
     "output_type": "execute_result"
    }
   ],
   "source": [
    "# MSE - train, test\n",
    "mse = mean_squared_error(y_train, y_tr_pred), mean_squared_error(y_test, y_te_pred)\n",
    "mse"
   ]
  },
  {
   "cell_type": "markdown",
   "id": "8123e8d3",
   "metadata": {},
   "source": [
    "The eveluation metric show the model doing good to predict train data, but very poor on the test data. It is clearly overfitting, need to reduce features."
   ]
  },
  {
   "cell_type": "markdown",
   "id": "292de760",
   "metadata": {},
   "source": [
    "## Refining The Model"
   ]
  },
  {
   "cell_type": "code",
   "execution_count": 16,
   "id": "8aa401ce",
   "metadata": {},
   "outputs": [],
   "source": [
    "# make a pipeline including 'SelectKbest' as a step\n",
    "pipe = make_pipeline( \n",
    "    SelectKBest(f_regression),\n",
    "    LinearRegression()\n",
    ")"
   ]
  },
  {
   "cell_type": "code",
   "execution_count": 17,
   "id": "6b208b9c",
   "metadata": {},
   "outputs": [],
   "source": [
    "# define k\n",
    "k = [k+1 for k in range(len(X_train.columns))]\n",
    "grid_params = {'selectkbest__k': k}"
   ]
  },
  {
   "cell_type": "code",
   "execution_count": 18,
   "id": "e7c4e17e",
   "metadata": {},
   "outputs": [],
   "source": [
    "lr_grid_cv = GridSearchCV(pipe, param_grid=grid_params, cv=5, n_jobs=-1)"
   ]
  },
  {
   "cell_type": "code",
   "execution_count": 19,
   "id": "5f1b657d",
   "metadata": {},
   "outputs": [
    {
     "name": "stderr",
     "output_type": "stream",
     "text": [
      "C:\\Anaconda\\lib\\site-packages\\sklearn\\feature_selection\\_univariate_selection.py:302: RuntimeWarning: invalid value encountered in true_divide\n",
      "  corr /= X_norms\n"
     ]
    },
    {
     "data": {
      "text/plain": [
       "GridSearchCV(cv=5,\n",
       "             estimator=Pipeline(steps=[('selectkbest',\n",
       "                                        SelectKBest(score_func=<function f_regression at 0x000002689EE788B0>)),\n",
       "                                       ('linearregression',\n",
       "                                        LinearRegression())]),\n",
       "             n_jobs=-1,\n",
       "             param_grid={'selectkbest__k': [1, 2, 3, 4, 5, 6, 7, 8, 9, 10, 11,\n",
       "                                            12, 13, 14, 15, 16, 17, 18, 19, 20,\n",
       "                                            21, 22, 23, 24, 25, 26, 27, 28, 29,\n",
       "                                            30, ...]})"
      ]
     },
     "execution_count": 19,
     "metadata": {},
     "output_type": "execute_result"
    }
   ],
   "source": [
    "lr_grid_cv.fit(X_train, y_train)"
   ]
  },
  {
   "cell_type": "code",
   "execution_count": 20,
   "id": "1cb6070c",
   "metadata": {},
   "outputs": [],
   "source": [
    "score_mean = lr_grid_cv.cv_results_['mean_test_score']\n",
    "score_std = lr_grid_cv.cv_results_['std_test_score']\n",
    "cv_k = [k for k in lr_grid_cv.cv_results_['param_selectkbest__k']]"
   ]
  },
  {
   "cell_type": "code",
   "execution_count": 21,
   "id": "cfe4f3b5",
   "metadata": {},
   "outputs": [
    {
     "data": {
      "text/plain": [
       "{'selectkbest__k': 6}"
      ]
     },
     "execution_count": 21,
     "metadata": {},
     "output_type": "execute_result"
    }
   ],
   "source": [
    "#Print the `best_params_` attribute of `lr_grid_cv`\n",
    "lr_grid_cv.best_params_"
   ]
  },
  {
   "cell_type": "code",
   "execution_count": 66,
   "id": "bc5c48aa",
   "metadata": {},
   "outputs": [
    {
     "data": {
      "image/png": "[encoded data removed]",
      "text/plain": [
       "<Figure size 1440x720 with 1 Axes>"
      ]
     },
     "metadata": {
      "needs_background": "light"
     },
     "output_type": "display_data"
    }
   ],
   "source": [
    "#Assign the value of k from the above dict of `best_params_` and assign it to `best_k`\n",
    "best_k = lr_grid_cv.best_params_['selectkbest__k']\n",
    "plt.subplots(figsize=(20, 10))\n",
    "plt.errorbar(cv_k[:50], score_mean[:50], yerr=score_std[:50])\n",
    "plt.axvline(x=best_k, c='r', ls='--', alpha=.5)\n",
    "plt.xlabel('k')\n",
    "plt.ylabel('CV score (r-squared)')\n",
    "plt.title('Pipeline mean CV score (error bars +/- 1sd)');\n",
    "plt.rcParams.update({'font.size': 18})"
   ]
  },
  {
   "cell_type": "markdown",
   "id": "bae7400c",
   "metadata": {},
   "source": [
    "The above suggets a good value for k is 6, but there was decline with k, follow by a rapid increase with k. After the best k, there is a very slow decline.It is interesting that the variance of the results dose not change much as k incresed."
   ]
  },
  {
   "cell_type": "markdown",
   "id": "380fe23e",
   "metadata": {},
   "source": [
    "Which features were most useful? Step into best model. Starting with the fitted grid search object,get the best estimator, then the named step 'selectkbest', for which use its get_support() method for a logical mask of the features selected."
   ]
  },
  {
   "cell_type": "code",
   "execution_count": 23,
   "id": "13d1fc13",
   "metadata": {},
   "outputs": [],
   "source": [
    "# Select the most useful features\n",
    "selected = lr_grid_cv.best_estimator_.named_steps.selectkbest.get_support()"
   ]
  },
  {
   "cell_type": "markdown",
   "id": "86c78349",
   "metadata": {},
   "source": [
    "Similarly, instead of using the 'selectkbest' named step, we can access the named step for the linear regression model and, from that, grab the model coefficients via its coef_ attribute:"
   ]
  },
  {
   "cell_type": "code",
   "execution_count": 24,
   "id": "039c6465",
   "metadata": {},
   "outputs": [
    {
     "data": {
      "text/plain": [
       "PTS              0.579280\n",
       "AST              0.364178\n",
       "year_played      0.204195\n",
       "REB              0.058857\n",
       "DRAFT_ROUND_1    0.024058\n",
       "PIE             -0.108458\n",
       "dtype: float64"
      ]
     },
     "execution_count": 24,
     "metadata": {},
     "output_type": "execute_result"
    }
   ],
   "source": [
    "#Get the linear model coefficients from the `coef_` attribute and store in `coefs`,\n",
    "#get the matching feature names from the column names of the dataframe,\n",
    "#and display the results as a pandas Series with `coefs` as the values and `features` as the index,\n",
    "#sorting the values in descending order\n",
    "coefs = lr_grid_cv.best_estimator_.named_steps.linearregression.coef_\n",
    "features = X_train.columns[selected]\n",
    "pd.Series(coefs, index=features).sort_values(ascending=False)"
   ]
  },
  {
   "cell_type": "markdown",
   "id": "eec038b0",
   "metadata": {},
   "source": [
    "The results suggest that total number of points is biggest positive feature. Thus makes intuitive sense. Player who has higher total number of points get pays more."
   ]
  },
  {
   "cell_type": "markdown",
   "id": "eec8b2c6",
   "metadata": {},
   "source": [
    "# Second Model - Random Forest Regression"
   ]
  },
  {
   "cell_type": "code",
   "execution_count": 25,
   "id": "79765f27",
   "metadata": {},
   "outputs": [
    {
     "data": {
      "text/plain": [
       "RandomForestRegressor(random_state=47)"
      ]
     },
     "execution_count": 25,
     "metadata": {},
     "output_type": "execute_result"
    }
   ],
   "source": [
    "# fit the model\n",
    "regr = RandomForestRegressor(random_state=47)\n",
    "regr.fit(X_train, y_train)"
   ]
  },
  {
   "cell_type": "code",
   "execution_count": 26,
   "id": "cee43590",
   "metadata": {},
   "outputs": [],
   "source": [
    "# use model to predict botn train and test data\n",
    "y_tr_pred = regr.predict(X_train)\n",
    "y_te_pred = regr.predict(X_test)"
   ]
  },
  {
   "cell_type": "code",
   "execution_count": 27,
   "id": "c68ed55f",
   "metadata": {},
   "outputs": [
    {
     "data": {
      "text/plain": [
       "(0.9595453311446888, 0.7196016129577019)"
      ]
     },
     "execution_count": 27,
     "metadata": {},
     "output_type": "execute_result"
    }
   ],
   "source": [
    "# r^2 - train, test\n",
    "r2 = r2_score(y_train, y_tr_pred), r2_score(y_test, y_te_pred)\n",
    "r2"
   ]
  },
  {
   "cell_type": "code",
   "execution_count": 28,
   "id": "ffd6c7fe",
   "metadata": {},
   "outputs": [
    {
     "data": {
      "text/plain": [
       "(0.035088612519969795, 0.07687053123294073)"
      ]
     },
     "execution_count": 28,
     "metadata": {},
     "output_type": "execute_result"
    }
   ],
   "source": [
    "# MAE - train, test\n",
    "mae = mean_absolute_error(y_train, y_tr_pred), mean_absolute_error(y_test, y_te_pred)\n",
    "mae"
   ]
  },
  {
   "cell_type": "code",
   "execution_count": 29,
   "id": "e5345329",
   "metadata": {},
   "outputs": [
    {
     "data": {
      "text/plain": [
       "(0.002458623328227449, 0.01546041030278132)"
      ]
     },
     "execution_count": 29,
     "metadata": {},
     "output_type": "execute_result"
    }
   ],
   "source": [
    "# MSE - train, test\n",
    "mse = mean_squared_error(y_train, y_tr_pred), mean_squared_error(y_test, y_te_pred)\n",
    "mse"
   ]
  },
  {
   "cell_type": "markdown",
   "id": "f9667367",
   "metadata": {},
   "source": [
    "## Hyperparameter search using GridSearchCV"
   ]
  },
  {
   "cell_type": "code",
   "execution_count": 30,
   "id": "3b5804fd",
   "metadata": {},
   "outputs": [],
   "source": [
    "# Print the accuracy from the testing data.\n",
    "rf_default_cv_results = cross_validate(regr, X_train, y_train, cv=5)"
   ]
  },
  {
   "cell_type": "code",
   "execution_count": 31,
   "id": "1ed82ced",
   "metadata": {},
   "outputs": [
    {
     "data": {
      "text/plain": [
       "array([0.75678941, 0.7094262 , 0.6501893 , 0.56024473, 0.72256069])"
      ]
     },
     "execution_count": 31,
     "metadata": {},
     "output_type": "execute_result"
    }
   ],
   "source": [
    "rf_cv_scores = rf_default_cv_results['test_score']\n",
    "rf_cv_scores"
   ]
  },
  {
   "cell_type": "code",
   "execution_count": 32,
   "id": "81766447",
   "metadata": {},
   "outputs": [
    {
     "data": {
      "text/plain": [
       "(0.6798420639538107, 0.06899826762862693)"
      ]
     },
     "execution_count": 32,
     "metadata": {},
     "output_type": "execute_result"
    }
   ],
   "source": [
    "np.mean(rf_cv_scores), np.std(rf_cv_scores)"
   ]
  },
  {
   "cell_type": "code",
   "execution_count": 33,
   "id": "0b71ba14",
   "metadata": {},
   "outputs": [
    {
     "data": {
      "text/plain": [
       "{'n_estimators': [108, 109, 110, 111, 112], 'max_depth': [4, 5, 6, None]}"
      ]
     },
     "execution_count": 33,
     "metadata": {},
     "output_type": "execute_result"
    }
   ],
   "source": [
    "# GridSearchCV\n",
    "# define parametes\n",
    "n_est = list(range(108, 113, 1))\n",
    "grid_params = {'n_estimators': n_est,\n",
    "               'max_depth': [4,5,6, None]}\n",
    "grid_params"
   ]
  },
  {
   "cell_type": "code",
   "execution_count": 34,
   "id": "e96e3fd6",
   "metadata": {},
   "outputs": [],
   "source": [
    "# define GridSearchCV\n",
    "rf_grid_cv = GridSearchCV(regr, grid_params,cv=5, n_jobs=-1)"
   ]
  },
  {
   "cell_type": "code",
   "execution_count": 35,
   "id": "828cdccd",
   "metadata": {},
   "outputs": [
    {
     "data": {
      "text/plain": [
       "GridSearchCV(cv=5, estimator=RandomForestRegressor(random_state=47), n_jobs=-1,\n",
       "             param_grid={'max_depth': [4, 5, 6, None],\n",
       "                         'n_estimators': [108, 109, 110, 111, 112]})"
      ]
     },
     "execution_count": 35,
     "metadata": {},
     "output_type": "execute_result"
    }
   ],
   "source": [
    "# fit the data\n",
    "rf_grid_cv.fit(X_train, y_train)"
   ]
  },
  {
   "cell_type": "code",
   "execution_count": 36,
   "id": "1ec66e3a",
   "metadata": {},
   "outputs": [
    {
     "data": {
      "text/plain": [
       "{'max_depth': 5, 'n_estimators': 112}"
      ]
     },
     "execution_count": 36,
     "metadata": {},
     "output_type": "execute_result"
    }
   ],
   "source": [
    "# find the best_params_\n",
    "rf_grid_cv.best_params_"
   ]
  },
  {
   "cell_type": "code",
   "execution_count": 37,
   "id": "58f4bbc4",
   "metadata": {},
   "outputs": [
    {
     "data": {
      "text/plain": [
       "array([0.75461512, 0.70504104, 0.65253199, 0.5767102 , 0.72966737])"
      ]
     },
     "execution_count": 37,
     "metadata": {},
     "output_type": "execute_result"
    }
   ],
   "source": [
    "rf_best_cv_results = cross_validate(rf_grid_cv.best_estimator_, X_train, y_train, cv=5)\n",
    "rf_best_scores = rf_best_cv_results['test_score']\n",
    "rf_best_scores"
   ]
  },
  {
   "cell_type": "code",
   "execution_count": 38,
   "id": "2d5c8c2a",
   "metadata": {},
   "outputs": [
    {
     "data": {
      "text/plain": [
       "(0.6837131434293185, 0.0632703015636976)"
      ]
     },
     "execution_count": 38,
     "metadata": {},
     "output_type": "execute_result"
    }
   ],
   "source": [
    "np.mean(rf_best_scores), np.std(rf_best_scores)"
   ]
  },
  {
   "cell_type": "code",
   "execution_count": 75,
   "id": "4274079f",
   "metadata": {},
   "outputs": [
    {
     "data": {
      "image/png": "[encoded data removed]",
      "text/plain": [
       "<Figure size 2160x1080 with 1 Axes>"
      ]
     },
     "metadata": {
      "needs_background": "light"
     },
     "output_type": "display_data"
    }
   ],
   "source": [
    "#Plot a barplot of the random forest's feature importances,\n",
    "#assigning the `feature_importances_` attribute of \n",
    "#`rf_grid_cv.best_estimator_.named_steps.randomforestregressor` to the name `imps` to then\n",
    "#create a pandas Series object of the feature importances, with the index given by the\n",
    "#training data column names, sorting the values in descending order\n",
    "plt.subplots(figsize=(30, 15))\n",
    "imps = rf_grid_cv.best_estimator_.feature_importances_\n",
    "rf_feat_imps = pd.Series(imps[:20], index=X_train.columns[:20]).sort_values(ascending=False)\n",
    "rf_feat_imps.plot(kind='bar')\n",
    "plt.xlabel('features')\n",
    "plt.ylabel('importance')\n",
    "plt.title('Best random forest regressor feature importances')\n",
    "plt.rcParams.update({'font.size': 50})"
   ]
  },
  {
   "cell_type": "markdown",
   "id": "444c8612",
   "metadata": {},
   "source": [
    "Total number of points is the most importance feature same as what linear model suggest. However, the second most importance feature is year played instead of Assist to turnover ratio."
   ]
  },
  {
   "cell_type": "markdown",
   "id": "f61524a9",
   "metadata": {},
   "source": [
    "# Third Model - Knn regression"
   ]
  },
  {
   "cell_type": "code",
   "execution_count": 40,
   "id": "6460653b",
   "metadata": {},
   "outputs": [
    {
     "data": {
      "text/plain": [
       "KNeighborsRegressor()"
      ]
     },
     "execution_count": 40,
     "metadata": {},
     "output_type": "execute_result"
    }
   ],
   "source": [
    "KNNrg = KNeighborsRegressor()\n",
    "KNNrg.fit(X_train, y_train)"
   ]
  },
  {
   "cell_type": "code",
   "execution_count": 41,
   "id": "b9688a27",
   "metadata": {},
   "outputs": [],
   "source": [
    "# use model to predict botn train and test data\n",
    "y_tr_pred = KNNrg.predict(X_train)\n",
    "y_te_pred = KNNrg.predict(X_test)"
   ]
  },
  {
   "cell_type": "code",
   "execution_count": 42,
   "id": "eb493364",
   "metadata": {},
   "outputs": [
    {
     "name": "stdout",
     "output_type": "stream",
     "text": [
      "r2:  (0.4848443149803453, 0.19778898963180158)\n",
      "mae:  (0.12209185219811397, 0.13365993127757606)\n",
      "mes:  (0.03130846996642831, 0.04423175004865554)\n"
     ]
    }
   ],
   "source": [
    "# r^2 - train, test\n",
    "r2 = r2_score(y_train, y_tr_pred), r2_score(y_test, y_te_pred)\n",
    "print('r2: ', r2)\n",
    "# MAE - train, test\n",
    "mae = mean_absolute_error(y_train, y_tr_pred), mean_absolute_error(y_test, y_te_pred)\n",
    "print('mae: ', mae)\n",
    "# MSE - train, test\n",
    "mse = mean_squared_error(y_train, y_tr_pred), mean_squared_error(y_test, y_te_pred)\n",
    "print ('mes: ', mse)"
   ]
  },
  {
   "cell_type": "markdown",
   "id": "2e761114",
   "metadata": {},
   "source": [
    "## Hyperparameter search using GridSearchCV"
   ]
  },
  {
   "cell_type": "code",
   "execution_count": 43,
   "id": "a97f06fc",
   "metadata": {},
   "outputs": [
    {
     "data": {
      "text/plain": [
       "{'n_neighbors': [11, 12, 13, 14, 15, 16, 17, 18, 19],\n",
       " 'weights': ['uniform', 'distance']}"
      ]
     },
     "execution_count": 43,
     "metadata": {},
     "output_type": "execute_result"
    }
   ],
   "source": [
    "# GridSearchCV\n",
    "# define parametes\n",
    "n_nei = list(range(11, 20, 1))\n",
    "grid_params = {'n_neighbors': n_nei,\n",
    "               'weights': ['uniform', 'distance']}\n",
    "grid_params"
   ]
  },
  {
   "cell_type": "code",
   "execution_count": 44,
   "id": "5554b09c",
   "metadata": {},
   "outputs": [
    {
     "data": {
      "text/plain": [
       "GridSearchCV(cv=5, estimator=KNeighborsRegressor(), n_jobs=-1,\n",
       "             param_grid={'n_neighbors': [11, 12, 13, 14, 15, 16, 17, 18, 19],\n",
       "                         'weights': ['uniform', 'distance']})"
      ]
     },
     "execution_count": 44,
     "metadata": {},
     "output_type": "execute_result"
    }
   ],
   "source": [
    "# define GridSearchCV\n",
    "KNN_grid_cv = GridSearchCV(KNNrg, grid_params,cv=5, n_jobs=-1)\n",
    "# fit the data\n",
    "KNN_grid_cv.fit(X_train, y_train)"
   ]
  },
  {
   "cell_type": "code",
   "execution_count": 45,
   "id": "260d2db4",
   "metadata": {},
   "outputs": [
    {
     "data": {
      "text/plain": [
       "{'n_neighbors': 13, 'weights': 'uniform'}"
      ]
     },
     "execution_count": 45,
     "metadata": {},
     "output_type": "execute_result"
    }
   ],
   "source": [
    "# find the best_params_\n",
    "KNN_grid_cv.best_params_"
   ]
  },
  {
   "cell_type": "code",
   "execution_count": 46,
   "id": "e3c58650",
   "metadata": {},
   "outputs": [
    {
     "data": {
      "text/plain": [
       "array([0.43141688, 0.39609579, 0.61648863, 0.30394988, 0.32006749])"
      ]
     },
     "execution_count": 46,
     "metadata": {},
     "output_type": "execute_result"
    }
   ],
   "source": [
    "KNN_best_cv_results = cross_validate(KNN_grid_cv.best_estimator_, X_train, y_train, cv=5)\n",
    "KNN_best_scores = KNN_best_cv_results['test_score']\n",
    "KNN_best_scores"
   ]
  },
  {
   "cell_type": "code",
   "execution_count": 47,
   "id": "deef3773",
   "metadata": {},
   "outputs": [
    {
     "data": {
      "text/plain": [
       "(0.41360373186612404, 0.11185625962370108)"
      ]
     },
     "execution_count": 47,
     "metadata": {},
     "output_type": "execute_result"
    }
   ],
   "source": [
    "np.mean(KNN_best_scores), np.std(KNN_best_scores)"
   ]
  },
  {
   "cell_type": "markdown",
   "id": "e986c49d",
   "metadata": {},
   "source": [
    "# Final Model Selection"
   ]
  },
  {
   "cell_type": "markdown",
   "id": "468ba88b",
   "metadata": {},
   "source": [
    "## Linear regression model performance"
   ]
  },
  {
   "cell_type": "code",
   "execution_count": 48,
   "id": "80d05143",
   "metadata": {},
   "outputs": [],
   "source": [
    "# 'neg_mean_absolute_error' uses the (negative of) the mean absolute error\n",
    "lr_neg_mae = cross_validate(lr_grid_cv.best_estimator_, X_train, y_train, \n",
    "                            scoring='neg_mean_absolute_error', cv=5, n_jobs=-1)"
   ]
  },
  {
   "cell_type": "code",
   "execution_count": 49,
   "id": "af28c5f9",
   "metadata": {},
   "outputs": [
    {
     "data": {
      "text/plain": [
       "(0.1142777933058519, 0.016871931027227116)"
      ]
     },
     "execution_count": 49,
     "metadata": {},
     "output_type": "execute_result"
    }
   ],
   "source": [
    "lr_mae_mean = np.mean(-1 * lr_neg_mae['test_score'])\n",
    "lr_mae_std = np.std(-1 * lr_neg_mae['test_score'])\n",
    "lr_mae_mean, lr_mae_std"
   ]
  },
  {
   "cell_type": "code",
   "execution_count": 50,
   "id": "68b736bf",
   "metadata": {},
   "outputs": [
    {
     "data": {
      "text/plain": [
       "0.09779078346608017"
      ]
     },
     "execution_count": 50,
     "metadata": {},
     "output_type": "execute_result"
    }
   ],
   "source": [
    "lr_mae = mean_absolute_error(y_test, lr_grid_cv.best_estimator_.predict(X_test))\n",
    "lr_mae"
   ]
  },
  {
   "cell_type": "code",
   "execution_count": 51,
   "id": "a4b62f76",
   "metadata": {},
   "outputs": [],
   "source": [
    "# load unscale the data\n",
    "df_unscale = pd.read_csv('clean_data.csv')"
   ]
  },
  {
   "cell_type": "code",
   "execution_count": 52,
   "id": "04f1e238",
   "metadata": {},
   "outputs": [
    {
     "data": {
      "text/plain": [
       "44393664.0"
      ]
     },
     "execution_count": 52,
     "metadata": {},
     "output_type": "execute_result"
    }
   ],
   "source": [
    "# find the scale-ratio\n",
    "scale_ratio = df_unscale['current_avg_salary'].max() / 1\n",
    "scale_ratio"
   ]
  },
  {
   "cell_type": "code",
   "execution_count": 53,
   "id": "0be84e6a",
   "metadata": {
    "scrolled": false
   },
   "outputs": [
    {
     "data": {
      "text/plain": [
       "4341291.183489919"
      ]
     },
     "execution_count": 53,
     "metadata": {},
     "output_type": "execute_result"
    }
   ],
   "source": [
    "# unscale the mae\n",
    "unscale_lr_mae = lr_mae * scale_ratio\n",
    "unscale_lr_mae"
   ]
  },
  {
   "cell_type": "markdown",
   "id": "03a286d3",
   "metadata": {},
   "source": [
    "The ucscale mean abosute error for salary is 4,341,291. The means on average we might expecect to be off by around $4,300,000 if we guessed player's salary based on an average of their known attributes."
   ]
  },
  {
   "cell_type": "code",
   "execution_count": 54,
   "id": "bb64c5e9",
   "metadata": {},
   "outputs": [],
   "source": [
    "# let see the median salary\n",
    "median = df_unscale['current_avg_salary'].median()"
   ]
  },
  {
   "cell_type": "code",
   "execution_count": 55,
   "id": "48d65794",
   "metadata": {},
   "outputs": [
    {
     "data": {
      "text/plain": [
       "10092232.249386212"
      ]
     },
     "execution_count": 55,
     "metadata": {},
     "output_type": "execute_result"
    }
   ],
   "source": [
    "df_unscale['current_avg_salary'].mean()"
   ]
  },
  {
   "cell_type": "markdown",
   "id": "179fd47e",
   "metadata": {},
   "source": [
    "## Random forest regression model performance"
   ]
  },
  {
   "cell_type": "code",
   "execution_count": 56,
   "id": "6790cf5c",
   "metadata": {},
   "outputs": [],
   "source": [
    "# 'neg_mean_absolute_error' uses the (negative of) the mean absolute error\n",
    "rf_neg_mae = cross_validate(rf_grid_cv.best_estimator_, X_train, y_train, \n",
    "                            scoring='neg_mean_absolute_error', cv=5, n_jobs=-1)"
   ]
  },
  {
   "cell_type": "code",
   "execution_count": 57,
   "id": "899158fa",
   "metadata": {},
   "outputs": [
    {
     "data": {
      "text/plain": [
       "(0.09844355829736075, 0.00860908293278633)"
      ]
     },
     "execution_count": 57,
     "metadata": {},
     "output_type": "execute_result"
    }
   ],
   "source": [
    "rf_mae_mean = np.mean(-1 * rf_neg_mae['test_score'])\n",
    "rf_mae_std = np.std(-1 * rf_neg_mae['test_score'])\n",
    "rf_mae_mean, rf_mae_std"
   ]
  },
  {
   "cell_type": "code",
   "execution_count": 58,
   "id": "83262dee",
   "metadata": {},
   "outputs": [
    {
     "data": {
      "text/plain": [
       "0.07964085815274138"
      ]
     },
     "execution_count": 58,
     "metadata": {},
     "output_type": "execute_result"
    }
   ],
   "source": [
    "rf_mae= mean_absolute_error(y_test, rf_grid_cv.best_estimator_.predict(X_test))\n",
    "rf_mae"
   ]
  },
  {
   "cell_type": "code",
   "execution_count": 59,
   "id": "fd394067",
   "metadata": {},
   "outputs": [
    {
     "data": {
      "text/plain": [
       "3535549.4975044616"
      ]
     },
     "execution_count": 59,
     "metadata": {},
     "output_type": "execute_result"
    }
   ],
   "source": [
    "unscale_rf_mae = rf_mae*scale_ratio\n",
    "unscale_rf_mae"
   ]
  },
  {
   "cell_type": "code",
   "execution_count": 60,
   "id": "50d7d58f",
   "metadata": {},
   "outputs": [
    {
     "data": {
      "text/plain": [
       "62.51913020148431"
      ]
     },
     "execution_count": 60,
     "metadata": {},
     "output_type": "execute_result"
    }
   ],
   "source": [
    "unscale_rf_mae / median * 100"
   ]
  },
  {
   "cell_type": "markdown",
   "id": "991f5e33",
   "metadata": {},
   "source": [
    "## KNN regression model performance"
   ]
  },
  {
   "cell_type": "code",
   "execution_count": 61,
   "id": "9e38d32d",
   "metadata": {},
   "outputs": [],
   "source": [
    "# 'neg_mean_absolute_error' uses the (negative of) the mean absolute error\n",
    "KNN_neg_mae = cross_validate(KNN_grid_cv.best_estimator_, X_train, y_train, \n",
    "                            scoring='neg_mean_absolute_error', cv=5, n_jobs=-1)"
   ]
  },
  {
   "cell_type": "code",
   "execution_count": 62,
   "id": "fe954a84",
   "metadata": {},
   "outputs": [
    {
     "data": {
      "text/plain": [
       "(0.1344380509487724, 0.020777445466463935)"
      ]
     },
     "execution_count": 62,
     "metadata": {},
     "output_type": "execute_result"
    }
   ],
   "source": [
    "KNN_mae_mean = np.mean(-1 * KNN_neg_mae['test_score'])\n",
    "KNN_mae_std = np.std(-1 * KNN_neg_mae['test_score'])\n",
    "KNN_mae_mean, KNN_mae_std"
   ]
  },
  {
   "cell_type": "code",
   "execution_count": 63,
   "id": "cdf9b273",
   "metadata": {},
   "outputs": [
    {
     "data": {
      "text/plain": [
       "0.11910165689396882"
      ]
     },
     "execution_count": 63,
     "metadata": {},
     "output_type": "execute_result"
    }
   ],
   "source": [
    "KNN_mae = mean_absolute_error(y_test, KNN_grid_cv.best_estimator_.predict(X_test))\n",
    "KNN_mae"
   ]
  },
  {
   "cell_type": "code",
   "execution_count": 64,
   "id": "9192de47",
   "metadata": {},
   "outputs": [
    {
     "data": {
      "text/plain": [
       "5287358.937994136"
      ]
     },
     "execution_count": 64,
     "metadata": {},
     "output_type": "execute_result"
    }
   ],
   "source": [
    "# unscale the mae\n",
    "unscale_KNN_mae = KNN_mae*scale_ratio\n",
    "unscale_KNN_mae"
   ]
  },
  {
   "cell_type": "markdown",
   "id": "71b96a64",
   "metadata": {},
   "source": [
    "# Conclusion"
   ]
  },
  {
   "cell_type": "markdown",
   "id": "841ea43d",
   "metadata": {},
   "source": [
    "The random forest model has a lower cross-validation mean absolute which is around $3,500,000. "
   ]
  }
 ],
 "metadata": {
  "kernelspec": {
   "display_name": "Python 3",
   "language": "python",
   "name": "python3"
  },
  "language_info": {
   "codemirror_mode": {
    "name": "ipython",
    "version": 3
   },
   "file_extension": ".py",
   "mimetype": "text/x-python",
   "name": "python",
   "nbconvert_exporter": "python",
   "pygments_lexer": "ipython3",
   "version": "3.8.10"
  },
  "toc": {
   "base_numbering": 1,
   "nav_menu": {},
   "number_sections": true,
   "sideBar": true,
   "skip_h1_title": false,
   "title_cell": "Table of Contents",
   "title_sidebar": "Contents",
   "toc_cell": false,
   "toc_position": {},
   "toc_section_display": true,
   "toc_window_display": false
  }
 },
 "nbformat": 4,
 "nbformat_minor": 5
}
