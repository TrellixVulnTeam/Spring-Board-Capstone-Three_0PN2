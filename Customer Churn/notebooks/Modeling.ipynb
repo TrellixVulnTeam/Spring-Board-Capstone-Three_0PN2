{
 "cells": [
  {
   "cell_type": "markdown",
   "id": "d42db136",
   "metadata": {},
   "source": [
    "# Imports"
   ]
  },
  {
   "cell_type": "code",
   "execution_count": 1,
   "id": "535d31bc",
   "metadata": {},
   "outputs": [],
   "source": [
    "import pandas as pd\n",
    "import numpy as np\n",
    "from sklearn import tree, metrics\n",
    "from sklearn.model_selection import train_test_split\n",
    "import seaborn as sns\n",
    "import matplotlib.pyplot as plt\n",
    "from io import StringIO  \n",
    "from IPython.display import Image  \n",
    "import pydotplus"
   ]
  },
  {
   "cell_type": "markdown",
   "id": "086b68c9",
   "metadata": {},
   "source": [
    "# Load Data"
   ]
  },
  {
   "cell_type": "code",
   "execution_count": 2,
   "id": "07b55134",
   "metadata": {},
   "outputs": [],
   "source": [
    "dummy_df = pd.read_csv('dummy_df.csv')"
   ]
  },
  {
   "cell_type": "code",
   "execution_count": 3,
   "id": "539e91e7",
   "metadata": {
    "scrolled": true
   },
   "outputs": [
    {
     "data": {
      "text/html": [
       "<div>\n",
       "<style scoped>\n",
       "    .dataframe tbody tr th:only-of-type {\n",
       "        vertical-align: middle;\n",
       "    }\n",
       "\n",
       "    .dataframe tbody tr th {\n",
       "        vertical-align: top;\n",
       "    }\n",
       "\n",
       "    .dataframe thead th {\n",
       "        text-align: right;\n",
       "    }\n",
       "</style>\n",
       "<table border=\"1\" class=\"dataframe\">\n",
       "  <thead>\n",
       "    <tr style=\"text-align: right;\">\n",
       "      <th></th>\n",
       "      <th>Gender</th>\n",
       "      <th>Senior Citizen</th>\n",
       "      <th>Tenure</th>\n",
       "      <th>Monthly Charges</th>\n",
       "      <th>Total Charges</th>\n",
       "      <th>Churn</th>\n",
       "      <th>Partner_Yes</th>\n",
       "      <th>Dependents_Yes</th>\n",
       "      <th>Phone Service_Yes</th>\n",
       "      <th>Multiple Lines_No phone service</th>\n",
       "      <th>...</th>\n",
       "      <th>Streaming TV_No internet service</th>\n",
       "      <th>Streaming TV_Yes</th>\n",
       "      <th>Streaming Movies_No internet service</th>\n",
       "      <th>Streaming Movies_Yes</th>\n",
       "      <th>Contract_One year</th>\n",
       "      <th>Contract_Two year</th>\n",
       "      <th>Paperless Billing_Yes</th>\n",
       "      <th>Payment Method_Credit card (automatic)</th>\n",
       "      <th>Payment Method_Electronic check</th>\n",
       "      <th>Payment Method_Mailed check</th>\n",
       "    </tr>\n",
       "  </thead>\n",
       "  <tbody>\n",
       "    <tr>\n",
       "      <th>0</th>\n",
       "      <td>1</td>\n",
       "      <td>0</td>\n",
       "      <td>34</td>\n",
       "      <td>56.95</td>\n",
       "      <td>1889.50</td>\n",
       "      <td>0</td>\n",
       "      <td>0</td>\n",
       "      <td>0</td>\n",
       "      <td>1</td>\n",
       "      <td>0</td>\n",
       "      <td>...</td>\n",
       "      <td>0</td>\n",
       "      <td>0</td>\n",
       "      <td>0</td>\n",
       "      <td>0</td>\n",
       "      <td>1</td>\n",
       "      <td>0</td>\n",
       "      <td>0</td>\n",
       "      <td>0</td>\n",
       "      <td>0</td>\n",
       "      <td>1</td>\n",
       "    </tr>\n",
       "    <tr>\n",
       "      <th>1</th>\n",
       "      <td>1</td>\n",
       "      <td>0</td>\n",
       "      <td>2</td>\n",
       "      <td>53.85</td>\n",
       "      <td>108.15</td>\n",
       "      <td>1</td>\n",
       "      <td>0</td>\n",
       "      <td>0</td>\n",
       "      <td>1</td>\n",
       "      <td>0</td>\n",
       "      <td>...</td>\n",
       "      <td>0</td>\n",
       "      <td>0</td>\n",
       "      <td>0</td>\n",
       "      <td>0</td>\n",
       "      <td>0</td>\n",
       "      <td>0</td>\n",
       "      <td>1</td>\n",
       "      <td>0</td>\n",
       "      <td>0</td>\n",
       "      <td>1</td>\n",
       "    </tr>\n",
       "    <tr>\n",
       "      <th>2</th>\n",
       "      <td>0</td>\n",
       "      <td>0</td>\n",
       "      <td>2</td>\n",
       "      <td>70.70</td>\n",
       "      <td>151.65</td>\n",
       "      <td>1</td>\n",
       "      <td>0</td>\n",
       "      <td>0</td>\n",
       "      <td>1</td>\n",
       "      <td>0</td>\n",
       "      <td>...</td>\n",
       "      <td>0</td>\n",
       "      <td>0</td>\n",
       "      <td>0</td>\n",
       "      <td>0</td>\n",
       "      <td>0</td>\n",
       "      <td>0</td>\n",
       "      <td>1</td>\n",
       "      <td>0</td>\n",
       "      <td>1</td>\n",
       "      <td>0</td>\n",
       "    </tr>\n",
       "    <tr>\n",
       "      <th>3</th>\n",
       "      <td>0</td>\n",
       "      <td>0</td>\n",
       "      <td>8</td>\n",
       "      <td>99.65</td>\n",
       "      <td>820.50</td>\n",
       "      <td>1</td>\n",
       "      <td>0</td>\n",
       "      <td>0</td>\n",
       "      <td>1</td>\n",
       "      <td>0</td>\n",
       "      <td>...</td>\n",
       "      <td>0</td>\n",
       "      <td>1</td>\n",
       "      <td>0</td>\n",
       "      <td>1</td>\n",
       "      <td>0</td>\n",
       "      <td>0</td>\n",
       "      <td>1</td>\n",
       "      <td>0</td>\n",
       "      <td>1</td>\n",
       "      <td>0</td>\n",
       "    </tr>\n",
       "    <tr>\n",
       "      <th>4</th>\n",
       "      <td>1</td>\n",
       "      <td>0</td>\n",
       "      <td>22</td>\n",
       "      <td>89.10</td>\n",
       "      <td>1949.40</td>\n",
       "      <td>0</td>\n",
       "      <td>0</td>\n",
       "      <td>1</td>\n",
       "      <td>1</td>\n",
       "      <td>0</td>\n",
       "      <td>...</td>\n",
       "      <td>0</td>\n",
       "      <td>1</td>\n",
       "      <td>0</td>\n",
       "      <td>0</td>\n",
       "      <td>0</td>\n",
       "      <td>0</td>\n",
       "      <td>1</td>\n",
       "      <td>1</td>\n",
       "      <td>0</td>\n",
       "      <td>0</td>\n",
       "    </tr>\n",
       "  </tbody>\n",
       "</table>\n",
       "<p>5 rows × 31 columns</p>\n",
       "</div>"
      ],
      "text/plain": [
       "   Gender  Senior Citizen  Tenure  Monthly Charges  Total Charges  Churn  \\\n",
       "0       1               0      34            56.95        1889.50      0   \n",
       "1       1               0       2            53.85         108.15      1   \n",
       "2       0               0       2            70.70         151.65      1   \n",
       "3       0               0       8            99.65         820.50      1   \n",
       "4       1               0      22            89.10        1949.40      0   \n",
       "\n",
       "   Partner_Yes  Dependents_Yes  Phone Service_Yes  \\\n",
       "0            0               0                  1   \n",
       "1            0               0                  1   \n",
       "2            0               0                  1   \n",
       "3            0               0                  1   \n",
       "4            0               1                  1   \n",
       "\n",
       "   Multiple Lines_No phone service  ...  Streaming TV_No internet service  \\\n",
       "0                                0  ...                                 0   \n",
       "1                                0  ...                                 0   \n",
       "2                                0  ...                                 0   \n",
       "3                                0  ...                                 0   \n",
       "4                                0  ...                                 0   \n",
       "\n",
       "   Streaming TV_Yes  Streaming Movies_No internet service  \\\n",
       "0                 0                                     0   \n",
       "1                 0                                     0   \n",
       "2                 0                                     0   \n",
       "3                 1                                     0   \n",
       "4                 1                                     0   \n",
       "\n",
       "   Streaming Movies_Yes  Contract_One year  Contract_Two year  \\\n",
       "0                     0                  1                  0   \n",
       "1                     0                  0                  0   \n",
       "2                     0                  0                  0   \n",
       "3                     1                  0                  0   \n",
       "4                     0                  0                  0   \n",
       "\n",
       "   Paperless Billing_Yes  Payment Method_Credit card (automatic)  \\\n",
       "0                      0                                       0   \n",
       "1                      1                                       0   \n",
       "2                      1                                       0   \n",
       "3                      1                                       0   \n",
       "4                      1                                       1   \n",
       "\n",
       "   Payment Method_Electronic check  Payment Method_Mailed check  \n",
       "0                                0                            1  \n",
       "1                                0                            1  \n",
       "2                                1                            0  \n",
       "3                                1                            0  \n",
       "4                                0                            0  \n",
       "\n",
       "[5 rows x 31 columns]"
      ]
     },
     "execution_count": 3,
     "metadata": {},
     "output_type": "execute_result"
    }
   ],
   "source": [
    "dummy_df.head()"
   ]
  },
  {
   "cell_type": "markdown",
   "id": "c253b893",
   "metadata": {},
   "source": [
    "## Splitting our Data"
   ]
  },
  {
   "cell_type": "code",
   "execution_count": 4,
   "id": "891d25c6",
   "metadata": {},
   "outputs": [],
   "source": [
    "# Establish target feature, churn\n",
    "y = dummy_df.Churn.values\n",
    "# Drop the target feature from remaining features\n",
    "X = dummy_df.drop('Churn', axis = 1)\n",
    "# Save dataframe column titles to list, we will need them in next step\n",
    "cols = X.columns"
   ]
  },
  {
   "cell_type": "code",
   "execution_count": 5,
   "id": "7eb630e5",
   "metadata": {},
   "outputs": [
    {
     "data": {
      "text/plain": [
       "array([0, 1, 1, ..., 1, 0, 1], dtype=int64)"
      ]
     },
     "execution_count": 5,
     "metadata": {},
     "output_type": "execute_result"
    }
   ],
   "source": [
    "y"
   ]
  },
  {
   "cell_type": "code",
   "execution_count": 6,
   "id": "413e1432",
   "metadata": {
    "scrolled": true
   },
   "outputs": [
    {
     "data": {
      "text/html": [
       "<div>\n",
       "<style scoped>\n",
       "    .dataframe tbody tr th:only-of-type {\n",
       "        vertical-align: middle;\n",
       "    }\n",
       "\n",
       "    .dataframe tbody tr th {\n",
       "        vertical-align: top;\n",
       "    }\n",
       "\n",
       "    .dataframe thead th {\n",
       "        text-align: right;\n",
       "    }\n",
       "</style>\n",
       "<table border=\"1\" class=\"dataframe\">\n",
       "  <thead>\n",
       "    <tr style=\"text-align: right;\">\n",
       "      <th></th>\n",
       "      <th>Gender</th>\n",
       "      <th>Senior Citizen</th>\n",
       "      <th>Tenure</th>\n",
       "      <th>Monthly Charges</th>\n",
       "      <th>Total Charges</th>\n",
       "      <th>Partner_Yes</th>\n",
       "      <th>Dependents_Yes</th>\n",
       "      <th>Phone Service_Yes</th>\n",
       "      <th>Multiple Lines_No phone service</th>\n",
       "      <th>Multiple Lines_Yes</th>\n",
       "      <th>...</th>\n",
       "      <th>Streaming TV_No internet service</th>\n",
       "      <th>Streaming TV_Yes</th>\n",
       "      <th>Streaming Movies_No internet service</th>\n",
       "      <th>Streaming Movies_Yes</th>\n",
       "      <th>Contract_One year</th>\n",
       "      <th>Contract_Two year</th>\n",
       "      <th>Paperless Billing_Yes</th>\n",
       "      <th>Payment Method_Credit card (automatic)</th>\n",
       "      <th>Payment Method_Electronic check</th>\n",
       "      <th>Payment Method_Mailed check</th>\n",
       "    </tr>\n",
       "  </thead>\n",
       "  <tbody>\n",
       "    <tr>\n",
       "      <th>0</th>\n",
       "      <td>1</td>\n",
       "      <td>0</td>\n",
       "      <td>34</td>\n",
       "      <td>56.95</td>\n",
       "      <td>1889.50</td>\n",
       "      <td>0</td>\n",
       "      <td>0</td>\n",
       "      <td>1</td>\n",
       "      <td>0</td>\n",
       "      <td>0</td>\n",
       "      <td>...</td>\n",
       "      <td>0</td>\n",
       "      <td>0</td>\n",
       "      <td>0</td>\n",
       "      <td>0</td>\n",
       "      <td>1</td>\n",
       "      <td>0</td>\n",
       "      <td>0</td>\n",
       "      <td>0</td>\n",
       "      <td>0</td>\n",
       "      <td>1</td>\n",
       "    </tr>\n",
       "    <tr>\n",
       "      <th>1</th>\n",
       "      <td>1</td>\n",
       "      <td>0</td>\n",
       "      <td>2</td>\n",
       "      <td>53.85</td>\n",
       "      <td>108.15</td>\n",
       "      <td>0</td>\n",
       "      <td>0</td>\n",
       "      <td>1</td>\n",
       "      <td>0</td>\n",
       "      <td>0</td>\n",
       "      <td>...</td>\n",
       "      <td>0</td>\n",
       "      <td>0</td>\n",
       "      <td>0</td>\n",
       "      <td>0</td>\n",
       "      <td>0</td>\n",
       "      <td>0</td>\n",
       "      <td>1</td>\n",
       "      <td>0</td>\n",
       "      <td>0</td>\n",
       "      <td>1</td>\n",
       "    </tr>\n",
       "    <tr>\n",
       "      <th>2</th>\n",
       "      <td>0</td>\n",
       "      <td>0</td>\n",
       "      <td>2</td>\n",
       "      <td>70.70</td>\n",
       "      <td>151.65</td>\n",
       "      <td>0</td>\n",
       "      <td>0</td>\n",
       "      <td>1</td>\n",
       "      <td>0</td>\n",
       "      <td>0</td>\n",
       "      <td>...</td>\n",
       "      <td>0</td>\n",
       "      <td>0</td>\n",
       "      <td>0</td>\n",
       "      <td>0</td>\n",
       "      <td>0</td>\n",
       "      <td>0</td>\n",
       "      <td>1</td>\n",
       "      <td>0</td>\n",
       "      <td>1</td>\n",
       "      <td>0</td>\n",
       "    </tr>\n",
       "    <tr>\n",
       "      <th>3</th>\n",
       "      <td>0</td>\n",
       "      <td>0</td>\n",
       "      <td>8</td>\n",
       "      <td>99.65</td>\n",
       "      <td>820.50</td>\n",
       "      <td>0</td>\n",
       "      <td>0</td>\n",
       "      <td>1</td>\n",
       "      <td>0</td>\n",
       "      <td>1</td>\n",
       "      <td>...</td>\n",
       "      <td>0</td>\n",
       "      <td>1</td>\n",
       "      <td>0</td>\n",
       "      <td>1</td>\n",
       "      <td>0</td>\n",
       "      <td>0</td>\n",
       "      <td>1</td>\n",
       "      <td>0</td>\n",
       "      <td>1</td>\n",
       "      <td>0</td>\n",
       "    </tr>\n",
       "    <tr>\n",
       "      <th>4</th>\n",
       "      <td>1</td>\n",
       "      <td>0</td>\n",
       "      <td>22</td>\n",
       "      <td>89.10</td>\n",
       "      <td>1949.40</td>\n",
       "      <td>0</td>\n",
       "      <td>1</td>\n",
       "      <td>1</td>\n",
       "      <td>0</td>\n",
       "      <td>1</td>\n",
       "      <td>...</td>\n",
       "      <td>0</td>\n",
       "      <td>1</td>\n",
       "      <td>0</td>\n",
       "      <td>0</td>\n",
       "      <td>0</td>\n",
       "      <td>0</td>\n",
       "      <td>1</td>\n",
       "      <td>1</td>\n",
       "      <td>0</td>\n",
       "      <td>0</td>\n",
       "    </tr>\n",
       "  </tbody>\n",
       "</table>\n",
       "<p>5 rows × 30 columns</p>\n",
       "</div>"
      ],
      "text/plain": [
       "   Gender  Senior Citizen  Tenure  Monthly Charges  Total Charges  \\\n",
       "0       1               0      34            56.95        1889.50   \n",
       "1       1               0       2            53.85         108.15   \n",
       "2       0               0       2            70.70         151.65   \n",
       "3       0               0       8            99.65         820.50   \n",
       "4       1               0      22            89.10        1949.40   \n",
       "\n",
       "   Partner_Yes  Dependents_Yes  Phone Service_Yes  \\\n",
       "0            0               0                  1   \n",
       "1            0               0                  1   \n",
       "2            0               0                  1   \n",
       "3            0               0                  1   \n",
       "4            0               1                  1   \n",
       "\n",
       "   Multiple Lines_No phone service  Multiple Lines_Yes  ...  \\\n",
       "0                                0                   0  ...   \n",
       "1                                0                   0  ...   \n",
       "2                                0                   0  ...   \n",
       "3                                0                   1  ...   \n",
       "4                                0                   1  ...   \n",
       "\n",
       "   Streaming TV_No internet service  Streaming TV_Yes  \\\n",
       "0                                 0                 0   \n",
       "1                                 0                 0   \n",
       "2                                 0                 0   \n",
       "3                                 0                 1   \n",
       "4                                 0                 1   \n",
       "\n",
       "   Streaming Movies_No internet service  Streaming Movies_Yes  \\\n",
       "0                                     0                     0   \n",
       "1                                     0                     0   \n",
       "2                                     0                     0   \n",
       "3                                     0                     1   \n",
       "4                                     0                     0   \n",
       "\n",
       "   Contract_One year  Contract_Two year  Paperless Billing_Yes  \\\n",
       "0                  1                  0                      0   \n",
       "1                  0                  0                      1   \n",
       "2                  0                  0                      1   \n",
       "3                  0                  0                      1   \n",
       "4                  0                  0                      1   \n",
       "\n",
       "   Payment Method_Credit card (automatic)  Payment Method_Electronic check  \\\n",
       "0                                       0                                0   \n",
       "1                                       0                                0   \n",
       "2                                       0                                1   \n",
       "3                                       0                                1   \n",
       "4                                       1                                0   \n",
       "\n",
       "   Payment Method_Mailed check  \n",
       "0                            1  \n",
       "1                            1  \n",
       "2                            0  \n",
       "3                            0  \n",
       "4                            0  \n",
       "\n",
       "[5 rows x 30 columns]"
      ]
     },
     "execution_count": 6,
     "metadata": {},
     "output_type": "execute_result"
    }
   ],
   "source": [
    "X.head()"
   ]
  },
  {
   "cell_type": "markdown",
   "id": "84f1d31a",
   "metadata": {},
   "source": [
    "## Feature Scaling"
   ]
  },
  {
   "cell_type": "code",
   "execution_count": 8,
   "id": "fe24b91b",
   "metadata": {},
   "outputs": [],
   "source": [
    "# Import the necessary sklearn method\n",
    "from sklearn.preprocessing import MinMaxScaler\n",
    "# Instantiate a Min-Max scaling object\n",
    "mm = MinMaxScaler()\n",
    "# Fit and transform our feature data into a pandas dataframe\n",
    "X_transformed = pd.DataFrame(mm.fit_transform(X))"
   ]
  },
  {
   "cell_type": "code",
   "execution_count": 9,
   "id": "ccc3c0be",
   "metadata": {},
   "outputs": [
    {
     "data": {
      "text/html": [
       "<div>\n",
       "<style scoped>\n",
       "    .dataframe tbody tr th:only-of-type {\n",
       "        vertical-align: middle;\n",
       "    }\n",
       "\n",
       "    .dataframe tbody tr th {\n",
       "        vertical-align: top;\n",
       "    }\n",
       "\n",
       "    .dataframe thead th {\n",
       "        text-align: right;\n",
       "    }\n",
       "</style>\n",
       "<table border=\"1\" class=\"dataframe\">\n",
       "  <thead>\n",
       "    <tr style=\"text-align: right;\">\n",
       "      <th></th>\n",
       "      <th>0</th>\n",
       "      <th>1</th>\n",
       "      <th>2</th>\n",
       "      <th>3</th>\n",
       "      <th>4</th>\n",
       "      <th>5</th>\n",
       "      <th>6</th>\n",
       "      <th>7</th>\n",
       "      <th>8</th>\n",
       "      <th>9</th>\n",
       "      <th>...</th>\n",
       "      <th>20</th>\n",
       "      <th>21</th>\n",
       "      <th>22</th>\n",
       "      <th>23</th>\n",
       "      <th>24</th>\n",
       "      <th>25</th>\n",
       "      <th>26</th>\n",
       "      <th>27</th>\n",
       "      <th>28</th>\n",
       "      <th>29</th>\n",
       "    </tr>\n",
       "  </thead>\n",
       "  <tbody>\n",
       "    <tr>\n",
       "      <th>0</th>\n",
       "      <td>1.0</td>\n",
       "      <td>0.0</td>\n",
       "      <td>0.464789</td>\n",
       "      <td>0.385075</td>\n",
       "      <td>0.215867</td>\n",
       "      <td>0.0</td>\n",
       "      <td>0.0</td>\n",
       "      <td>0.0</td>\n",
       "      <td>0.0</td>\n",
       "      <td>0.0</td>\n",
       "      <td>...</td>\n",
       "      <td>0.0</td>\n",
       "      <td>0.0</td>\n",
       "      <td>0.0</td>\n",
       "      <td>0.0</td>\n",
       "      <td>1.0</td>\n",
       "      <td>0.0</td>\n",
       "      <td>0.0</td>\n",
       "      <td>0.0</td>\n",
       "      <td>0.0</td>\n",
       "      <td>1.0</td>\n",
       "    </tr>\n",
       "    <tr>\n",
       "      <th>1</th>\n",
       "      <td>1.0</td>\n",
       "      <td>0.0</td>\n",
       "      <td>0.014085</td>\n",
       "      <td>0.354229</td>\n",
       "      <td>0.010310</td>\n",
       "      <td>0.0</td>\n",
       "      <td>0.0</td>\n",
       "      <td>0.0</td>\n",
       "      <td>0.0</td>\n",
       "      <td>0.0</td>\n",
       "      <td>...</td>\n",
       "      <td>0.0</td>\n",
       "      <td>0.0</td>\n",
       "      <td>0.0</td>\n",
       "      <td>0.0</td>\n",
       "      <td>0.0</td>\n",
       "      <td>0.0</td>\n",
       "      <td>1.0</td>\n",
       "      <td>0.0</td>\n",
       "      <td>0.0</td>\n",
       "      <td>1.0</td>\n",
       "    </tr>\n",
       "    <tr>\n",
       "      <th>2</th>\n",
       "      <td>0.0</td>\n",
       "      <td>0.0</td>\n",
       "      <td>0.014085</td>\n",
       "      <td>0.521891</td>\n",
       "      <td>0.015330</td>\n",
       "      <td>0.0</td>\n",
       "      <td>0.0</td>\n",
       "      <td>0.0</td>\n",
       "      <td>0.0</td>\n",
       "      <td>0.0</td>\n",
       "      <td>...</td>\n",
       "      <td>0.0</td>\n",
       "      <td>0.0</td>\n",
       "      <td>0.0</td>\n",
       "      <td>0.0</td>\n",
       "      <td>0.0</td>\n",
       "      <td>0.0</td>\n",
       "      <td>1.0</td>\n",
       "      <td>0.0</td>\n",
       "      <td>1.0</td>\n",
       "      <td>0.0</td>\n",
       "    </tr>\n",
       "    <tr>\n",
       "      <th>3</th>\n",
       "      <td>0.0</td>\n",
       "      <td>0.0</td>\n",
       "      <td>0.098592</td>\n",
       "      <td>0.809950</td>\n",
       "      <td>0.092511</td>\n",
       "      <td>0.0</td>\n",
       "      <td>0.0</td>\n",
       "      <td>0.0</td>\n",
       "      <td>0.0</td>\n",
       "      <td>1.0</td>\n",
       "      <td>...</td>\n",
       "      <td>0.0</td>\n",
       "      <td>1.0</td>\n",
       "      <td>0.0</td>\n",
       "      <td>1.0</td>\n",
       "      <td>0.0</td>\n",
       "      <td>0.0</td>\n",
       "      <td>1.0</td>\n",
       "      <td>0.0</td>\n",
       "      <td>1.0</td>\n",
       "      <td>0.0</td>\n",
       "    </tr>\n",
       "    <tr>\n",
       "      <th>4</th>\n",
       "      <td>1.0</td>\n",
       "      <td>0.0</td>\n",
       "      <td>0.295775</td>\n",
       "      <td>0.704975</td>\n",
       "      <td>0.222779</td>\n",
       "      <td>0.0</td>\n",
       "      <td>1.0</td>\n",
       "      <td>0.0</td>\n",
       "      <td>0.0</td>\n",
       "      <td>1.0</td>\n",
       "      <td>...</td>\n",
       "      <td>0.0</td>\n",
       "      <td>1.0</td>\n",
       "      <td>0.0</td>\n",
       "      <td>0.0</td>\n",
       "      <td>0.0</td>\n",
       "      <td>0.0</td>\n",
       "      <td>1.0</td>\n",
       "      <td>1.0</td>\n",
       "      <td>0.0</td>\n",
       "      <td>0.0</td>\n",
       "    </tr>\n",
       "  </tbody>\n",
       "</table>\n",
       "<p>5 rows × 30 columns</p>\n",
       "</div>"
      ],
      "text/plain": [
       "    0    1         2         3         4    5    6    7    8    9   ...   20  \\\n",
       "0  1.0  0.0  0.464789  0.385075  0.215867  0.0  0.0  0.0  0.0  0.0  ...  0.0   \n",
       "1  1.0  0.0  0.014085  0.354229  0.010310  0.0  0.0  0.0  0.0  0.0  ...  0.0   \n",
       "2  0.0  0.0  0.014085  0.521891  0.015330  0.0  0.0  0.0  0.0  0.0  ...  0.0   \n",
       "3  0.0  0.0  0.098592  0.809950  0.092511  0.0  0.0  0.0  0.0  1.0  ...  0.0   \n",
       "4  1.0  0.0  0.295775  0.704975  0.222779  0.0  1.0  0.0  0.0  1.0  ...  0.0   \n",
       "\n",
       "    21   22   23   24   25   26   27   28   29  \n",
       "0  0.0  0.0  0.0  1.0  0.0  0.0  0.0  0.0  1.0  \n",
       "1  0.0  0.0  0.0  0.0  0.0  1.0  0.0  0.0  1.0  \n",
       "2  0.0  0.0  0.0  0.0  0.0  1.0  0.0  1.0  0.0  \n",
       "3  1.0  0.0  1.0  0.0  0.0  1.0  0.0  1.0  0.0  \n",
       "4  1.0  0.0  0.0  0.0  0.0  1.0  1.0  0.0  0.0  \n",
       "\n",
       "[5 rows x 30 columns]"
      ]
     },
     "execution_count": 9,
     "metadata": {},
     "output_type": "execute_result"
    }
   ],
   "source": [
    "X_transformed.head()"
   ]
  },
  {
   "cell_type": "markdown",
   "id": "82173cdd",
   "metadata": {},
   "source": [
    "# Customer Segmentation - use is as a future to predict customer churn"
   ]
  },
  {
   "cell_type": "markdown",
   "id": "ed7888cd",
   "metadata": {},
   "source": [
    "# K-means Clustering"
   ]
  },
  {
   "cell_type": "markdown",
   "id": "11e5fe8b",
   "metadata": {},
   "source": [
    "## Elbow Method"
   ]
  },
  {
   "cell_type": "code",
   "execution_count": 10,
   "id": "55e31ee8",
   "metadata": {},
   "outputs": [
    {
     "data": {
      "image/png": "[encoded data removed]",
      "text/plain": [
       "<Figure size 432x432 with 1 Axes>"
      ]
     },
     "metadata": {
      "needs_background": "light"
     },
     "output_type": "display_data"
    }
   ],
   "source": [
    "from sklearn.cluster import KMeans, SpectralClustering\n",
    "from sklearn.preprocessing import StandardScaler\n",
    "from sklearn.metrics import silhouette_samples, silhouette_score\n",
    "# Run the Kmeans algorithm and get the index of data points clusters\n",
    "sse = []\n",
    "list_k = list(range(1, 10))\n",
    "\n",
    "for k in list_k:\n",
    "    km = KMeans(n_clusters=k)\n",
    "    km.fit(X_transformed)\n",
    "    sse.append(km.inertia_)\n",
    "\n",
    "# Plot sse against k\n",
    "plt.figure(figsize=(6, 6))\n",
    "plt.plot(list_k, sse, '-o')\n",
    "plt.xlabel(r'Number of clusters *k*')\n",
    "plt.ylabel('Sum of squared distance');"
   ]
  },
  {
   "cell_type": "code",
   "execution_count": 11,
   "id": "1304970f",
   "metadata": {},
   "outputs": [],
   "source": [
    "# The graph above shows that k=2 is not a bad choice."
   ]
  },
  {
   "cell_type": "markdown",
   "id": "777746dd",
   "metadata": {},
   "source": [
    "## Silhouette Analysis"
   ]
  },
  {
   "cell_type": "code",
   "execution_count": 12,
   "id": "a5a198ce",
   "metadata": {},
   "outputs": [
    {
     "name": "stdout",
     "output_type": "stream",
     "text": [
      "Wall time: 10.2 s\n"
     ]
    },
    {
     "data": {
      "image/png": "[encoded data removed]",
      "text/plain": [
       "<Figure size 1296x504 with 1 Axes>"
      ]
     },
     "metadata": {
      "needs_background": "light"
     },
     "output_type": "display_data"
    },
    {
     "data": {
      "image/png": "[encoded data removed]",
      "text/plain": [
       "<Figure size 1296x504 with 1 Axes>"
      ]
     },
     "metadata": {
      "needs_background": "light"
     },
     "output_type": "display_data"
    },
    {
     "data": {
      "image/png": "[encoded data removed]",
      "text/plain": [
       "<Figure size 1296x504 with 1 Axes>"
      ]
     },
     "metadata": {
      "needs_background": "light"
     },
     "output_type": "display_data"
    }
   ],
   "source": [
    "%%time\n",
    "for i, k in enumerate([2, 3, 4]):\n",
    "    fig, (ax1) = plt.subplots(1, 1)\n",
    "    fig.set_size_inches(18, 7)\n",
    "    \n",
    "    # Run the Kmeans algorithm\n",
    "    km = KMeans(n_clusters=k)\n",
    "    labels = km.fit_predict(X_transformed)\n",
    "    centroids = km.cluster_centers_\n",
    "\n",
    "    # Get silhouette samples\n",
    "    silhouette_vals = silhouette_samples(X_transformed, labels)\n",
    "\n",
    "    # Silhouette plot\n",
    "    y_ticks = []\n",
    "    y_lower, y_upper = 0, 0\n",
    "    for i, cluster in enumerate(np.unique(labels)):\n",
    "        cluster_silhouette_vals = silhouette_vals[labels == cluster]\n",
    "        cluster_silhouette_vals.sort()\n",
    "        y_upper += len(cluster_silhouette_vals)\n",
    "        ax1.barh(range(y_lower, y_upper), cluster_silhouette_vals, edgecolor='none', height=1)\n",
    "        ax1.text(-0.03, (y_lower + y_upper) / 2, str(i + 1))\n",
    "        y_lower += len(cluster_silhouette_vals)\n",
    "\n",
    "    # Get the average silhouette score and plot it\n",
    "    avg_score = np.mean(silhouette_vals)\n",
    "    ax1.axvline(avg_score, linestyle='--', linewidth=2, color='green')\n",
    "    ax1.set_yticks([])\n",
    "    ax1.set_xlim([-0.1, 1])\n",
    "    ax1.set_xlabel('Silhouette coefficient values')\n",
    "    ax1.set_ylabel('Cluster labels')\n",
    "    ax1.set_title('Silhouette plot for the various clusters', y=1.02);\n",
    "    \n",
    "    plt.tight_layout()\n",
    "    plt.suptitle(f'Silhouette analysis using k = {k}',\n",
    "                 fontsize=16, fontweight='semibold', y=1.05);"
   ]
  },
  {
   "cell_type": "code",
   "execution_count": 13,
   "id": "0158e9e8",
   "metadata": {},
   "outputs": [],
   "source": [
    "# As the above plots show, n_clusters=2 has the best average silhouette score of around 0.28 and all clusters being above the average shows that it is actually a good choice. \n",
    "# Also, the thickness of the silhouette plot gives an indication of how big each cluster is. The plot shows that cluster 1 has almost triple the samples than cluster 2. \n",
    "# However, as we increased n_clusters to 3 and 4, the average silhouette score decreased to around 0..22 and 0.19 respectively. \n",
    "# Moreover, the thickness of silhouette plot started showing wide fluctuations. \n",
    "# The bottom line is: Good n_clusters will have a well above 0.5 silhouette average score as well as all of the clusters have higher than the average score."
   ]
  },
  {
   "cell_type": "code",
   "execution_count": 15,
   "id": "07808c73",
   "metadata": {},
   "outputs": [
    {
     "data": {
      "text/plain": [
       "<matplotlib.collections.PathCollection at 0x1fd0564a670>"
      ]
     },
     "execution_count": 15,
     "metadata": {},
     "output_type": "execute_result"
    },
    {
     "data": {
      "image/png": "[encoded data removed]",
      "text/plain": [
       "<Figure size 432x288 with 1 Axes>"
      ]
     },
     "metadata": {
      "needs_background": "light"
     },
     "output_type": "display_data"
    }
   ],
   "source": [
    "import sklearn.decomposition\n",
    "import matplotlib.colors\n",
    "\n",
    "# Make a variable called model. We want n_clusters = 3 as parameter to sklearn.cluster.KMeans \n",
    "model = sklearn.cluster.KMeans(n_clusters=2)\n",
    "# Call a fit_predict() on X \n",
    "cluster_assignments = model.fit_predict(X_transformed)\n",
    "\n",
    "# Let's visualiaze with colors.ListedColormap\n",
    "cmap = matplotlib.colors.ListedColormap(['red', 'green'])\n",
    "\n",
    "# We're going to do some PCA here. Call decomposition.PCA on sklearn, and pass n_components=2 as parameter\n",
    "pca = sklearn.decomposition.PCA(n_components=2)\n",
    "pc1, pc2 = zip(*pca.fit_transform(X_transformed))\n",
    "plt.scatter(pc1, pc2, c=cluster_assignments.tolist(), cmap=cmap)"
   ]
  },
  {
   "cell_type": "code",
   "execution_count": 16,
   "id": "d5b51734",
   "metadata": {},
   "outputs": [
    {
     "data": {
      "text/plain": [
       "(5877,)"
      ]
     },
     "execution_count": 16,
     "metadata": {},
     "output_type": "execute_result"
    }
   ],
   "source": [
    "cluster_assignments.shape"
   ]
  },
  {
   "cell_type": "code",
   "execution_count": 22,
   "id": "314ed945",
   "metadata": {},
   "outputs": [
    {
     "data": {
      "text/plain": [
       "Counter({0: 4461, 1: 1416})"
      ]
     },
     "execution_count": 22,
     "metadata": {},
     "output_type": "execute_result"
    }
   ],
   "source": [
    "import collections, numpy\n",
    "collections.Counter(cluster_assignments)"
   ]
  },
  {
   "cell_type": "code",
   "execution_count": 18,
   "id": "82371941",
   "metadata": {},
   "outputs": [],
   "source": [
    "X_transformed['30'] = cluster_assignments.tolist()\n",
    "X['Class'] = cluster_assignments.tolist()"
   ]
  },
  {
   "cell_type": "code",
   "execution_count": 20,
   "id": "c0e304bf",
   "metadata": {},
   "outputs": [
    {
     "data": {
      "text/html": [
       "<div>\n",
       "<style scoped>\n",
       "    .dataframe tbody tr th:only-of-type {\n",
       "        vertical-align: middle;\n",
       "    }\n",
       "\n",
       "    .dataframe tbody tr th {\n",
       "        vertical-align: top;\n",
       "    }\n",
       "\n",
       "    .dataframe thead th {\n",
       "        text-align: right;\n",
       "    }\n",
       "</style>\n",
       "<table border=\"1\" class=\"dataframe\">\n",
       "  <thead>\n",
       "    <tr style=\"text-align: right;\">\n",
       "      <th></th>\n",
       "      <th>0</th>\n",
       "      <th>1</th>\n",
       "      <th>2</th>\n",
       "      <th>3</th>\n",
       "      <th>4</th>\n",
       "      <th>5</th>\n",
       "      <th>6</th>\n",
       "      <th>7</th>\n",
       "      <th>8</th>\n",
       "      <th>9</th>\n",
       "      <th>...</th>\n",
       "      <th>21</th>\n",
       "      <th>22</th>\n",
       "      <th>23</th>\n",
       "      <th>24</th>\n",
       "      <th>25</th>\n",
       "      <th>26</th>\n",
       "      <th>27</th>\n",
       "      <th>28</th>\n",
       "      <th>29</th>\n",
       "      <th>30</th>\n",
       "    </tr>\n",
       "  </thead>\n",
       "  <tbody>\n",
       "    <tr>\n",
       "      <th>0</th>\n",
       "      <td>1.0</td>\n",
       "      <td>0.0</td>\n",
       "      <td>0.464789</td>\n",
       "      <td>0.385075</td>\n",
       "      <td>0.215867</td>\n",
       "      <td>0.0</td>\n",
       "      <td>0.0</td>\n",
       "      <td>0.0</td>\n",
       "      <td>0.0</td>\n",
       "      <td>0.0</td>\n",
       "      <td>...</td>\n",
       "      <td>0.0</td>\n",
       "      <td>0.0</td>\n",
       "      <td>0.0</td>\n",
       "      <td>1.0</td>\n",
       "      <td>0.0</td>\n",
       "      <td>0.0</td>\n",
       "      <td>0.0</td>\n",
       "      <td>0.0</td>\n",
       "      <td>1.0</td>\n",
       "      <td>0</td>\n",
       "    </tr>\n",
       "    <tr>\n",
       "      <th>1</th>\n",
       "      <td>1.0</td>\n",
       "      <td>0.0</td>\n",
       "      <td>0.014085</td>\n",
       "      <td>0.354229</td>\n",
       "      <td>0.010310</td>\n",
       "      <td>0.0</td>\n",
       "      <td>0.0</td>\n",
       "      <td>0.0</td>\n",
       "      <td>0.0</td>\n",
       "      <td>0.0</td>\n",
       "      <td>...</td>\n",
       "      <td>0.0</td>\n",
       "      <td>0.0</td>\n",
       "      <td>0.0</td>\n",
       "      <td>0.0</td>\n",
       "      <td>0.0</td>\n",
       "      <td>1.0</td>\n",
       "      <td>0.0</td>\n",
       "      <td>0.0</td>\n",
       "      <td>1.0</td>\n",
       "      <td>0</td>\n",
       "    </tr>\n",
       "    <tr>\n",
       "      <th>2</th>\n",
       "      <td>0.0</td>\n",
       "      <td>0.0</td>\n",
       "      <td>0.014085</td>\n",
       "      <td>0.521891</td>\n",
       "      <td>0.015330</td>\n",
       "      <td>0.0</td>\n",
       "      <td>0.0</td>\n",
       "      <td>0.0</td>\n",
       "      <td>0.0</td>\n",
       "      <td>0.0</td>\n",
       "      <td>...</td>\n",
       "      <td>0.0</td>\n",
       "      <td>0.0</td>\n",
       "      <td>0.0</td>\n",
       "      <td>0.0</td>\n",
       "      <td>0.0</td>\n",
       "      <td>1.0</td>\n",
       "      <td>0.0</td>\n",
       "      <td>1.0</td>\n",
       "      <td>0.0</td>\n",
       "      <td>0</td>\n",
       "    </tr>\n",
       "    <tr>\n",
       "      <th>3</th>\n",
       "      <td>0.0</td>\n",
       "      <td>0.0</td>\n",
       "      <td>0.098592</td>\n",
       "      <td>0.809950</td>\n",
       "      <td>0.092511</td>\n",
       "      <td>0.0</td>\n",
       "      <td>0.0</td>\n",
       "      <td>0.0</td>\n",
       "      <td>0.0</td>\n",
       "      <td>1.0</td>\n",
       "      <td>...</td>\n",
       "      <td>1.0</td>\n",
       "      <td>0.0</td>\n",
       "      <td>1.0</td>\n",
       "      <td>0.0</td>\n",
       "      <td>0.0</td>\n",
       "      <td>1.0</td>\n",
       "      <td>0.0</td>\n",
       "      <td>1.0</td>\n",
       "      <td>0.0</td>\n",
       "      <td>0</td>\n",
       "    </tr>\n",
       "    <tr>\n",
       "      <th>4</th>\n",
       "      <td>1.0</td>\n",
       "      <td>0.0</td>\n",
       "      <td>0.295775</td>\n",
       "      <td>0.704975</td>\n",
       "      <td>0.222779</td>\n",
       "      <td>0.0</td>\n",
       "      <td>1.0</td>\n",
       "      <td>0.0</td>\n",
       "      <td>0.0</td>\n",
       "      <td>1.0</td>\n",
       "      <td>...</td>\n",
       "      <td>1.0</td>\n",
       "      <td>0.0</td>\n",
       "      <td>0.0</td>\n",
       "      <td>0.0</td>\n",
       "      <td>0.0</td>\n",
       "      <td>1.0</td>\n",
       "      <td>1.0</td>\n",
       "      <td>0.0</td>\n",
       "      <td>0.0</td>\n",
       "      <td>0</td>\n",
       "    </tr>\n",
       "  </tbody>\n",
       "</table>\n",
       "<p>5 rows × 31 columns</p>\n",
       "</div>"
      ],
      "text/plain": [
       "     0    1         2         3         4    5    6    7    8    9  ...   21  \\\n",
       "0  1.0  0.0  0.464789  0.385075  0.215867  0.0  0.0  0.0  0.0  0.0  ...  0.0   \n",
       "1  1.0  0.0  0.014085  0.354229  0.010310  0.0  0.0  0.0  0.0  0.0  ...  0.0   \n",
       "2  0.0  0.0  0.014085  0.521891  0.015330  0.0  0.0  0.0  0.0  0.0  ...  0.0   \n",
       "3  0.0  0.0  0.098592  0.809950  0.092511  0.0  0.0  0.0  0.0  1.0  ...  1.0   \n",
       "4  1.0  0.0  0.295775  0.704975  0.222779  0.0  1.0  0.0  0.0  1.0  ...  1.0   \n",
       "\n",
       "    22   23   24   25   26   27   28   29  30  \n",
       "0  0.0  0.0  1.0  0.0  0.0  0.0  0.0  1.0   0  \n",
       "1  0.0  0.0  0.0  0.0  1.0  0.0  0.0  1.0   0  \n",
       "2  0.0  0.0  0.0  0.0  1.0  0.0  1.0  0.0   0  \n",
       "3  0.0  1.0  0.0  0.0  1.0  0.0  1.0  0.0   0  \n",
       "4  0.0  0.0  0.0  0.0  1.0  1.0  0.0  0.0   0  \n",
       "\n",
       "[5 rows x 31 columns]"
      ]
     },
     "execution_count": 20,
     "metadata": {},
     "output_type": "execute_result"
    }
   ],
   "source": [
    "X_transformed.head()"
   ]
  },
  {
   "cell_type": "code",
   "execution_count": 21,
   "id": "633502cf",
   "metadata": {},
   "outputs": [
    {
     "data": {
      "text/html": [
       "<div>\n",
       "<style scoped>\n",
       "    .dataframe tbody tr th:only-of-type {\n",
       "        vertical-align: middle;\n",
       "    }\n",
       "\n",
       "    .dataframe tbody tr th {\n",
       "        vertical-align: top;\n",
       "    }\n",
       "\n",
       "    .dataframe thead th {\n",
       "        text-align: right;\n",
       "    }\n",
       "</style>\n",
       "<table border=\"1\" class=\"dataframe\">\n",
       "  <thead>\n",
       "    <tr style=\"text-align: right;\">\n",
       "      <th></th>\n",
       "      <th>Gender</th>\n",
       "      <th>Senior Citizen</th>\n",
       "      <th>Tenure</th>\n",
       "      <th>Monthly Charges</th>\n",
       "      <th>Total Charges</th>\n",
       "      <th>Partner_Yes</th>\n",
       "      <th>Dependents_Yes</th>\n",
       "      <th>Phone Service_Yes</th>\n",
       "      <th>Multiple Lines_No phone service</th>\n",
       "      <th>Multiple Lines_Yes</th>\n",
       "      <th>...</th>\n",
       "      <th>Streaming TV_Yes</th>\n",
       "      <th>Streaming Movies_No internet service</th>\n",
       "      <th>Streaming Movies_Yes</th>\n",
       "      <th>Contract_One year</th>\n",
       "      <th>Contract_Two year</th>\n",
       "      <th>Paperless Billing_Yes</th>\n",
       "      <th>Payment Method_Credit card (automatic)</th>\n",
       "      <th>Payment Method_Electronic check</th>\n",
       "      <th>Payment Method_Mailed check</th>\n",
       "      <th>Class</th>\n",
       "    </tr>\n",
       "  </thead>\n",
       "  <tbody>\n",
       "    <tr>\n",
       "      <th>0</th>\n",
       "      <td>1</td>\n",
       "      <td>0</td>\n",
       "      <td>34</td>\n",
       "      <td>56.95</td>\n",
       "      <td>1889.50</td>\n",
       "      <td>0</td>\n",
       "      <td>0</td>\n",
       "      <td>1</td>\n",
       "      <td>0</td>\n",
       "      <td>0</td>\n",
       "      <td>...</td>\n",
       "      <td>0</td>\n",
       "      <td>0</td>\n",
       "      <td>0</td>\n",
       "      <td>1</td>\n",
       "      <td>0</td>\n",
       "      <td>0</td>\n",
       "      <td>0</td>\n",
       "      <td>0</td>\n",
       "      <td>1</td>\n",
       "      <td>0</td>\n",
       "    </tr>\n",
       "    <tr>\n",
       "      <th>1</th>\n",
       "      <td>1</td>\n",
       "      <td>0</td>\n",
       "      <td>2</td>\n",
       "      <td>53.85</td>\n",
       "      <td>108.15</td>\n",
       "      <td>0</td>\n",
       "      <td>0</td>\n",
       "      <td>1</td>\n",
       "      <td>0</td>\n",
       "      <td>0</td>\n",
       "      <td>...</td>\n",
       "      <td>0</td>\n",
       "      <td>0</td>\n",
       "      <td>0</td>\n",
       "      <td>0</td>\n",
       "      <td>0</td>\n",
       "      <td>1</td>\n",
       "      <td>0</td>\n",
       "      <td>0</td>\n",
       "      <td>1</td>\n",
       "      <td>0</td>\n",
       "    </tr>\n",
       "    <tr>\n",
       "      <th>2</th>\n",
       "      <td>0</td>\n",
       "      <td>0</td>\n",
       "      <td>2</td>\n",
       "      <td>70.70</td>\n",
       "      <td>151.65</td>\n",
       "      <td>0</td>\n",
       "      <td>0</td>\n",
       "      <td>1</td>\n",
       "      <td>0</td>\n",
       "      <td>0</td>\n",
       "      <td>...</td>\n",
       "      <td>0</td>\n",
       "      <td>0</td>\n",
       "      <td>0</td>\n",
       "      <td>0</td>\n",
       "      <td>0</td>\n",
       "      <td>1</td>\n",
       "      <td>0</td>\n",
       "      <td>1</td>\n",
       "      <td>0</td>\n",
       "      <td>0</td>\n",
       "    </tr>\n",
       "    <tr>\n",
       "      <th>3</th>\n",
       "      <td>0</td>\n",
       "      <td>0</td>\n",
       "      <td>8</td>\n",
       "      <td>99.65</td>\n",
       "      <td>820.50</td>\n",
       "      <td>0</td>\n",
       "      <td>0</td>\n",
       "      <td>1</td>\n",
       "      <td>0</td>\n",
       "      <td>1</td>\n",
       "      <td>...</td>\n",
       "      <td>1</td>\n",
       "      <td>0</td>\n",
       "      <td>1</td>\n",
       "      <td>0</td>\n",
       "      <td>0</td>\n",
       "      <td>1</td>\n",
       "      <td>0</td>\n",
       "      <td>1</td>\n",
       "      <td>0</td>\n",
       "      <td>0</td>\n",
       "    </tr>\n",
       "    <tr>\n",
       "      <th>4</th>\n",
       "      <td>1</td>\n",
       "      <td>0</td>\n",
       "      <td>22</td>\n",
       "      <td>89.10</td>\n",
       "      <td>1949.40</td>\n",
       "      <td>0</td>\n",
       "      <td>1</td>\n",
       "      <td>1</td>\n",
       "      <td>0</td>\n",
       "      <td>1</td>\n",
       "      <td>...</td>\n",
       "      <td>1</td>\n",
       "      <td>0</td>\n",
       "      <td>0</td>\n",
       "      <td>0</td>\n",
       "      <td>0</td>\n",
       "      <td>1</td>\n",
       "      <td>1</td>\n",
       "      <td>0</td>\n",
       "      <td>0</td>\n",
       "      <td>0</td>\n",
       "    </tr>\n",
       "  </tbody>\n",
       "</table>\n",
       "<p>5 rows × 31 columns</p>\n",
       "</div>"
      ],
      "text/plain": [
       "   Gender  Senior Citizen  Tenure  Monthly Charges  Total Charges  \\\n",
       "0       1               0      34            56.95        1889.50   \n",
       "1       1               0       2            53.85         108.15   \n",
       "2       0               0       2            70.70         151.65   \n",
       "3       0               0       8            99.65         820.50   \n",
       "4       1               0      22            89.10        1949.40   \n",
       "\n",
       "   Partner_Yes  Dependents_Yes  Phone Service_Yes  \\\n",
       "0            0               0                  1   \n",
       "1            0               0                  1   \n",
       "2            0               0                  1   \n",
       "3            0               0                  1   \n",
       "4            0               1                  1   \n",
       "\n",
       "   Multiple Lines_No phone service  Multiple Lines_Yes  ...  Streaming TV_Yes  \\\n",
       "0                                0                   0  ...                 0   \n",
       "1                                0                   0  ...                 0   \n",
       "2                                0                   0  ...                 0   \n",
       "3                                0                   1  ...                 1   \n",
       "4                                0                   1  ...                 1   \n",
       "\n",
       "   Streaming Movies_No internet service  Streaming Movies_Yes  \\\n",
       "0                                     0                     0   \n",
       "1                                     0                     0   \n",
       "2                                     0                     0   \n",
       "3                                     0                     1   \n",
       "4                                     0                     0   \n",
       "\n",
       "   Contract_One year  Contract_Two year  Paperless Billing_Yes  \\\n",
       "0                  1                  0                      0   \n",
       "1                  0                  0                      1   \n",
       "2                  0                  0                      1   \n",
       "3                  0                  0                      1   \n",
       "4                  0                  0                      1   \n",
       "\n",
       "   Payment Method_Credit card (automatic)  Payment Method_Electronic check  \\\n",
       "0                                       0                                0   \n",
       "1                                       0                                0   \n",
       "2                                       0                                1   \n",
       "3                                       0                                1   \n",
       "4                                       1                                0   \n",
       "\n",
       "   Payment Method_Mailed check  Class  \n",
       "0                            1      0  \n",
       "1                            1      0  \n",
       "2                            0      0  \n",
       "3                            0      0  \n",
       "4                            0      0  \n",
       "\n",
       "[5 rows x 31 columns]"
      ]
     },
     "execution_count": 21,
     "metadata": {},
     "output_type": "execute_result"
    }
   ],
   "source": [
    "X.head()"
   ]
  },
  {
   "cell_type": "code",
   "execution_count": null,
   "id": "bb5c8986",
   "metadata": {},
   "outputs": [],
   "source": []
  },
  {
   "cell_type": "markdown",
   "id": "c460d136",
   "metadata": {},
   "source": [
    "## Random over-sampling with imblearn"
   ]
  },
  {
   "cell_type": "code",
   "execution_count": 23,
   "id": "b51a1f78",
   "metadata": {},
   "outputs": [
    {
     "name": "stdout",
     "output_type": "stream",
     "text": [
      "Original dataset shape Counter({0: 4316, 1: 1561})\n",
      "Resample dataset shape Counter({0: 4316, 1: 4316})\n",
      "Resample dataset shape Counter({0: 4316, 1: 4316})\n"
     ]
    }
   ],
   "source": [
    "# import library\n",
    "import collections, numpy\n",
    "import imblearn\n",
    "from imblearn.over_sampling import RandomOverSampler\n",
    "\n",
    "ros = RandomOverSampler(random_state=42)\n",
    "\n",
    "# fit predictor and target variable\n",
    "X_ros_transformed, y_ros_transformed = ros.fit_resample(X_transformed, y)\n",
    "X_ros, y_ros = ros.fit_resample(X, y)\n",
    "\n",
    "print('Original dataset shape', collections.Counter(y))\n",
    "print('Resample dataset shape', collections.Counter(y_ros))\n",
    "print('Resample dataset shape', collections.Counter(y_ros_transformed))"
   ]
  },
  {
   "cell_type": "markdown",
   "id": "5349c9bb",
   "metadata": {},
   "source": [
    "## Train — Test — Split"
   ]
  },
  {
   "cell_type": "code",
   "execution_count": 24,
   "id": "d6b58f32",
   "metadata": {},
   "outputs": [],
   "source": [
    "from sklearn.model_selection import train_test_split\n",
    "# split into train/test sets\n",
    "X_train, X_test, y_train, y_test = train_test_split(X_ros, y_ros, test_size=0.25, random_state=2)\n",
    "X2_train, X2_test, y2_train, y2_test = train_test_split(X_ros_transformed, y_ros_transformed, test_size=0.25, random_state=2)"
   ]
  },
  {
   "cell_type": "markdown",
   "id": "7e7c0c83",
   "metadata": {},
   "source": [
    "# LogisticRegression"
   ]
  },
  {
   "cell_type": "code",
   "execution_count": 25,
   "id": "5fbe75df",
   "metadata": {},
   "outputs": [
    {
     "data": {
      "text/plain": [
       "LogisticRegression(solver='liblinear')"
      ]
     },
     "execution_count": 25,
     "metadata": {},
     "output_type": "execute_result"
    }
   ],
   "source": [
    "from sklearn.linear_model import LogisticRegression\n",
    "# Instantiate a logistic regression model without an intercept, arbitrarily large C value will offset the lack of intercept\n",
    "logreg = LogisticRegression(solver = 'liblinear')\n",
    "# Fit the model to our X and y training sets\n",
    "logreg.fit(X2_train, y2_train)"
   ]
  },
  {
   "cell_type": "code",
   "execution_count": 26,
   "id": "2d2a264f",
   "metadata": {},
   "outputs": [],
   "source": [
    "# predict future values\n",
    "y2_hat_train = logreg.predict(X2_train)\n",
    "y2_hat_test = logreg.predict(X2_test)"
   ]
  },
  {
   "cell_type": "markdown",
   "id": "1452307a",
   "metadata": {},
   "source": [
    "## Evaluating Model Performance"
   ]
  },
  {
   "cell_type": "markdown",
   "id": "f7e6285f",
   "metadata": {},
   "source": [
    "### Confusion Matrix"
   ]
  },
  {
   "cell_type": "code",
   "execution_count": 27,
   "id": "4a39ae67",
   "metadata": {},
   "outputs": [],
   "source": [
    "from sklearn.metrics import confusion_matrix\n",
    "# Pass actual test and predicted target test outcomes to function\n",
    "cnf_matrix_train = confusion_matrix(y2_train, y2_hat_train)\n",
    "cnf_matrix_test = confusion_matrix(y2_test, y2_hat_test)"
   ]
  },
  {
   "cell_type": "code",
   "execution_count": 28,
   "id": "0afd8b9e",
   "metadata": {},
   "outputs": [
    {
     "name": "stdout",
     "output_type": "stream",
     "text": [
      "[[2406  840]\n",
      " [ 609 2619]]\n"
     ]
    }
   ],
   "source": [
    "print(cnf_matrix_train)"
   ]
  },
  {
   "cell_type": "code",
   "execution_count": 29,
   "id": "1d7f8172",
   "metadata": {},
   "outputs": [
    {
     "name": "stdout",
     "output_type": "stream",
     "text": [
      "[[776 294]\n",
      " [212 876]]\n"
     ]
    }
   ],
   "source": [
    "print(cnf_matrix_test)"
   ]
  },
  {
   "cell_type": "markdown",
   "id": "778815ae",
   "metadata": {},
   "source": [
    "### Classification Report"
   ]
  },
  {
   "cell_type": "code",
   "execution_count": 87,
   "id": "d8a605c4",
   "metadata": {},
   "outputs": [],
   "source": [
    "from sklearn.metrics import classification_report\n",
    "report_train = classification_report(y2_train, y2_hat_train, digits=4)\n",
    "report_test = classification_report(y2_test, y2_hat_test, digits=4)"
   ]
  },
  {
   "cell_type": "code",
   "execution_count": 88,
   "id": "895339d8",
   "metadata": {},
   "outputs": [
    {
     "name": "stdout",
     "output_type": "stream",
     "text": [
      "              precision    recall  f1-score   support\n",
      "\n",
      "           0     0.7980    0.7412    0.7686      3246\n",
      "           1     0.7572    0.8113    0.7833      3228\n",
      "\n",
      "    accuracy                         0.7762      6474\n",
      "   macro avg     0.7776    0.7763    0.7759      6474\n",
      "weighted avg     0.7776    0.7762    0.7759      6474\n",
      "\n"
     ]
    }
   ],
   "source": [
    "print(report_train)"
   ]
  },
  {
   "cell_type": "code",
   "execution_count": 89,
   "id": "b0f51286",
   "metadata": {},
   "outputs": [
    {
     "name": "stdout",
     "output_type": "stream",
     "text": [
      "              precision    recall  f1-score   support\n",
      "\n",
      "           0     0.7854    0.7252    0.7541      1070\n",
      "           1     0.7487    0.8051    0.7759      1088\n",
      "\n",
      "    accuracy                         0.7655      2158\n",
      "   macro avg     0.7671    0.7652    0.7650      2158\n",
      "weighted avg     0.7669    0.7655    0.7651      2158\n",
      "\n"
     ]
    }
   ],
   "source": [
    "print(report_test)"
   ]
  },
  {
   "cell_type": "markdown",
   "id": "ec2bcce2",
   "metadata": {},
   "source": [
    "### AUC - Area Under Curve"
   ]
  },
  {
   "cell_type": "code",
   "execution_count": 33,
   "id": "d7251902",
   "metadata": {},
   "outputs": [],
   "source": [
    "from sklearn.metrics import roc_auc_score\n",
    "# predict probabilities\n",
    "lr_probs = logreg.predict_proba(X2_test)\n",
    "# keep probabilities for the positive outcome only\n",
    "lr_probs = lr_probs[:, 1]"
   ]
  },
  {
   "cell_type": "code",
   "execution_count": 34,
   "id": "088c302e",
   "metadata": {},
   "outputs": [
    {
     "name": "stdout",
     "output_type": "stream",
     "text": [
      "Logistic: ROC AUC=0.839\n"
     ]
    }
   ],
   "source": [
    "# calculate AUC\n",
    "lr_auc = roc_auc_score(y2_test, lr_probs)\n",
    "print('Logistic: ROC AUC=%.3f' % (lr_auc))"
   ]
  },
  {
   "cell_type": "code",
   "execution_count": 35,
   "id": "fb2ee69d",
   "metadata": {},
   "outputs": [],
   "source": [
    "from sklearn.metrics import roc_curve, auc\n",
    "# Calculate fpr, tpr, and thresholds for test set\n",
    "lr_test_fpr, lr_test_tpr, lr_test_thresholds = roc_curve(y2_test, lr_probs)"
   ]
  },
  {
   "cell_type": "code",
   "execution_count": 36,
   "id": "82ebfeca",
   "metadata": {
    "scrolled": true
   },
   "outputs": [
    {
     "data": {
      "image/png": "[encoded data removed]",
      "text/plain": [
       "<Figure size 432x288 with 1 Axes>"
      ]
     },
     "metadata": {
      "needs_background": "light"
     },
     "output_type": "display_data"
    }
   ],
   "source": [
    "from matplotlib import pyplot\n",
    "# plot the roc curve for the model\n",
    "pyplot.plot(lr_test_fpr, lr_test_tpr, marker='.', label='Logistic')\n",
    "# axis labels\n",
    "pyplot.xlabel('False Positive Rate')\n",
    "pyplot.ylabel('True Positive Rate')\n",
    "# show the legend\n",
    "pyplot.legend()\n",
    "# show the plot\n",
    "pyplot.show()"
   ]
  },
  {
   "cell_type": "markdown",
   "id": "079d705f",
   "metadata": {},
   "source": [
    "### Tune Hyperparameters"
   ]
  },
  {
   "cell_type": "code",
   "execution_count": 38,
   "id": "037ca895",
   "metadata": {},
   "outputs": [
    {
     "name": "stdout",
     "output_type": "stream",
     "text": [
      "Best: 0.772824 using {'C': 10, 'penalty': 'l2', 'solver': 'liblinear'}\n",
      "0.772399 (0.017411) with: {'C': 100, 'penalty': 'l2', 'solver': 'newton-cg'}\n",
      "0.772399 (0.017411) with: {'C': 100, 'penalty': 'l2', 'solver': 'lbfgs'}\n",
      "0.772360 (0.017427) with: {'C': 100, 'penalty': 'l2', 'solver': 'liblinear'}\n",
      "0.772631 (0.017062) with: {'C': 10, 'penalty': 'l2', 'solver': 'newton-cg'}\n",
      "0.772631 (0.017062) with: {'C': 10, 'penalty': 'l2', 'solver': 'lbfgs'}\n",
      "0.772824 (0.017065) with: {'C': 10, 'penalty': 'l2', 'solver': 'liblinear'}\n",
      "0.772091 (0.016898) with: {'C': 1.0, 'penalty': 'l2', 'solver': 'newton-cg'}\n",
      "0.772091 (0.016898) with: {'C': 1.0, 'penalty': 'l2', 'solver': 'lbfgs'}\n",
      "0.772052 (0.016879) with: {'C': 1.0, 'penalty': 'l2', 'solver': 'liblinear'}\n",
      "0.768924 (0.015596) with: {'C': 0.1, 'penalty': 'l2', 'solver': 'newton-cg'}\n",
      "0.768924 (0.015596) with: {'C': 0.1, 'penalty': 'l2', 'solver': 'lbfgs'}\n",
      "0.768808 (0.015564) with: {'C': 0.1, 'penalty': 'l2', 'solver': 'liblinear'}\n",
      "0.764058 (0.016526) with: {'C': 0.01, 'penalty': 'l2', 'solver': 'newton-cg'}\n",
      "0.764058 (0.016526) with: {'C': 0.01, 'penalty': 'l2', 'solver': 'lbfgs'}\n",
      "0.764173 (0.015046) with: {'C': 0.01, 'penalty': 'l2', 'solver': 'liblinear'}\n"
     ]
    }
   ],
   "source": [
    "from sklearn.datasets import make_blobs\n",
    "from sklearn.model_selection import RepeatedStratifiedKFold\n",
    "from sklearn.model_selection import GridSearchCV\n",
    "model = LogisticRegression()\n",
    "solvers = ['newton-cg', 'lbfgs', 'liblinear']\n",
    "penalty = ['l2']\n",
    "c_values = [100, 10, 1.0, 0.1, 0.01]\n",
    "# define grid search\n",
    "grid = dict(solver=solvers,penalty=penalty,C=c_values)\n",
    "cv = RepeatedStratifiedKFold(n_splits=10, n_repeats=3, random_state=1)\n",
    "grid_search = GridSearchCV(estimator=model, param_grid=grid, n_jobs=-1, cv=cv, scoring='accuracy',error_score=0)\n",
    "grid_result = grid_search.fit(X_ros_transformed,y_ros_transformed)\n",
    "# summarize results\n",
    "print(\"Best: %f using %s\" % (grid_result.best_score_, grid_result.best_params_))\n",
    "means = grid_result.cv_results_['mean_test_score']\n",
    "stds = grid_result.cv_results_['std_test_score']\n",
    "params = grid_result.cv_results_['params']\n",
    "for mean, stdev, param in zip(means, stds, params):\n",
    "    print(\"%f (%f) with: %r\" % (mean, stdev, param))"
   ]
  },
  {
   "cell_type": "markdown",
   "id": "e4309e4d",
   "metadata": {},
   "source": [
    "## LogisticRegression with best hyperparameters"
   ]
  },
  {
   "cell_type": "code",
   "execution_count": 39,
   "id": "45962f5c",
   "metadata": {},
   "outputs": [
    {
     "data": {
      "text/plain": [
       "LogisticRegression(C=10, solver='liblinear')"
      ]
     },
     "execution_count": 39,
     "metadata": {},
     "output_type": "execute_result"
    }
   ],
   "source": [
    "logreg_best = LogisticRegression(C=10, penalty='l2', solver = 'liblinear')\n",
    "logreg_best.fit(X2_train, y2_train)"
   ]
  },
  {
   "cell_type": "code",
   "execution_count": 40,
   "id": "572ba866",
   "metadata": {},
   "outputs": [],
   "source": [
    "# predict future values\n",
    "y2_hat_test_best = logreg_best.predict(X2_test)"
   ]
  },
  {
   "cell_type": "markdown",
   "id": "bd5355af",
   "metadata": {},
   "source": [
    "### Confusion Matrix"
   ]
  },
  {
   "cell_type": "code",
   "execution_count": 41,
   "id": "634e9cc0",
   "metadata": {},
   "outputs": [],
   "source": [
    "from sklearn.metrics import confusion_matrix\n",
    "# Pass actual test and predicted target test outcomes to function\n",
    "lr_cnf_matrix_test_best = confusion_matrix(y2_test, y2_hat_test_best)"
   ]
  },
  {
   "cell_type": "code",
   "execution_count": 42,
   "id": "7c02b674",
   "metadata": {},
   "outputs": [
    {
     "name": "stdout",
     "output_type": "stream",
     "text": [
      "[[768 302]\n",
      " [201 887]]\n"
     ]
    }
   ],
   "source": [
    "print(lr_cnf_matrix_test_best)"
   ]
  },
  {
   "cell_type": "markdown",
   "id": "36f2b883",
   "metadata": {},
   "source": [
    "### Classification Report"
   ]
  },
  {
   "cell_type": "code",
   "execution_count": 90,
   "id": "d6be2df9",
   "metadata": {},
   "outputs": [],
   "source": [
    "lr_report_test_best = classification_report(y2_test, y2_hat_test_best, digits=4)"
   ]
  },
  {
   "cell_type": "code",
   "execution_count": 91,
   "id": "d54c578d",
   "metadata": {},
   "outputs": [
    {
     "name": "stdout",
     "output_type": "stream",
     "text": [
      "              precision    recall  f1-score   support\n",
      "\n",
      "           0     0.7926    0.7178    0.7533      1070\n",
      "           1     0.7460    0.8153    0.7791      1088\n",
      "\n",
      "    accuracy                         0.7669      2158\n",
      "   macro avg     0.7693    0.7665    0.7662      2158\n",
      "weighted avg     0.7691    0.7669    0.7663      2158\n",
      "\n"
     ]
    }
   ],
   "source": [
    "print(lr_report_test_best)"
   ]
  },
  {
   "cell_type": "code",
   "execution_count": 45,
   "id": "acc50886",
   "metadata": {},
   "outputs": [
    {
     "name": "stdout",
     "output_type": "stream",
     "text": [
      "              precision    recall  f1-score   support\n",
      "\n",
      "           0       0.79      0.73      0.75      1070\n",
      "           1       0.75      0.81      0.78      1088\n",
      "\n",
      "    accuracy                           0.77      2158\n",
      "   macro avg       0.77      0.77      0.77      2158\n",
      "weighted avg       0.77      0.77      0.77      2158\n",
      "\n"
     ]
    }
   ],
   "source": [
    "print(report_test)"
   ]
  },
  {
   "cell_type": "markdown",
   "id": "4d8b6915",
   "metadata": {},
   "source": [
    "### AUC - Area Under Curve"
   ]
  },
  {
   "cell_type": "code",
   "execution_count": 46,
   "id": "f339f239",
   "metadata": {},
   "outputs": [],
   "source": [
    "from sklearn.metrics import roc_auc_score\n",
    "# predict probabilities\n",
    "lr_probs = logreg.predict_proba(X2_test)\n",
    "lr_probs_best = logreg_best.predict_proba(X2_test)\n",
    "# keep probabilities for the positive outcome only\n",
    "lr_probs = lr_probs[:, 1]\n",
    "lr_probs_best = lr_probs_best[:, 1]"
   ]
  },
  {
   "cell_type": "code",
   "execution_count": 47,
   "id": "b8d68665",
   "metadata": {},
   "outputs": [
    {
     "name": "stdout",
     "output_type": "stream",
     "text": [
      "Logistic: ROC AUC=0.839\n"
     ]
    }
   ],
   "source": [
    "# calculate best AUC\n",
    "lr_auc = roc_auc_score(y2_test, lr_probs)\n",
    "print('Logistic: ROC AUC=%.3f' % (lr_auc))"
   ]
  },
  {
   "cell_type": "code",
   "execution_count": 48,
   "id": "861f8fb7",
   "metadata": {},
   "outputs": [
    {
     "name": "stdout",
     "output_type": "stream",
     "text": [
      "Logistic: ROC AUC_best=0.840\n"
     ]
    }
   ],
   "source": [
    "# calculate best AUC\n",
    "lr_auc_best = roc_auc_score(y2_test, lr_probs_best)\n",
    "print('Logistic: ROC AUC_best=%.3f' % (lr_auc_best))"
   ]
  },
  {
   "cell_type": "code",
   "execution_count": 49,
   "id": "a2d7f70a",
   "metadata": {},
   "outputs": [],
   "source": [
    "from sklearn.metrics import roc_curve, auc\n",
    "# Calculate fpr, tpr, and thresholds for test set\n",
    "lr_test_fpr_best, lr_test_tpr_best, lr_test_thresholds_best = roc_curve(y2_test, lr_probs_best)"
   ]
  },
  {
   "cell_type": "code",
   "execution_count": 50,
   "id": "ea02c9e5",
   "metadata": {
    "scrolled": true
   },
   "outputs": [
    {
     "data": {
      "image/png": "[encoded data removed]",
      "text/plain": [
       "<Figure size 432x288 with 1 Axes>"
      ]
     },
     "metadata": {
      "needs_background": "light"
     },
     "output_type": "display_data"
    }
   ],
   "source": [
    "from matplotlib import pyplot\n",
    "# plot the roc curve for the model\n",
    "pyplot.plot(lr_test_fpr, lr_test_tpr, marker='.', label='Logistic')\n",
    "pyplot.plot(lr_test_fpr_best, lr_test_tpr_best, marker='*', label='Logistic_bes')\n",
    "# axis labels\n",
    "pyplot.xlabel('False Positive Rate')\n",
    "pyplot.ylabel('True Positive Rate')\n",
    "# show the legend\n",
    "pyplot.legend()\n",
    "# show the plot\n",
    "pyplot.show()"
   ]
  },
  {
   "cell_type": "markdown",
   "id": "6b26e38c",
   "metadata": {},
   "source": [
    "# K-Nearest Neighbors (KNN)"
   ]
  },
  {
   "cell_type": "code",
   "execution_count": 51,
   "id": "c3c24852",
   "metadata": {},
   "outputs": [
    {
     "name": "stdout",
     "output_type": "stream",
     "text": [
      "Best: 0.867355 using {'metric': 'euclidean', 'n_neighbors': 1, 'weights': 'uniform'}\n",
      "0.867355 (0.008633) with: {'metric': 'euclidean', 'n_neighbors': 1, 'weights': 'uniform'}\n",
      "0.867355 (0.008633) with: {'metric': 'euclidean', 'n_neighbors': 1, 'weights': 'distance'}\n",
      "0.804023 (0.011703) with: {'metric': 'euclidean', 'n_neighbors': 3, 'weights': 'uniform'}\n",
      "0.842216 (0.012153) with: {'metric': 'euclidean', 'n_neighbors': 3, 'weights': 'distance'}\n",
      "0.774793 (0.012724) with: {'metric': 'euclidean', 'n_neighbors': 5, 'weights': 'uniform'}\n",
      "0.834918 (0.012940) with: {'metric': 'euclidean', 'n_neighbors': 5, 'weights': 'distance'}\n",
      "0.866776 (0.008715) with: {'metric': 'manhattan', 'n_neighbors': 1, 'weights': 'uniform'}\n",
      "0.866776 (0.008715) with: {'metric': 'manhattan', 'n_neighbors': 1, 'weights': 'distance'}\n",
      "0.804680 (0.011298) with: {'metric': 'manhattan', 'n_neighbors': 3, 'weights': 'uniform'}\n",
      "0.843915 (0.011315) with: {'metric': 'manhattan', 'n_neighbors': 3, 'weights': 'distance'}\n",
      "0.775488 (0.012640) with: {'metric': 'manhattan', 'n_neighbors': 5, 'weights': 'uniform'}\n",
      "0.834995 (0.011335) with: {'metric': 'manhattan', 'n_neighbors': 5, 'weights': 'distance'}\n",
      "0.867355 (0.008633) with: {'metric': 'minkowski', 'n_neighbors': 1, 'weights': 'uniform'}\n",
      "0.867355 (0.008633) with: {'metric': 'minkowski', 'n_neighbors': 1, 'weights': 'distance'}\n",
      "0.804023 (0.011703) with: {'metric': 'minkowski', 'n_neighbors': 3, 'weights': 'uniform'}\n",
      "0.842216 (0.012153) with: {'metric': 'minkowski', 'n_neighbors': 3, 'weights': 'distance'}\n",
      "0.774793 (0.012724) with: {'metric': 'minkowski', 'n_neighbors': 5, 'weights': 'uniform'}\n",
      "0.834918 (0.012940) with: {'metric': 'minkowski', 'n_neighbors': 5, 'weights': 'distance'}\n"
     ]
    }
   ],
   "source": [
    "# Grid searching the key hyperparameters\n",
    "from sklearn.neighbors import KNeighborsClassifier\n",
    "# define dataset\n",
    "model = KNeighborsClassifier()\n",
    "n_neighbors = range(1, 7, 2)\n",
    "weights = ['uniform', 'distance']\n",
    "metric = ['euclidean', 'manhattan', 'minkowski']\n",
    "# define grid search\n",
    "grid = dict(n_neighbors=n_neighbors,weights=weights,metric=metric)\n",
    "cv = RepeatedStratifiedKFold(n_splits=10, n_repeats=3, random_state=1)\n",
    "grid_search = GridSearchCV(estimator=model, param_grid=grid, n_jobs=-1, cv=cv, scoring='accuracy',error_score=0)\n",
    "grid_result = grid_search.fit(X_ros_transformed, y_ros_transformed)\n",
    "# summarize results\n",
    "print(\"Best: %f using %s\" % (grid_result.best_score_, grid_result.best_params_))\n",
    "means = grid_result.cv_results_['mean_test_score']\n",
    "stds = grid_result.cv_results_['std_test_score']\n",
    "params = grid_result.cv_results_['params']\n",
    "for mean, stdev, param in zip(means, stds, params):\n",
    "    print(\"%f (%f) with: %r\" % (mean, stdev, param))\n"
   ]
  },
  {
   "cell_type": "markdown",
   "id": "0a1888e6",
   "metadata": {},
   "source": [
    "## K-Nearest Neighbors (KNN) with best hyperparameters"
   ]
  },
  {
   "cell_type": "code",
   "execution_count": 149,
   "id": "aeb63b81",
   "metadata": {},
   "outputs": [
    {
     "data": {
      "text/plain": [
       "KNeighborsClassifier(metric='euclidean', n_neighbors=1)"
      ]
     },
     "execution_count": 149,
     "metadata": {},
     "output_type": "execute_result"
    }
   ],
   "source": [
    "knn_best = KNeighborsClassifier(metric='euclidean' , n_neighbors=1, weights='uniform')\n",
    "knn_best.fit(X2_train, y2_train)"
   ]
  },
  {
   "cell_type": "code",
   "execution_count": 150,
   "id": "5a200f72",
   "metadata": {},
   "outputs": [],
   "source": [
    "# predict future values\n",
    "knn_y_hat_test_best = knn_best.predict(X2_test)"
   ]
  },
  {
   "cell_type": "markdown",
   "id": "8c2bbe82",
   "metadata": {},
   "source": [
    "## Confusion Matrix - KNN"
   ]
  },
  {
   "cell_type": "code",
   "execution_count": 151,
   "id": "2e69d609",
   "metadata": {},
   "outputs": [],
   "source": [
    "from sklearn.metrics import confusion_matrix\n",
    "# Pass actual test and predicted target test outcomes to function\n",
    "knn_cnf_matrix_test_best = confusion_matrix(y2_test, knn_y_hat_test_best)"
   ]
  },
  {
   "cell_type": "code",
   "execution_count": 152,
   "id": "55037910",
   "metadata": {},
   "outputs": [
    {
     "name": "stdout",
     "output_type": "stream",
     "text": [
      "[[ 800  270]\n",
      " [  70 1018]]\n"
     ]
    }
   ],
   "source": [
    "print(knn_cnf_matrix_test_best)"
   ]
  },
  {
   "cell_type": "markdown",
   "id": "60b0cd9a",
   "metadata": {},
   "source": [
    "## Classification Report - KNN"
   ]
  },
  {
   "cell_type": "code",
   "execution_count": 153,
   "id": "da5a314a",
   "metadata": {},
   "outputs": [],
   "source": [
    "knn_report_test_best = classification_report(y2_test, knn_y_hat_test_best, digits=4)"
   ]
  },
  {
   "cell_type": "code",
   "execution_count": 93,
   "id": "61cbc462",
   "metadata": {},
   "outputs": [
    {
     "name": "stdout",
     "output_type": "stream",
     "text": [
      "              precision    recall  f1-score   support\n",
      "\n",
      "           0     0.9195    0.7477    0.8247      1070\n",
      "           1     0.7904    0.9357    0.8569      1088\n",
      "\n",
      "    accuracy                         0.8424      2158\n",
      "   macro avg     0.8550    0.8417    0.8408      2158\n",
      "weighted avg     0.8544    0.8424    0.8410      2158\n",
      "\n"
     ]
    }
   ],
   "source": [
    "print(knn_report_test_best)"
   ]
  },
  {
   "cell_type": "code",
   "execution_count": 148,
   "id": "ab89786d",
   "metadata": {},
   "outputs": [
    {
     "name": "stdout",
     "output_type": "stream",
     "text": [
      "              precision    recall  f1-score   support\n",
      "\n",
      "           0     0.9195    0.7477    0.8247      1070\n",
      "           1     0.7904    0.9357    0.8569      1088\n",
      "\n",
      "    accuracy                         0.8424      2158\n",
      "   macro avg     0.8550    0.8417    0.8408      2158\n",
      "weighted avg     0.8544    0.8424    0.8410      2158\n",
      "\n"
     ]
    }
   ],
   "source": [
    "print(knn_report_test_best)"
   ]
  },
  {
   "cell_type": "code",
   "execution_count": 154,
   "id": "f66c8fbb",
   "metadata": {},
   "outputs": [
    {
     "name": "stdout",
     "output_type": "stream",
     "text": [
      "              precision    recall  f1-score   support\n",
      "\n",
      "           0     0.9195    0.7477    0.8247      1070\n",
      "           1     0.7904    0.9357    0.8569      1088\n",
      "\n",
      "    accuracy                         0.8424      2158\n",
      "   macro avg     0.8550    0.8417    0.8408      2158\n",
      "weighted avg     0.8544    0.8424    0.8410      2158\n",
      "\n"
     ]
    }
   ],
   "source": [
    "print(knn_report_test_best)"
   ]
  },
  {
   "cell_type": "markdown",
   "id": "b66a01e7",
   "metadata": {},
   "source": [
    "## AUC - Area Under Curve - KNN"
   ]
  },
  {
   "cell_type": "code",
   "execution_count": 58,
   "id": "885388b4",
   "metadata": {},
   "outputs": [],
   "source": [
    "from sklearn.metrics import roc_auc_score\n",
    "# predict probabilities\n",
    "knn_probs_best = knn_best.predict_proba(X2_test)\n",
    "# keep probabilities for the positive outcome only\n",
    "knn_probs_best = knn_probs_best[:, 1]"
   ]
  },
  {
   "cell_type": "code",
   "execution_count": 59,
   "id": "7e8580ba",
   "metadata": {},
   "outputs": [
    {
     "name": "stdout",
     "output_type": "stream",
     "text": [
      "Logistic: ROC AUC_best=0.842\n"
     ]
    }
   ],
   "source": [
    "# calculate best AUC\n",
    "knn_auc_best = roc_auc_score(y_test, knn_probs_best)\n",
    "print('Logistic: ROC AUC_best=%.3f' % (knn_auc_best))"
   ]
  },
  {
   "cell_type": "code",
   "execution_count": 60,
   "id": "7aaa6fa5",
   "metadata": {},
   "outputs": [],
   "source": [
    "from sklearn.metrics import roc_curve, auc\n",
    "# Calculate fpr, tpr, and thresholds for test set\n",
    "knn_test_fpr_best, knn_test_tpr_best, knn_test_thresholds_best = roc_curve(y_test, knn_probs_best)"
   ]
  },
  {
   "cell_type": "code",
   "execution_count": 61,
   "id": "c5331227",
   "metadata": {
    "scrolled": false
   },
   "outputs": [
    {
     "data": {
      "image/png": "[encoded data removed]",
      "text/plain": [
       "<Figure size 432x288 with 1 Axes>"
      ]
     },
     "metadata": {
      "needs_background": "light"
     },
     "output_type": "display_data"
    }
   ],
   "source": [
    "from matplotlib import pyplot\n",
    "# plot the roc curve for the model\n",
    "pyplot.plot(knn_test_fpr_best, knn_test_tpr_best, marker='*', label='knn_best')\n",
    "# axis labels\n",
    "pyplot.xlabel('False Positive Rate')\n",
    "pyplot.ylabel('True Positive Rate')\n",
    "# show the legend\n",
    "pyplot.legend()\n",
    "# show the plot\n",
    "pyplot.show()"
   ]
  },
  {
   "cell_type": "markdown",
   "id": "10b9e7b1",
   "metadata": {},
   "source": [
    "# Random Forest Classifier"
   ]
  },
  {
   "cell_type": "code",
   "execution_count": 62,
   "id": "d7a21fb9",
   "metadata": {},
   "outputs": [
    {
     "name": "stdout",
     "output_type": "stream",
     "text": [
      "Best: 0.903460 using {'max_features': 'sqrt', 'n_estimators': 100}\n",
      "0.899135 (0.008304) with: {'max_features': 'sqrt', 'n_estimators': 10}\n",
      "0.903460 (0.010663) with: {'max_features': 'sqrt', 'n_estimators': 100}\n",
      "0.901336 (0.010354) with: {'max_features': 'sqrt', 'n_estimators': 1000}\n",
      "0.897900 (0.010238) with: {'max_features': 'log2', 'n_estimators': 10}\n",
      "0.902803 (0.009787) with: {'max_features': 'log2', 'n_estimators': 100}\n",
      "0.902031 (0.010831) with: {'max_features': 'log2', 'n_estimators': 1000}\n"
     ]
    }
   ],
   "source": [
    "from sklearn.ensemble import RandomForestClassifier\n",
    "# define models and parameters\n",
    "model = RandomForestClassifier()\n",
    "n_estimators = [10, 100, 1000]\n",
    "max_features = ['sqrt', 'log2']\n",
    "# define grid search\n",
    "grid = dict(n_estimators=n_estimators,max_features=max_features)\n",
    "cv = RepeatedStratifiedKFold(n_splits=10, n_repeats=3, random_state=1)\n",
    "grid_search = GridSearchCV(estimator=model, param_grid=grid, n_jobs=-1, cv=cv, scoring='accuracy',error_score=0)\n",
    "grid_result = grid_search.fit(X_ros, y_ros)\n",
    "# summarize results\n",
    "print(\"Best: %f using %s\" % (grid_result.best_score_, grid_result.best_params_))\n",
    "means = grid_result.cv_results_['mean_test_score']\n",
    "stds = grid_result.cv_results_['std_test_score']\n",
    "params = grid_result.cv_results_['params']\n",
    "for mean, stdev, param in zip(means, stds, params):\n",
    "    print(\"%f (%f) with: %r\" % (mean, stdev, param))\n"
   ]
  },
  {
   "cell_type": "markdown",
   "id": "66d4a061",
   "metadata": {},
   "source": [
    "## Random Forest Classifier with best hyperparameters"
   ]
  },
  {
   "cell_type": "code",
   "execution_count": 137,
   "id": "f9d52df7",
   "metadata": {},
   "outputs": [
    {
     "data": {
      "text/plain": [
       "RandomForestClassifier(max_features='sqrt')"
      ]
     },
     "execution_count": 137,
     "metadata": {},
     "output_type": "execute_result"
    }
   ],
   "source": [
    "from sklearn.ensemble import RandomForestClassifier\n",
    "rfc_best = RandomForestClassifier(max_features='sqrt', n_estimators= 100)\n",
    "rfc_best.fit(X_train, y_train)"
   ]
  },
  {
   "cell_type": "code",
   "execution_count": 138,
   "id": "59c3f218",
   "metadata": {},
   "outputs": [],
   "source": [
    "# predict future values\n",
    "rfc_y_hat_test_best = rfc_best.predict(X_test)"
   ]
  },
  {
   "cell_type": "markdown",
   "id": "39d14212",
   "metadata": {},
   "source": [
    "## Confusion Matrix - RFC"
   ]
  },
  {
   "cell_type": "code",
   "execution_count": 139,
   "id": "ce49da26",
   "metadata": {},
   "outputs": [],
   "source": [
    "# Pass actual test and predicted target test outcomes to function\n",
    "rfc_cnf_matrix_test_best = confusion_matrix(y_test, rfc_y_hat_test_best)"
   ]
  },
  {
   "cell_type": "code",
   "execution_count": 140,
   "id": "79c17cef",
   "metadata": {},
   "outputs": [
    {
     "name": "stdout",
     "output_type": "stream",
     "text": [
      "[[ 881  189]\n",
      " [  54 1034]]\n"
     ]
    }
   ],
   "source": [
    "print(rfc_cnf_matrix_test_best)"
   ]
  },
  {
   "cell_type": "markdown",
   "id": "301bb1ea",
   "metadata": {},
   "source": [
    "## Classification Report - RFC"
   ]
  },
  {
   "cell_type": "code",
   "execution_count": 141,
   "id": "b8b12e46",
   "metadata": {},
   "outputs": [],
   "source": [
    "rfc_report_test_best = classification_report(y_test, rfc_y_hat_test_best, digits=4)"
   ]
  },
  {
   "cell_type": "code",
   "execution_count": 95,
   "id": "b1a02715",
   "metadata": {
    "scrolled": true
   },
   "outputs": [
    {
     "name": "stdout",
     "output_type": "stream",
     "text": [
      "              precision    recall  f1-score   support\n",
      "\n",
      "           0     0.9441    0.8215    0.8786      1070\n",
      "           1     0.8443    0.9522    0.8950      1088\n",
      "\n",
      "    accuracy                         0.8874      2158\n",
      "   macro avg     0.8942    0.8869    0.8868      2158\n",
      "weighted avg     0.8938    0.8874    0.8869      2158\n",
      "\n"
     ]
    }
   ],
   "source": [
    "print(rfc_report_test_best)"
   ]
  },
  {
   "cell_type": "code",
   "execution_count": 136,
   "id": "b63506be",
   "metadata": {},
   "outputs": [
    {
     "name": "stdout",
     "output_type": "stream",
     "text": [
      "              precision    recall  f1-score   support\n",
      "\n",
      "           0     0.9413    0.8243    0.8789      1070\n",
      "           1     0.8460    0.9494    0.8948      1088\n",
      "\n",
      "    accuracy                         0.8874      2158\n",
      "   macro avg     0.8937    0.8869    0.8868      2158\n",
      "weighted avg     0.8933    0.8874    0.8869      2158\n",
      "\n"
     ]
    }
   ],
   "source": [
    "print(rfc_report_test_best)"
   ]
  },
  {
   "cell_type": "code",
   "execution_count": 142,
   "id": "5de192f7",
   "metadata": {},
   "outputs": [
    {
     "name": "stdout",
     "output_type": "stream",
     "text": [
      "              precision    recall  f1-score   support\n",
      "\n",
      "           0     0.9422    0.8234    0.8788      1070\n",
      "           1     0.8455    0.9504    0.8949      1088\n",
      "\n",
      "    accuracy                         0.8874      2158\n",
      "   macro avg     0.8939    0.8869    0.8868      2158\n",
      "weighted avg     0.8935    0.8874    0.8869      2158\n",
      "\n"
     ]
    }
   ],
   "source": [
    "print(rfc_report_test_best)"
   ]
  },
  {
   "cell_type": "markdown",
   "id": "f15cbb04",
   "metadata": {},
   "source": [
    "## AUC - Area Under Curve - RCF"
   ]
  },
  {
   "cell_type": "code",
   "execution_count": 69,
   "id": "f08aa6f8",
   "metadata": {},
   "outputs": [],
   "source": [
    "# predict probabilities\n",
    "rfc_probs_best = rfc_best.predict_proba(X_test)\n",
    "# keep probabilities for the positive outcome only\n",
    "rfc_probs_best = rfc_probs_best[:, 1]"
   ]
  },
  {
   "cell_type": "code",
   "execution_count": 70,
   "id": "bca868d6",
   "metadata": {},
   "outputs": [
    {
     "name": "stdout",
     "output_type": "stream",
     "text": [
      "Logistic: ROC AUC_best=0.960\n"
     ]
    }
   ],
   "source": [
    "# calculate best AUC\n",
    "rfc_auc_best = roc_auc_score(y_test, rfc_probs_best)\n",
    "print('Logistic: ROC AUC_best=%.3f' % (rfc_auc_best))"
   ]
  },
  {
   "cell_type": "code",
   "execution_count": 71,
   "id": "3a36ff06",
   "metadata": {},
   "outputs": [],
   "source": [
    "# Calculate fpr, tpr, and thresholds for test set\n",
    "rfc_test_fpr_best, rfc_test_tpr_best, rfc_test_thresholds_best = roc_curve(y_test, rfc_probs_best)"
   ]
  },
  {
   "cell_type": "code",
   "execution_count": 72,
   "id": "b939e459",
   "metadata": {
    "scrolled": false
   },
   "outputs": [
    {
     "data": {
      "image/png": "[encoded data removed]",
      "text/plain": [
       "<Figure size 432x288 with 1 Axes>"
      ]
     },
     "metadata": {
      "needs_background": "light"
     },
     "output_type": "display_data"
    }
   ],
   "source": [
    "# plot the roc curve for the model\n",
    "pyplot.plot(rfc_test_fpr_best, rfc_test_tpr_best, marker='*', label='rfc_best')\n",
    "# axis labels\n",
    "pyplot.xlabel('False Positive Rate')\n",
    "pyplot.ylabel('True Positive Rate')\n",
    "# show the legend\n",
    "pyplot.legend()\n",
    "# show the plot\n",
    "pyplot.show()"
   ]
  },
  {
   "cell_type": "markdown",
   "id": "3af3c86d",
   "metadata": {},
   "source": [
    "# Stochastic Gradient Boosting - XGBoost"
   ]
  },
  {
   "cell_type": "code",
   "execution_count": 73,
   "id": "e11fd716",
   "metadata": {},
   "outputs": [
    {
     "name": "stdout",
     "output_type": "stream",
     "text": [
      "Best: 0.909561 using {'learning_rate': 0.1, 'max_depth': 9, 'n_estimators': 1000, 'subsample': 1.0}\n",
      "0.766684 (0.012984) with: {'learning_rate': 0.001, 'max_depth': 3, 'n_estimators': 10, 'subsample': 0.5}\n",
      "0.765178 (0.014225) with: {'learning_rate': 0.001, 'max_depth': 3, 'n_estimators': 10, 'subsample': 0.7}\n",
      "0.743088 (0.015234) with: {'learning_rate': 0.001, 'max_depth': 3, 'n_estimators': 10, 'subsample': 1.0}\n",
      "0.769116 (0.012629) with: {'learning_rate': 0.001, 'max_depth': 3, 'n_estimators': 100, 'subsample': 0.5}\n",
      "0.767417 (0.012680) with: {'learning_rate': 0.001, 'max_depth': 3, 'n_estimators': 100, 'subsample': 0.7}\n",
      "0.744555 (0.016794) with: {'learning_rate': 0.001, 'max_depth': 3, 'n_estimators': 100, 'subsample': 1.0}\n",
      "0.775333 (0.014434) with: {'learning_rate': 0.001, 'max_depth': 3, 'n_estimators': 1000, 'subsample': 0.5}\n",
      "0.775217 (0.014932) with: {'learning_rate': 0.001, 'max_depth': 3, 'n_estimators': 1000, 'subsample': 0.7}\n",
      "0.774908 (0.015667) with: {'learning_rate': 0.001, 'max_depth': 3, 'n_estimators': 1000, 'subsample': 1.0}\n",
      "0.800395 (0.011191) with: {'learning_rate': 0.001, 'max_depth': 7, 'n_estimators': 10, 'subsample': 0.5}\n",
      "0.800665 (0.008981) with: {'learning_rate': 0.001, 'max_depth': 7, 'n_estimators': 10, 'subsample': 0.7}\n",
      "0.775757 (0.013251) with: {'learning_rate': 0.001, 'max_depth': 7, 'n_estimators': 10, 'subsample': 1.0}\n",
      "0.804294 (0.011631) with: {'learning_rate': 0.001, 'max_depth': 7, 'n_estimators': 100, 'subsample': 0.5}\n",
      "0.803059 (0.012390) with: {'learning_rate': 0.001, 'max_depth': 7, 'n_estimators': 100, 'subsample': 0.7}\n",
      "0.782707 (0.012085) with: {'learning_rate': 0.001, 'max_depth': 7, 'n_estimators': 100, 'subsample': 1.0}\n",
      "0.816922 (0.009543) with: {'learning_rate': 0.001, 'max_depth': 7, 'n_estimators': 1000, 'subsample': 0.5}\n",
      "0.817231 (0.009732) with: {'learning_rate': 0.001, 'max_depth': 7, 'n_estimators': 1000, 'subsample': 0.7}\n",
      "0.805645 (0.013039) with: {'learning_rate': 0.001, 'max_depth': 7, 'n_estimators': 1000, 'subsample': 1.0}\n",
      "0.830591 (0.012597) with: {'learning_rate': 0.001, 'max_depth': 9, 'n_estimators': 10, 'subsample': 0.5}\n",
      "0.833025 (0.013701) with: {'learning_rate': 0.001, 'max_depth': 9, 'n_estimators': 10, 'subsample': 0.7}\n",
      "0.795991 (0.013239) with: {'learning_rate': 0.001, 'max_depth': 9, 'n_estimators': 10, 'subsample': 1.0}\n",
      "0.838354 (0.011638) with: {'learning_rate': 0.001, 'max_depth': 9, 'n_estimators': 100, 'subsample': 0.5}\n",
      "0.841791 (0.010998) with: {'learning_rate': 0.001, 'max_depth': 9, 'n_estimators': 100, 'subsample': 0.7}\n",
      "0.804564 (0.012934) with: {'learning_rate': 0.001, 'max_depth': 9, 'n_estimators': 100, 'subsample': 1.0}\n",
      "0.851059 (0.010511) with: {'learning_rate': 0.001, 'max_depth': 9, 'n_estimators': 1000, 'subsample': 0.5}\n",
      "0.853955 (0.011535) with: {'learning_rate': 0.001, 'max_depth': 9, 'n_estimators': 1000, 'subsample': 0.7}\n",
      "0.840090 (0.013963) with: {'learning_rate': 0.001, 'max_depth': 9, 'n_estimators': 1000, 'subsample': 1.0}\n",
      "0.768885 (0.013490) with: {'learning_rate': 0.01, 'max_depth': 3, 'n_estimators': 10, 'subsample': 0.5}\n",
      "0.764945 (0.017791) with: {'learning_rate': 0.01, 'max_depth': 3, 'n_estimators': 10, 'subsample': 0.7}\n",
      "0.744439 (0.016487) with: {'learning_rate': 0.01, 'max_depth': 3, 'n_estimators': 10, 'subsample': 1.0}\n",
      "0.774908 (0.014465) with: {'learning_rate': 0.01, 'max_depth': 3, 'n_estimators': 100, 'subsample': 0.5}\n",
      "0.774907 (0.014309) with: {'learning_rate': 0.01, 'max_depth': 3, 'n_estimators': 100, 'subsample': 0.7}\n",
      "0.774522 (0.015626) with: {'learning_rate': 0.01, 'max_depth': 3, 'n_estimators': 100, 'subsample': 1.0}\n",
      "0.790278 (0.014474) with: {'learning_rate': 0.01, 'max_depth': 3, 'n_estimators': 1000, 'subsample': 0.5}\n",
      "0.790471 (0.015346) with: {'learning_rate': 0.01, 'max_depth': 3, 'n_estimators': 1000, 'subsample': 0.7}\n",
      "0.788694 (0.015666) with: {'learning_rate': 0.01, 'max_depth': 3, 'n_estimators': 1000, 'subsample': 1.0}\n",
      "0.800666 (0.012951) with: {'learning_rate': 0.01, 'max_depth': 7, 'n_estimators': 10, 'subsample': 0.5}\n",
      "0.799351 (0.010908) with: {'learning_rate': 0.01, 'max_depth': 7, 'n_estimators': 10, 'subsample': 0.7}\n",
      "0.783711 (0.012607) with: {'learning_rate': 0.01, 'max_depth': 7, 'n_estimators': 10, 'subsample': 1.0}\n",
      "0.815185 (0.010869) with: {'learning_rate': 0.01, 'max_depth': 7, 'n_estimators': 100, 'subsample': 0.5}\n",
      "0.816536 (0.010278) with: {'learning_rate': 0.01, 'max_depth': 7, 'n_estimators': 100, 'subsample': 0.7}\n",
      "0.805723 (0.012911) with: {'learning_rate': 0.01, 'max_depth': 7, 'n_estimators': 100, 'subsample': 1.0}\n",
      "0.868358 (0.009238) with: {'learning_rate': 0.01, 'max_depth': 7, 'n_estimators': 1000, 'subsample': 0.5}\n",
      "0.869207 (0.008700) with: {'learning_rate': 0.01, 'max_depth': 7, 'n_estimators': 1000, 'subsample': 0.7}\n",
      "0.865655 (0.008599) with: {'learning_rate': 0.01, 'max_depth': 7, 'n_estimators': 1000, 'subsample': 1.0}\n",
      "0.829202 (0.009933) with: {'learning_rate': 0.01, 'max_depth': 9, 'n_estimators': 10, 'subsample': 0.5}\n",
      "0.835921 (0.011318) with: {'learning_rate': 0.01, 'max_depth': 9, 'n_estimators': 10, 'subsample': 0.7}\n",
      "0.803908 (0.012597) with: {'learning_rate': 0.01, 'max_depth': 9, 'n_estimators': 10, 'subsample': 1.0}\n",
      "0.848858 (0.010318) with: {'learning_rate': 0.01, 'max_depth': 9, 'n_estimators': 100, 'subsample': 0.5}\n",
      "0.853183 (0.010722) with: {'learning_rate': 0.01, 'max_depth': 9, 'n_estimators': 100, 'subsample': 0.7}\n",
      "0.840901 (0.014088) with: {'learning_rate': 0.01, 'max_depth': 9, 'n_estimators': 100, 'subsample': 1.0}\n",
      "0.892879 (0.009363) with: {'learning_rate': 0.01, 'max_depth': 9, 'n_estimators': 1000, 'subsample': 0.5}\n",
      "0.895041 (0.009105) with: {'learning_rate': 0.01, 'max_depth': 9, 'n_estimators': 1000, 'subsample': 0.7}\n",
      "0.892686 (0.010421) with: {'learning_rate': 0.01, 'max_depth': 9, 'n_estimators': 1000, 'subsample': 1.0}\n",
      "0.772940 (0.014903) with: {'learning_rate': 0.1, 'max_depth': 3, 'n_estimators': 10, 'subsample': 0.5}\n",
      "0.771857 (0.015328) with: {'learning_rate': 0.1, 'max_depth': 3, 'n_estimators': 10, 'subsample': 0.7}\n",
      "0.773710 (0.015949) with: {'learning_rate': 0.1, 'max_depth': 3, 'n_estimators': 10, 'subsample': 1.0}\n",
      "0.790085 (0.013637) with: {'learning_rate': 0.1, 'max_depth': 3, 'n_estimators': 100, 'subsample': 0.5}\n",
      "0.789081 (0.014351) with: {'learning_rate': 0.1, 'max_depth': 3, 'n_estimators': 100, 'subsample': 0.7}\n",
      "0.790123 (0.014698) with: {'learning_rate': 0.1, 'max_depth': 3, 'n_estimators': 100, 'subsample': 1.0}\n",
      "0.848317 (0.009722) with: {'learning_rate': 0.1, 'max_depth': 3, 'n_estimators': 1000, 'subsample': 0.5}\n",
      "0.852255 (0.008300) with: {'learning_rate': 0.1, 'max_depth': 3, 'n_estimators': 1000, 'subsample': 0.7}\n",
      "0.850480 (0.013557) with: {'learning_rate': 0.1, 'max_depth': 3, 'n_estimators': 1000, 'subsample': 1.0}\n",
      "0.807615 (0.012126) with: {'learning_rate': 0.1, 'max_depth': 7, 'n_estimators': 10, 'subsample': 0.5}\n",
      "0.811980 (0.012364) with: {'learning_rate': 0.1, 'max_depth': 7, 'n_estimators': 10, 'subsample': 0.7}\n",
      "0.805530 (0.012352) with: {'learning_rate': 0.1, 'max_depth': 7, 'n_estimators': 10, 'subsample': 1.0}\n",
      "0.865385 (0.010990) with: {'learning_rate': 0.1, 'max_depth': 7, 'n_estimators': 100, 'subsample': 0.5}\n",
      "0.867779 (0.009795) with: {'learning_rate': 0.1, 'max_depth': 7, 'n_estimators': 100, 'subsample': 0.7}\n",
      "0.864882 (0.009184) with: {'learning_rate': 0.1, 'max_depth': 7, 'n_estimators': 100, 'subsample': 1.0}\n",
      "0.902572 (0.008336) with: {'learning_rate': 0.1, 'max_depth': 7, 'n_estimators': 1000, 'subsample': 0.5}\n",
      "0.903112 (0.010063) with: {'learning_rate': 0.1, 'max_depth': 7, 'n_estimators': 1000, 'subsample': 0.7}\n",
      "0.904656 (0.010231) with: {'learning_rate': 0.1, 'max_depth': 7, 'n_estimators': 1000, 'subsample': 1.0}\n",
      "0.838200 (0.012036) with: {'learning_rate': 0.1, 'max_depth': 9, 'n_estimators': 10, 'subsample': 0.5}\n",
      "0.842988 (0.013307) with: {'learning_rate': 0.1, 'max_depth': 9, 'n_estimators': 10, 'subsample': 0.7}\n",
      "0.836422 (0.013690) with: {'learning_rate': 0.1, 'max_depth': 9, 'n_estimators': 10, 'subsample': 1.0}\n",
      "0.890485 (0.009149) with: {'learning_rate': 0.1, 'max_depth': 9, 'n_estimators': 100, 'subsample': 0.5}\n",
      "0.893111 (0.008486) with: {'learning_rate': 0.1, 'max_depth': 9, 'n_estimators': 100, 'subsample': 0.7}\n",
      "0.890755 (0.008535) with: {'learning_rate': 0.1, 'max_depth': 9, 'n_estimators': 100, 'subsample': 1.0}\n",
      "0.906935 (0.007628) with: {'learning_rate': 0.1, 'max_depth': 9, 'n_estimators': 1000, 'subsample': 0.5}\n",
      "0.906202 (0.008601) with: {'learning_rate': 0.1, 'max_depth': 9, 'n_estimators': 1000, 'subsample': 0.7}\n",
      "0.909561 (0.008716) with: {'learning_rate': 0.1, 'max_depth': 9, 'n_estimators': 1000, 'subsample': 1.0}\n",
      "Wall time: 26min 35s\n"
     ]
    }
   ],
   "source": [
    "%%time\n",
    "from sklearn.ensemble import GradientBoostingClassifier\n",
    "model = GradientBoostingClassifier()\n",
    "n_estimators = [10, 100, 1000]\n",
    "learning_rate = [0.001, 0.01, 0.1]\n",
    "subsample = [0.5, 0.7, 1.0]\n",
    "max_depth = [3, 7, 9]\n",
    "# define grid search\n",
    "grid = dict(learning_rate=learning_rate, n_estimators=n_estimators, subsample=subsample, max_depth=max_depth)\n",
    "cv = RepeatedStratifiedKFold(n_splits=10, n_repeats=3, random_state=1)\n",
    "grid_search = GridSearchCV(estimator=model, param_grid=grid, n_jobs=-1, cv=cv, scoring='accuracy',error_score=0)\n",
    "grid_result = grid_search.fit(X_ros, y_ros)\n",
    "# summarize results\n",
    "print(\"Best: %f using %s\" % (grid_result.best_score_, grid_result.best_params_))\n",
    "means = grid_result.cv_results_['mean_test_score']\n",
    "stds = grid_result.cv_results_['std_test_score']\n",
    "params = grid_result.cv_results_['params']\n",
    "for mean, stdev, param in zip(means, stds, params):\n",
    "    print(\"%f (%f) with: %r\" % (mean, stdev, param))"
   ]
  },
  {
   "cell_type": "markdown",
   "id": "83b938c6",
   "metadata": {},
   "source": [
    "## Stochastic Gradient Boosting with best hyperparameters"
   ]
  },
  {
   "cell_type": "code",
   "execution_count": 126,
   "id": "41c08245",
   "metadata": {},
   "outputs": [
    {
     "name": "stdout",
     "output_type": "stream",
     "text": [
      "Wall time: 19.3 s\n"
     ]
    },
    {
     "data": {
      "text/plain": [
       "GradientBoostingClassifier(max_depth=9, n_estimators=1000)"
      ]
     },
     "execution_count": 126,
     "metadata": {},
     "output_type": "execute_result"
    }
   ],
   "source": [
    "%%time\n",
    "from sklearn.ensemble import GradientBoostingClassifier\n",
    "xgb_best = GradientBoostingClassifier(learning_rate=0.1, max_depth=9, n_estimators=1000, subsample= 1.0)\n",
    "xgb_best.fit(X_train, y_train)"
   ]
  },
  {
   "cell_type": "code",
   "execution_count": 127,
   "id": "ec3f7f17",
   "metadata": {},
   "outputs": [],
   "source": [
    "# predict future values\n",
    "xgb_y_hat_test_best = xgb_best.predict(X_test)"
   ]
  },
  {
   "cell_type": "markdown",
   "id": "020a791f",
   "metadata": {},
   "source": [
    "## Confusion Matrix - XGB"
   ]
  },
  {
   "cell_type": "code",
   "execution_count": 128,
   "id": "9eda7483",
   "metadata": {},
   "outputs": [],
   "source": [
    "# Pass actual test and predicted target test outcomes to function\n",
    "xgb_cnf_matrix_test_best = confusion_matrix(y_test, xgb_y_hat_test_best)"
   ]
  },
  {
   "cell_type": "code",
   "execution_count": 129,
   "id": "3e057ec6",
   "metadata": {},
   "outputs": [
    {
     "name": "stdout",
     "output_type": "stream",
     "text": [
      "[[ 896  174]\n",
      " [  60 1028]]\n"
     ]
    }
   ],
   "source": [
    "print(xgb_cnf_matrix_test_best)"
   ]
  },
  {
   "cell_type": "markdown",
   "id": "5d86582b",
   "metadata": {},
   "source": [
    "## Classification Report - XGB"
   ]
  },
  {
   "cell_type": "code",
   "execution_count": 119,
   "id": "4882ea60",
   "metadata": {},
   "outputs": [],
   "source": [
    "xgb_report_test_best = classification_report(y_test, xgb_y_hat_test_best, digits=4)"
   ]
  },
  {
   "cell_type": "code",
   "execution_count": 114,
   "id": "8e2b9ff2",
   "metadata": {
    "scrolled": true
   },
   "outputs": [
    {
     "name": "stdout",
     "output_type": "stream",
     "text": [
      "              precision    recall  f1-score   support\n",
      "\n",
      "           0     0.9382    0.8364    0.8844      1070\n",
      "           1     0.8547    0.9458    0.8979      1088\n",
      "\n",
      "    accuracy                         0.8916      2158\n",
      "   macro avg     0.8964    0.8911    0.8911      2158\n",
      "weighted avg     0.8961    0.8916    0.8912      2158\n",
      "\n"
     ]
    }
   ],
   "source": [
    "print(xgb_report_test_best)"
   ]
  },
  {
   "cell_type": "code",
   "execution_count": 120,
   "id": "5b701499",
   "metadata": {},
   "outputs": [
    {
     "name": "stdout",
     "output_type": "stream",
     "text": [
      "              precision    recall  f1-score   support\n",
      "\n",
      "           0     0.9386    0.8430    0.8882      1070\n",
      "           1     0.8596    0.9458    0.9007      1088\n",
      "\n",
      "    accuracy                         0.8948      2158\n",
      "   macro avg     0.8991    0.8944    0.8944      2158\n",
      "weighted avg     0.8988    0.8948    0.8945      2158\n",
      "\n"
     ]
    }
   ],
   "source": [
    "print(xgb_report_test_best)"
   ]
  },
  {
   "cell_type": "code",
   "execution_count": 125,
   "id": "637ecaeb",
   "metadata": {},
   "outputs": [
    {
     "name": "stdout",
     "output_type": "stream",
     "text": [
      "              precision    recall  f1-score   support\n",
      "\n",
      "           0     0.9386    0.8430    0.8882      1070\n",
      "           1     0.8596    0.9458    0.9007      1088\n",
      "\n",
      "    accuracy                         0.8948      2158\n",
      "   macro avg     0.8991    0.8944    0.8944      2158\n",
      "weighted avg     0.8988    0.8948    0.8945      2158\n",
      "\n"
     ]
    }
   ],
   "source": [
    "print(xgb_report_test_best)"
   ]
  },
  {
   "cell_type": "code",
   "execution_count": 130,
   "id": "6719a3e9",
   "metadata": {},
   "outputs": [
    {
     "name": "stdout",
     "output_type": "stream",
     "text": [
      "              precision    recall  f1-score   support\n",
      "\n",
      "           0     0.9386    0.8430    0.8882      1070\n",
      "           1     0.8596    0.9458    0.9007      1088\n",
      "\n",
      "    accuracy                         0.8948      2158\n",
      "   macro avg     0.8991    0.8944    0.8944      2158\n",
      "weighted avg     0.8988    0.8948    0.8945      2158\n",
      "\n"
     ]
    }
   ],
   "source": [
    "print(xgb_report_test_best)"
   ]
  },
  {
   "cell_type": "markdown",
   "id": "201183c7",
   "metadata": {},
   "source": [
    "## AUC - Area Under Curve - XGB"
   ]
  },
  {
   "cell_type": "code",
   "execution_count": 80,
   "id": "46296218",
   "metadata": {},
   "outputs": [],
   "source": [
    "# predict probabilities\n",
    "xgb_probs_best = xgb_best.predict_proba(X_test)\n",
    "# keep probabilities for the positive outcome only\n",
    "xgb_probs_best = xgb_probs_best[:, 1]"
   ]
  },
  {
   "cell_type": "code",
   "execution_count": 81,
   "id": "ed0a8ceb",
   "metadata": {},
   "outputs": [
    {
     "name": "stdout",
     "output_type": "stream",
     "text": [
      "Logistic: ROC AUC_best=0.960\n"
     ]
    }
   ],
   "source": [
    "# calculate best AUC\n",
    "xgb_auc_best = roc_auc_score(y_test, xgb_probs_best)\n",
    "print('Logistic: ROC AUC_best=%.3f' % (xgb_auc_best))"
   ]
  },
  {
   "cell_type": "code",
   "execution_count": 82,
   "id": "8599dae8",
   "metadata": {},
   "outputs": [],
   "source": [
    "# Calculate fpr, tpr, and thresholds for test set\n",
    "xgb_test_fpr_best, xgb_test_tpr_best, xgb_test_thresholds_best = roc_curve(y_test, xgb_probs_best)"
   ]
  },
  {
   "cell_type": "code",
   "execution_count": 83,
   "id": "2bb59f1d",
   "metadata": {
    "scrolled": false
   },
   "outputs": [
    {
     "data": {
      "image/png": "[encoded data removed]",
      "text/plain": [
       "<Figure size 432x288 with 1 Axes>"
      ]
     },
     "metadata": {
      "needs_background": "light"
     },
     "output_type": "display_data"
    }
   ],
   "source": [
    "# plot the roc curve for the model\n",
    "pyplot.plot(xgb_test_fpr_best, xgb_test_tpr_best, marker='*', label='xgb_best')\n",
    "# axis labels\n",
    "pyplot.xlabel('False Positive Rate')\n",
    "pyplot.ylabel('True Positive Rate')\n",
    "# show the legend\n",
    "pyplot.legend()\n",
    "# show the plot\n",
    "pyplot.show()"
   ]
  },
  {
   "cell_type": "markdown",
   "id": "43bec79d",
   "metadata": {},
   "source": [
    "# Results of models"
   ]
  },
  {
   "cell_type": "markdown",
   "id": "7e800e64",
   "metadata": {},
   "source": [
    "## Confusion Matrix"
   ]
  },
  {
   "cell_type": "code",
   "execution_count": 155,
   "id": "9a251c6e",
   "metadata": {},
   "outputs": [
    {
     "name": "stdout",
     "output_type": "stream",
     "text": [
      "Confusion Matrix of the models\n",
      "\n",
      " Logistic Regression:\n",
      "[[768 302]\n",
      " [201 887]]\n",
      "\n",
      " K-Nearest Neighbors:\n",
      "[[ 800  270]\n",
      " [  70 1018]]\n",
      "\n",
      " Random Forest Classifier:\n",
      "[[ 881  189]\n",
      " [  54 1034]]\n",
      "\n",
      " XGBoost:\n",
      "[[ 896  174]\n",
      " [  60 1028]]\n"
     ]
    }
   ],
   "source": [
    "print('Confusion Matrix of the models')\n",
    "print('\\n Logistic Regression:')\n",
    "print(lr_cnf_matrix_test_best)\n",
    "print('\\n K-Nearest Neighbors:')\n",
    "print(knn_cnf_matrix_test_best)\n",
    "print('\\n Random Forest Classifier:')\n",
    "print(rfc_cnf_matrix_test_best)\n",
    "print('\\n XGBoost:')\n",
    "print(xgb_cnf_matrix_test_best)"
   ]
  },
  {
   "cell_type": "markdown",
   "id": "b89f7396",
   "metadata": {},
   "source": [
    "## Classification Report"
   ]
  },
  {
   "cell_type": "code",
   "execution_count": 156,
   "id": "f52c0a90",
   "metadata": {},
   "outputs": [
    {
     "name": "stdout",
     "output_type": "stream",
     "text": [
      "Classification Report of the models\n",
      "\n",
      " Logistic Regression:\n",
      "              precision    recall  f1-score   support\n",
      "\n",
      "           0     0.7926    0.7178    0.7533      1070\n",
      "           1     0.7460    0.8153    0.7791      1088\n",
      "\n",
      "    accuracy                         0.7669      2158\n",
      "   macro avg     0.7693    0.7665    0.7662      2158\n",
      "weighted avg     0.7691    0.7669    0.7663      2158\n",
      "\n",
      "\n",
      " K-Nearest Neighbors:\n",
      "              precision    recall  f1-score   support\n",
      "\n",
      "           0     0.9195    0.7477    0.8247      1070\n",
      "           1     0.7904    0.9357    0.8569      1088\n",
      "\n",
      "    accuracy                         0.8424      2158\n",
      "   macro avg     0.8550    0.8417    0.8408      2158\n",
      "weighted avg     0.8544    0.8424    0.8410      2158\n",
      "\n",
      "\n",
      " Random Forest Classifier:\n",
      "              precision    recall  f1-score   support\n",
      "\n",
      "           0     0.9422    0.8234    0.8788      1070\n",
      "           1     0.8455    0.9504    0.8949      1088\n",
      "\n",
      "    accuracy                         0.8874      2158\n",
      "   macro avg     0.8939    0.8869    0.8868      2158\n",
      "weighted avg     0.8935    0.8874    0.8869      2158\n",
      "\n",
      "\n",
      " XGBoost:\n",
      "              precision    recall  f1-score   support\n",
      "\n",
      "           0     0.9386    0.8430    0.8882      1070\n",
      "           1     0.8596    0.9458    0.9007      1088\n",
      "\n",
      "    accuracy                         0.8948      2158\n",
      "   macro avg     0.8991    0.8944    0.8944      2158\n",
      "weighted avg     0.8988    0.8948    0.8945      2158\n",
      "\n"
     ]
    }
   ],
   "source": [
    "print('Classification Report of the models')\n",
    "print('\\n Logistic Regression:')\n",
    "print(lr_report_test_best)\n",
    "print('\\n K-Nearest Neighbors:')\n",
    "print(knn_report_test_best)\n",
    "print('\\n Random Forest Classifier:')\n",
    "print(rfc_report_test_best)\n",
    "print('\\n XGBoost:')\n",
    "print(xgb_report_test_best)"
   ]
  },
  {
   "cell_type": "markdown",
   "id": "d430c82e",
   "metadata": {},
   "source": [
    "Compare to modeling without customer segmentation, the random forest classifier model perform a little better has accuracy .8874 vs .8826. And the XGboot perform a little worse .8948 vs .8953. Therefore, adding customer segmentation dose not improve the model predicting customer churn."
   ]
  },
  {
   "cell_type": "markdown",
   "id": "45d47dfd",
   "metadata": {},
   "source": [
    "## Area Under Curve"
   ]
  },
  {
   "cell_type": "code",
   "execution_count": 157,
   "id": "5082abb7",
   "metadata": {},
   "outputs": [
    {
     "name": "stdout",
     "output_type": "stream",
     "text": [
      "Area under curve of the models\n",
      "\n",
      " Logistic Regression:\n",
      "0.8397320815008247\n",
      "\n",
      " K-Nearest Neighbors:\n",
      "0.8416626580538757\n",
      "\n",
      " Random Forest Classifier:\n",
      "0.9595077137163277\n",
      "\n",
      " XGBoost:\n",
      "0.9595343423584386\n"
     ]
    }
   ],
   "source": [
    "print('Area under curve of the models')\n",
    "print('\\n Logistic Regression:')\n",
    "print(lr_auc_best)\n",
    "print('\\n K-Nearest Neighbors:')\n",
    "print(knn_auc_best)\n",
    "print('\\n Random Forest Classifier:')\n",
    "print(rfc_auc_best)\n",
    "print('\\n XGBoost:')\n",
    "print(xgb_auc_best)"
   ]
  },
  {
   "cell_type": "code",
   "execution_count": null,
   "id": "b1f7c7a5",
   "metadata": {},
   "outputs": [],
   "source": [
    "# https://machinelearningmastery.com/hyperparameters-for-classification-machine-learning-algorithms/\n",
    "#https://machinelearningmastery.com/roc-curves-and-precision-recall-curves-for-classification-in-python/"
   ]
  }
 ],
 "metadata": {
  "kernelspec": {
   "display_name": "Python 3",
   "language": "python",
   "name": "python3"
  },
  "language_info": {
   "codemirror_mode": {
    "name": "ipython",
    "version": 3
   },
   "file_extension": ".py",
   "mimetype": "text/x-python",
   "name": "python",
   "nbconvert_exporter": "python",
   "pygments_lexer": "ipython3",
   "version": "3.8.10"
  },
  "toc": {
   "base_numbering": 1,
   "nav_menu": {},
   "number_sections": true,
   "sideBar": true,
   "skip_h1_title": false,
   "title_cell": "Table of Contents",
   "title_sidebar": "Contents",
   "toc_cell": false,
   "toc_position": {},
   "toc_section_display": true,
   "toc_window_display": false
  }
 },
 "nbformat": 4,
 "nbformat_minor": 5
}
